{
 "cells": [
  {
   "cell_type": "code",
   "execution_count": 5,
   "metadata": {
    "pycharm": {
     "name": "#%%\n"
    }
   },
   "outputs": [],
   "source": [
    "#!pip install gensim --upgrade\n",
    "#!pip install keras --upgrade\n",
    "#!pip install pandas --upgrade"
   ]
  },
  {
   "cell_type": "code",
   "execution_count": 6,
   "metadata": {
    "pycharm": {
     "name": "#%%\n"
    }
   },
   "outputs": [],
   "source": [
    "# DataFrame\n",
    "import pandas as pd\n",
    "# Matplot\n",
    "import matplotlib.pyplot as plt\n",
    "%matplotlib inline\n",
    "from sklearn.model_selection import train_test_split\n",
    "from sklearn.preprocessing import LabelEncoder\n",
    "from sklearn.metrics import confusion_matrix, classification_report, accuracy_score\n",
    "from sklearn.manifold import TSNE\n",
    "from sklearn.feature_extraction.text import TfidfVectorizer\n",
    "\n",
    "# Keras\n",
    "from keras.preprocessing.text import Tokenizer\n",
    "from keras.preprocessing.sequence import pad_sequences\n",
    "from keras.models import Sequential\n",
    "from keras.layers import Activation, Dense, Dropout, Embedding, Flatten, Conv1D, MaxPooling1D, LSTM\n",
    "from keras import utils\n",
    "from keras.callbacks import ReduceLROnPlateau, EarlyStopping\n",
    "\n",
    "# nltk\n",
    "import nltk\n",
    "from nltk.corpus import stopwords\n",
    "from  nltk.stem import SnowballStemmer\n",
    "\n",
    "# Word2vec\n",
    "import gensim\n",
    "\n",
    "# Utility\n",
    "import re\n",
    "import numpy as np\n",
    "import os\n",
    "from collections import Counter\n",
    "import logging\n",
    "import time\n",
    "import pickle\n",
    "import itertools\n",
    "\n",
    "# Set log\n",
    "logging.basicConfig(format='%(asctime)s : %(levelname)s : %(message)s', level=logging.INFO)"
   ]
  },
  {
   "cell_type": "code",
   "execution_count": 7,
   "metadata": {
    "pycharm": {
     "name": "#%%\n"
    }
   },
   "outputs": [],
   "source": [
    "# DATASET\n",
    "DATASET_COLUMNS = [\"target\", \"ids\", \"date\", \"flag\", \"user\", \"text\"]\n",
    "DATASET_ENCODING = \"ISO-8859-1\"\n",
    "TRAIN_SIZE = 0.8\n",
    "\n",
    "# TEXT CLENAING\n",
    "TEXT_CLEANING_RE = \"@\\S+|https?:\\S+|http?:\\S|[^A-Za-z0-9]+\"\n",
    "\n",
    "# WORD2VEC\n",
    "W2V_SIZE = 300\n",
    "W2V_WINDOW = 7\n",
    "W2V_EPOCH = 32\n",
    "W2V_MIN_COUNT = 10\n",
    "\n",
    "# KERAS\n",
    "SEQUENCE_LENGTH = 300\n",
    "EPOCHS = 8\n",
    "BATCH_SIZE = 1024\n",
    "\n",
    "# SENTIMENT\n",
    "POSITIVE = \"POSITIVE\"\n",
    "NEGATIVE = \"NEGATIVE\"\n",
    "NEUTRAL = \"NEUTRAL\"\n",
    "SENTIMENT_THRESHOLDS = (0.4, 0.7)\n",
    "\n",
    "# EXPORT\n",
    "KERAS_MODEL = \"model.h5\"\n",
    "WORD2VEC_MODEL = \"model.w2v\"\n",
    "TOKENIZER_MODEL = \"tokenizer.pkl\"\n",
    "ENCODER_MODEL = \"encoder.pkl\""
   ]
  },
  {
   "cell_type": "code",
   "execution_count": 8,
   "metadata": {
    "pycharm": {
     "name": "#%%\n"
    }
   },
   "outputs": [
    {
     "name": "stdout",
     "output_type": "stream",
     "text": [
      "Open file: ..\\notebookGOld/input\\training.1600000.processed.noemoticon.csv\n"
     ]
    }
   ],
   "source": [
    "dataset_filename = os.listdir(\"../notebookGold/input\")[0]\n",
    "dataset_path = os.path.join(\"..\",\"notebookGOld/input\",dataset_filename)\n",
    "print(\"Open file:\", dataset_path)\n",
    "df = pd.read_csv(dataset_path, encoding =DATASET_ENCODING , names=DATASET_COLUMNS)"
   ]
  },
  {
   "cell_type": "code",
   "execution_count": 9,
   "metadata": {
    "pycharm": {
     "name": "#%%\n"
    }
   },
   "outputs": [
    {
     "name": "stdout",
     "output_type": "stream",
     "text": [
      "Dataset size: 1600000\n"
     ]
    }
   ],
   "source": [
    "print(\"Dataset size:\", len(df))"
   ]
  },
  {
   "cell_type": "code",
   "execution_count": 10,
   "metadata": {
    "pycharm": {
     "name": "#%%\n"
    }
   },
   "outputs": [
    {
     "data": {
      "text/plain": "   target         ids                          date      flag  \\\n0       0  1467810369  Mon Apr 06 22:19:45 PDT 2009  NO_QUERY   \n1       0  1467810672  Mon Apr 06 22:19:49 PDT 2009  NO_QUERY   \n2       0  1467810917  Mon Apr 06 22:19:53 PDT 2009  NO_QUERY   \n3       0  1467811184  Mon Apr 06 22:19:57 PDT 2009  NO_QUERY   \n4       0  1467811193  Mon Apr 06 22:19:57 PDT 2009  NO_QUERY   \n\n              user                                               text  \n0  _TheSpecialOne_  @switchfoot http://twitpic.com/2y1zl - Awww, t...  \n1    scotthamilton  is upset that he can't update his Facebook by ...  \n2         mattycus  @Kenichan I dived many times for the ball. Man...  \n3          ElleCTF    my whole body feels itchy and like its on fire   \n4           Karoli  @nationwideclass no, it's not behaving at all....  ",
      "text/html": "<div>\n<style scoped>\n    .dataframe tbody tr th:only-of-type {\n        vertical-align: middle;\n    }\n\n    .dataframe tbody tr th {\n        vertical-align: top;\n    }\n\n    .dataframe thead th {\n        text-align: right;\n    }\n</style>\n<table border=\"1\" class=\"dataframe\">\n  <thead>\n    <tr style=\"text-align: right;\">\n      <th></th>\n      <th>target</th>\n      <th>ids</th>\n      <th>date</th>\n      <th>flag</th>\n      <th>user</th>\n      <th>text</th>\n    </tr>\n  </thead>\n  <tbody>\n    <tr>\n      <th>0</th>\n      <td>0</td>\n      <td>1467810369</td>\n      <td>Mon Apr 06 22:19:45 PDT 2009</td>\n      <td>NO_QUERY</td>\n      <td>_TheSpecialOne_</td>\n      <td>@switchfoot http://twitpic.com/2y1zl - Awww, t...</td>\n    </tr>\n    <tr>\n      <th>1</th>\n      <td>0</td>\n      <td>1467810672</td>\n      <td>Mon Apr 06 22:19:49 PDT 2009</td>\n      <td>NO_QUERY</td>\n      <td>scotthamilton</td>\n      <td>is upset that he can't update his Facebook by ...</td>\n    </tr>\n    <tr>\n      <th>2</th>\n      <td>0</td>\n      <td>1467810917</td>\n      <td>Mon Apr 06 22:19:53 PDT 2009</td>\n      <td>NO_QUERY</td>\n      <td>mattycus</td>\n      <td>@Kenichan I dived many times for the ball. Man...</td>\n    </tr>\n    <tr>\n      <th>3</th>\n      <td>0</td>\n      <td>1467811184</td>\n      <td>Mon Apr 06 22:19:57 PDT 2009</td>\n      <td>NO_QUERY</td>\n      <td>ElleCTF</td>\n      <td>my whole body feels itchy and like its on fire</td>\n    </tr>\n    <tr>\n      <th>4</th>\n      <td>0</td>\n      <td>1467811193</td>\n      <td>Mon Apr 06 22:19:57 PDT 2009</td>\n      <td>NO_QUERY</td>\n      <td>Karoli</td>\n      <td>@nationwideclass no, it's not behaving at all....</td>\n    </tr>\n  </tbody>\n</table>\n</div>"
     },
     "execution_count": 10,
     "metadata": {},
     "output_type": "execute_result"
    }
   ],
   "source": [
    "df.head(5)"
   ]
  },
  {
   "cell_type": "code",
   "execution_count": 11,
   "metadata": {
    "pycharm": {
     "name": "#%%\n"
    }
   },
   "outputs": [],
   "source": [
    "decode_map = {0: \"NEGATIVE\", 2: \"NEUTRAL\", 4: \"POSITIVE\"}\n",
    "def decode_sentiment(label):\n",
    "    return decode_map[int(label)]"
   ]
  },
  {
   "cell_type": "code",
   "execution_count": 12,
   "metadata": {
    "pycharm": {
     "name": "#%%\n"
    }
   },
   "outputs": [
    {
     "name": "stdout",
     "output_type": "stream",
     "text": [
      "Wall time: 362 ms\n"
     ]
    }
   ],
   "source": [
    "%%time\n",
    "df.target = df.target.apply(lambda x: decode_sentiment(x))"
   ]
  },
  {
   "cell_type": "code",
   "execution_count": 13,
   "metadata": {
    "pycharm": {
     "name": "#%%\n"
    }
   },
   "outputs": [
    {
     "data": {
      "text/plain": "Text(0.5, 1.0, 'Dataset labels distribuition')"
     },
     "execution_count": 13,
     "metadata": {},
     "output_type": "execute_result"
    },
    {
     "data": {
      "text/plain": "<Figure size 1152x576 with 1 Axes>",
      "image/png": "[encoded data removed]"
     },
     "metadata": {
      "needs_background": "light"
     },
     "output_type": "display_data"
    }
   ],
   "source": [
    "target_cnt = Counter(df.target)\n",
    "plt.figure(figsize=(16,8))\n",
    "plt.bar(target_cnt.keys(), target_cnt.values())\n",
    "plt.title(\"Dataset labels distribuition\")"
   ]
  },
  {
   "cell_type": "code",
   "execution_count": 14,
   "metadata": {
    "pycharm": {
     "name": "#%%\n"
    }
   },
   "outputs": [],
   "source": [
    "stop_words = stopwords.words(\"english\")\n",
    "stemmer = SnowballStemmer(\"english\")"
   ]
  },
  {
   "cell_type": "code",
   "execution_count": 15,
   "metadata": {
    "pycharm": {
     "name": "#%%\n"
    }
   },
   "outputs": [],
   "source": [
    "def preprocess(text, stem=False):\n",
    "    # Remove link,user and special characters\n",
    "    text = re.sub(TEXT_CLEANING_RE, ' ', str(text).lower()).strip()\n",
    "    tokens = []\n",
    "    for token in text.split():\n",
    "        if token not in stop_words:\n",
    "            if stem:\n",
    "                tokens.append(stemmer.stem(token))\n",
    "            else:\n",
    "                tokens.append(token)\n",
    "    return \" \".join(tokens)"
   ]
  },
  {
   "cell_type": "code",
   "execution_count": 16,
   "metadata": {
    "pycharm": {
     "name": "#%%\n"
    }
   },
   "outputs": [
    {
     "name": "stdout",
     "output_type": "stream",
     "text": [
      "Wall time: 41.4 s\n"
     ]
    }
   ],
   "source": [
    "%%time\n",
    "df.text = df.text.apply(lambda x: preprocess(x))"
   ]
  },
  {
   "cell_type": "code",
   "execution_count": 17,
   "metadata": {
    "pycharm": {
     "name": "#%%\n"
    }
   },
   "outputs": [
    {
     "name": "stdout",
     "output_type": "stream",
     "text": [
      "TRAIN size: 1280000\n",
      "TEST size: 320000\n"
     ]
    }
   ],
   "source": [
    "df_train, df_test = train_test_split(df, test_size=1-TRAIN_SIZE, random_state=42)\n",
    "print(\"TRAIN size:\", len(df_train))\n",
    "print(\"TEST size:\", len(df_test))"
   ]
  },
  {
   "cell_type": "code",
   "execution_count": 18,
   "metadata": {
    "pycharm": {
     "name": "#%%\n"
    }
   },
   "outputs": [
    {
     "name": "stdout",
     "output_type": "stream",
     "text": [
      "Wall time: 2.53 s\n"
     ]
    }
   ],
   "source": [
    "%%time\n",
    "documents = [_text.split() for _text in df_train.text]"
   ]
  },
  {
   "cell_type": "code",
   "execution_count": 19,
   "metadata": {
    "pycharm": {
     "name": "#%%\n"
    }
   },
   "outputs": [],
   "source": [
    "w2v_model = gensim.models.word2vec.Word2Vec(size=W2V_SIZE,\n",
    "                                            window=W2V_WINDOW,\n",
    "                                            min_count=W2V_MIN_COUNT,\n",
    "                                            workers=8)"
   ]
  },
  {
   "cell_type": "code",
   "execution_count": 20,
   "metadata": {
    "pycharm": {
     "name": "#%%\n"
    }
   },
   "outputs": [
    {
     "name": "stderr",
     "output_type": "stream",
     "text": [
      "2021-02-12 14:03:46,175 : INFO : collecting all words and their counts\n",
      "2021-02-12 14:03:46,176 : INFO : PROGRESS: at sentence #0, processed 0 words, keeping 0 word types\n",
      "2021-02-12 14:03:46,191 : INFO : PROGRESS: at sentence #10000, processed 72565 words, keeping 14005 word types\n",
      "2021-02-12 14:03:46,206 : INFO : PROGRESS: at sentence #20000, processed 144393 words, keeping 21587 word types\n",
      "2021-02-12 14:03:46,222 : INFO : PROGRESS: at sentence #30000, processed 215826 words, keeping 27541 word types\n",
      "2021-02-12 14:03:46,237 : INFO : PROGRESS: at sentence #40000, processed 288271 words, keeping 32764 word types\n",
      "2021-02-12 14:03:46,253 : INFO : PROGRESS: at sentence #50000, processed 359772 words, keeping 37587 word types\n",
      "2021-02-12 14:03:46,268 : INFO : PROGRESS: at sentence #60000, processed 431431 words, keeping 42198 word types\n",
      "2021-02-12 14:03:46,285 : INFO : PROGRESS: at sentence #70000, processed 503103 words, keeping 46458 word types\n",
      "2021-02-12 14:03:46,300 : INFO : PROGRESS: at sentence #80000, processed 575709 words, keeping 50476 word types\n",
      "2021-02-12 14:03:46,316 : INFO : PROGRESS: at sentence #90000, processed 647100 words, keeping 54140 word types\n",
      "2021-02-12 14:03:46,331 : INFO : PROGRESS: at sentence #100000, processed 718681 words, keeping 57777 word types\n",
      "2021-02-12 14:03:46,347 : INFO : PROGRESS: at sentence #110000, processed 790696 words, keeping 61207 word types\n",
      "2021-02-12 14:03:46,363 : INFO : PROGRESS: at sentence #120000, processed 863134 words, keeping 64583 word types\n",
      "2021-02-12 14:03:46,380 : INFO : PROGRESS: at sentence #130000, processed 935111 words, keeping 67865 word types\n",
      "2021-02-12 14:03:46,397 : INFO : PROGRESS: at sentence #140000, processed 1006668 words, keeping 70966 word types\n",
      "2021-02-12 14:03:46,413 : INFO : PROGRESS: at sentence #150000, processed 1078512 words, keeping 74119 word types\n",
      "2021-02-12 14:03:46,430 : INFO : PROGRESS: at sentence #160000, processed 1149914 words, keeping 77187 word types\n",
      "2021-02-12 14:03:46,446 : INFO : PROGRESS: at sentence #170000, processed 1222145 words, keeping 80267 word types\n",
      "2021-02-12 14:03:46,462 : INFO : PROGRESS: at sentence #180000, processed 1294708 words, keeping 83393 word types\n",
      "2021-02-12 14:03:46,477 : INFO : PROGRESS: at sentence #190000, processed 1367608 words, keeping 86329 word types\n",
      "2021-02-12 14:03:46,496 : INFO : PROGRESS: at sentence #200000, processed 1439469 words, keeping 89103 word types\n",
      "2021-02-12 14:03:46,512 : INFO : PROGRESS: at sentence #210000, processed 1512099 words, keeping 91840 word types\n",
      "2021-02-12 14:03:46,528 : INFO : PROGRESS: at sentence #220000, processed 1584149 words, keeping 94636 word types\n",
      "2021-02-12 14:03:46,545 : INFO : PROGRESS: at sentence #230000, processed 1656354 words, keeping 97353 word types\n",
      "2021-02-12 14:03:46,561 : INFO : PROGRESS: at sentence #240000, processed 1728573 words, keeping 99975 word types\n",
      "2021-02-12 14:03:46,577 : INFO : PROGRESS: at sentence #250000, processed 1801102 words, keeping 102594 word types\n",
      "2021-02-12 14:03:46,594 : INFO : PROGRESS: at sentence #260000, processed 1873103 words, keeping 105162 word types\n",
      "2021-02-12 14:03:46,611 : INFO : PROGRESS: at sentence #270000, processed 1945245 words, keeping 107626 word types\n",
      "2021-02-12 14:03:46,627 : INFO : PROGRESS: at sentence #280000, processed 2017163 words, keeping 110141 word types\n",
      "2021-02-12 14:03:46,643 : INFO : PROGRESS: at sentence #290000, processed 2089574 words, keeping 112539 word types\n",
      "2021-02-12 14:03:46,658 : INFO : PROGRESS: at sentence #300000, processed 2160996 words, keeping 114893 word types\n",
      "2021-02-12 14:03:46,674 : INFO : PROGRESS: at sentence #310000, processed 2232913 words, keeping 117298 word types\n",
      "2021-02-12 14:03:46,690 : INFO : PROGRESS: at sentence #320000, processed 2305039 words, keeping 119693 word types\n",
      "2021-02-12 14:03:46,706 : INFO : PROGRESS: at sentence #330000, processed 2377119 words, keeping 122131 word types\n",
      "2021-02-12 14:03:46,722 : INFO : PROGRESS: at sentence #340000, processed 2449370 words, keeping 124416 word types\n",
      "2021-02-12 14:03:46,738 : INFO : PROGRESS: at sentence #350000, processed 2521564 words, keeping 126669 word types\n",
      "2021-02-12 14:03:46,754 : INFO : PROGRESS: at sentence #360000, processed 2593681 words, keeping 128912 word types\n",
      "2021-02-12 14:03:46,770 : INFO : PROGRESS: at sentence #370000, processed 2665692 words, keeping 131135 word types\n",
      "2021-02-12 14:03:46,787 : INFO : PROGRESS: at sentence #380000, processed 2737859 words, keeping 133403 word types\n",
      "2021-02-12 14:03:46,803 : INFO : PROGRESS: at sentence #390000, processed 2809848 words, keeping 135551 word types\n",
      "2021-02-12 14:03:46,820 : INFO : PROGRESS: at sentence #400000, processed 2882438 words, keeping 137742 word types\n",
      "2021-02-12 14:03:46,836 : INFO : PROGRESS: at sentence #410000, processed 2954075 words, keeping 139909 word types\n",
      "2021-02-12 14:03:46,852 : INFO : PROGRESS: at sentence #420000, processed 3026247 words, keeping 142144 word types\n",
      "2021-02-12 14:03:46,868 : INFO : PROGRESS: at sentence #430000, processed 3098659 words, keeping 144364 word types\n",
      "2021-02-12 14:03:46,884 : INFO : PROGRESS: at sentence #440000, processed 3170663 words, keeping 146439 word types\n",
      "2021-02-12 14:03:46,901 : INFO : PROGRESS: at sentence #450000, processed 3243344 words, keeping 148526 word types\n",
      "2021-02-12 14:03:46,917 : INFO : PROGRESS: at sentence #460000, processed 3315466 words, keeping 150610 word types\n",
      "2021-02-12 14:03:46,933 : INFO : PROGRESS: at sentence #470000, processed 3388295 words, keeping 152737 word types\n",
      "2021-02-12 14:03:46,949 : INFO : PROGRESS: at sentence #480000, processed 3460120 words, keeping 154757 word types\n",
      "2021-02-12 14:03:46,965 : INFO : PROGRESS: at sentence #490000, processed 3531883 words, keeping 156825 word types\n",
      "2021-02-12 14:03:46,982 : INFO : PROGRESS: at sentence #500000, processed 3604217 words, keeping 158859 word types\n",
      "2021-02-12 14:03:46,999 : INFO : PROGRESS: at sentence #510000, processed 3676427 words, keeping 160852 word types\n",
      "2021-02-12 14:03:47,019 : INFO : PROGRESS: at sentence #520000, processed 3749045 words, keeping 162863 word types\n",
      "2021-02-12 14:03:47,040 : INFO : PROGRESS: at sentence #530000, processed 3821622 words, keeping 164929 word types\n",
      "2021-02-12 14:03:47,063 : INFO : PROGRESS: at sentence #540000, processed 3893627 words, keeping 166840 word types\n",
      "2021-02-12 14:03:47,085 : INFO : PROGRESS: at sentence #550000, processed 3965477 words, keeping 168799 word types\n",
      "2021-02-12 14:03:47,107 : INFO : PROGRESS: at sentence #560000, processed 4038050 words, keeping 170802 word types\n",
      "2021-02-12 14:03:47,131 : INFO : PROGRESS: at sentence #570000, processed 4110296 words, keeping 172760 word types\n",
      "2021-02-12 14:03:47,149 : INFO : PROGRESS: at sentence #580000, processed 4182385 words, keeping 174635 word types\n",
      "2021-02-12 14:03:47,171 : INFO : PROGRESS: at sentence #590000, processed 4254632 words, keeping 176470 word types\n",
      "2021-02-12 14:03:47,190 : INFO : PROGRESS: at sentence #600000, processed 4326859 words, keeping 178350 word types\n",
      "2021-02-12 14:03:47,207 : INFO : PROGRESS: at sentence #610000, processed 4399183 words, keeping 180290 word types\n",
      "2021-02-12 14:03:47,223 : INFO : PROGRESS: at sentence #620000, processed 4471343 words, keeping 182129 word types\n",
      "2021-02-12 14:03:47,240 : INFO : PROGRESS: at sentence #630000, processed 4543286 words, keeping 184005 word types\n",
      "2021-02-12 14:03:47,258 : INFO : PROGRESS: at sentence #640000, processed 4615780 words, keeping 185835 word types\n",
      "2021-02-12 14:03:47,275 : INFO : PROGRESS: at sentence #650000, processed 4688481 words, keeping 187705 word types\n",
      "2021-02-12 14:03:47,291 : INFO : PROGRESS: at sentence #660000, processed 4760481 words, keeping 189439 word types\n",
      "2021-02-12 14:03:47,308 : INFO : PROGRESS: at sentence #670000, processed 4833024 words, keeping 191232 word types\n",
      "2021-02-12 14:03:47,324 : INFO : PROGRESS: at sentence #680000, processed 4904516 words, keeping 193177 word types\n",
      "2021-02-12 14:03:47,340 : INFO : PROGRESS: at sentence #690000, processed 4976968 words, keeping 194960 word types\n",
      "2021-02-12 14:03:47,356 : INFO : PROGRESS: at sentence #700000, processed 5049412 words, keeping 196725 word types\n",
      "2021-02-12 14:03:47,374 : INFO : PROGRESS: at sentence #710000, processed 5121976 words, keeping 198516 word types\n",
      "2021-02-12 14:03:47,392 : INFO : PROGRESS: at sentence #720000, processed 5193881 words, keeping 200325 word types\n",
      "2021-02-12 14:03:47,411 : INFO : PROGRESS: at sentence #730000, processed 5265467 words, keeping 202133 word types\n",
      "2021-02-12 14:03:47,429 : INFO : PROGRESS: at sentence #740000, processed 5337518 words, keeping 203818 word types\n",
      "2021-02-12 14:03:47,448 : INFO : PROGRESS: at sentence #750000, processed 5409321 words, keeping 205535 word types\n",
      "2021-02-12 14:03:47,466 : INFO : PROGRESS: at sentence #760000, processed 5481512 words, keeping 207282 word types\n",
      "2021-02-12 14:03:47,483 : INFO : PROGRESS: at sentence #770000, processed 5554093 words, keeping 209076 word types\n",
      "2021-02-12 14:03:47,500 : INFO : PROGRESS: at sentence #780000, processed 5625382 words, keeping 210805 word types\n",
      "2021-02-12 14:03:47,517 : INFO : PROGRESS: at sentence #790000, processed 5698066 words, keeping 212618 word types\n",
      "2021-02-12 14:03:47,534 : INFO : PROGRESS: at sentence #800000, processed 5770880 words, keeping 214374 word types\n",
      "2021-02-12 14:03:47,550 : INFO : PROGRESS: at sentence #810000, processed 5843418 words, keeping 216009 word types\n",
      "2021-02-12 14:03:47,567 : INFO : PROGRESS: at sentence #820000, processed 5915628 words, keeping 217804 word types\n",
      "2021-02-12 14:03:47,585 : INFO : PROGRESS: at sentence #830000, processed 5987499 words, keeping 219585 word types\n",
      "2021-02-12 14:03:47,602 : INFO : PROGRESS: at sentence #840000, processed 6058973 words, keeping 221344 word types\n",
      "2021-02-12 14:03:47,618 : INFO : PROGRESS: at sentence #850000, processed 6131125 words, keeping 223002 word types\n",
      "2021-02-12 14:03:47,635 : INFO : PROGRESS: at sentence #860000, processed 6202951 words, keeping 224643 word types\n",
      "2021-02-12 14:03:47,653 : INFO : PROGRESS: at sentence #870000, processed 6275461 words, keeping 226362 word types\n",
      "2021-02-12 14:03:47,670 : INFO : PROGRESS: at sentence #880000, processed 6347661 words, keeping 227986 word types\n",
      "2021-02-12 14:03:47,686 : INFO : PROGRESS: at sentence #890000, processed 6419806 words, keeping 229634 word types\n",
      "2021-02-12 14:03:47,703 : INFO : PROGRESS: at sentence #900000, processed 6491644 words, keeping 231389 word types\n",
      "2021-02-12 14:03:47,720 : INFO : PROGRESS: at sentence #910000, processed 6564022 words, keeping 233050 word types\n",
      "2021-02-12 14:03:47,738 : INFO : PROGRESS: at sentence #920000, processed 6636228 words, keeping 234686 word types\n",
      "2021-02-12 14:03:47,756 : INFO : PROGRESS: at sentence #930000, processed 6708573 words, keeping 236393 word types\n",
      "2021-02-12 14:03:47,774 : INFO : PROGRESS: at sentence #940000, processed 6779956 words, keeping 238052 word types\n",
      "2021-02-12 14:03:47,791 : INFO : PROGRESS: at sentence #950000, processed 6852599 words, keeping 239716 word types\n",
      "2021-02-12 14:03:47,808 : INFO : PROGRESS: at sentence #960000, processed 6924717 words, keeping 241354 word types\n",
      "2021-02-12 14:03:47,825 : INFO : PROGRESS: at sentence #970000, processed 6996992 words, keeping 242980 word types\n",
      "2021-02-12 14:03:47,842 : INFO : PROGRESS: at sentence #980000, processed 7068402 words, keeping 244646 word types\n",
      "2021-02-12 14:03:47,860 : INFO : PROGRESS: at sentence #990000, processed 7140346 words, keeping 246186 word types\n",
      "2021-02-12 14:03:47,877 : INFO : PROGRESS: at sentence #1000000, processed 7211757 words, keeping 247726 word types\n",
      "2021-02-12 14:03:47,894 : INFO : PROGRESS: at sentence #1010000, processed 7283267 words, keeping 249288 word types\n",
      "2021-02-12 14:03:47,910 : INFO : PROGRESS: at sentence #1020000, processed 7355299 words, keeping 250860 word types\n",
      "2021-02-12 14:03:47,927 : INFO : PROGRESS: at sentence #1030000, processed 7426918 words, keeping 252366 word types\n",
      "2021-02-12 14:03:47,944 : INFO : PROGRESS: at sentence #1040000, processed 7498815 words, keeping 253930 word types\n",
      "2021-02-12 14:03:47,960 : INFO : PROGRESS: at sentence #1050000, processed 7570499 words, keeping 255471 word types\n",
      "2021-02-12 14:03:47,977 : INFO : PROGRESS: at sentence #1060000, processed 7643251 words, keeping 257035 word types\n",
      "2021-02-12 14:03:47,993 : INFO : PROGRESS: at sentence #1070000, processed 7714721 words, keeping 258509 word types\n",
      "2021-02-12 14:03:48,009 : INFO : PROGRESS: at sentence #1080000, processed 7787371 words, keeping 260071 word types\n",
      "2021-02-12 14:03:48,026 : INFO : PROGRESS: at sentence #1090000, processed 7859336 words, keeping 261683 word types\n",
      "2021-02-12 14:03:48,043 : INFO : PROGRESS: at sentence #1100000, processed 7932029 words, keeping 263278 word types\n",
      "2021-02-12 14:03:48,060 : INFO : PROGRESS: at sentence #1110000, processed 8004146 words, keeping 264800 word types\n",
      "2021-02-12 14:03:48,077 : INFO : PROGRESS: at sentence #1120000, processed 8075880 words, keeping 266309 word types\n",
      "2021-02-12 14:03:48,094 : INFO : PROGRESS: at sentence #1130000, processed 8148163 words, keeping 267826 word types\n",
      "2021-02-12 14:03:48,111 : INFO : PROGRESS: at sentence #1140000, processed 8220487 words, keeping 269391 word types\n",
      "2021-02-12 14:03:48,129 : INFO : PROGRESS: at sentence #1150000, processed 8292498 words, keeping 270894 word types\n",
      "2021-02-12 14:03:48,146 : INFO : PROGRESS: at sentence #1160000, processed 8363838 words, keeping 272400 word types\n",
      "2021-02-12 14:03:48,165 : INFO : PROGRESS: at sentence #1170000, processed 8435510 words, keeping 273970 word types\n",
      "2021-02-12 14:03:48,183 : INFO : PROGRESS: at sentence #1180000, processed 8507795 words, keeping 275521 word types\n",
      "2021-02-12 14:03:48,201 : INFO : PROGRESS: at sentence #1190000, processed 8579080 words, keeping 277007 word types\n",
      "2021-02-12 14:03:48,219 : INFO : PROGRESS: at sentence #1200000, processed 8650606 words, keeping 278457 word types\n",
      "2021-02-12 14:03:48,237 : INFO : PROGRESS: at sentence #1210000, processed 8721893 words, keeping 279959 word types\n",
      "2021-02-12 14:03:48,255 : INFO : PROGRESS: at sentence #1220000, processed 8793795 words, keeping 281427 word types\n",
      "2021-02-12 14:03:48,273 : INFO : PROGRESS: at sentence #1230000, processed 8865726 words, keeping 282981 word types\n",
      "2021-02-12 14:03:48,290 : INFO : PROGRESS: at sentence #1240000, processed 8938173 words, keeping 284542 word types\n",
      "2021-02-12 14:03:48,308 : INFO : PROGRESS: at sentence #1250000, processed 9010842 words, keeping 286064 word types\n",
      "2021-02-12 14:03:48,325 : INFO : PROGRESS: at sentence #1260000, processed 9083261 words, keeping 287521 word types\n",
      "2021-02-12 14:03:48,342 : INFO : PROGRESS: at sentence #1270000, processed 9155616 words, keeping 288987 word types\n",
      "2021-02-12 14:03:48,358 : INFO : collected 290418 word types from a corpus of 9227204 raw words and 1280000 sentences\n",
      "2021-02-12 14:03:48,359 : INFO : Loading a fresh vocabulary\n",
      "2021-02-12 14:03:48,491 : INFO : effective_min_count=10 retains 30369 unique words (10% of original 290418, drops 260049)\n",
      "2021-02-12 14:03:48,491 : INFO : effective_min_count=10 leaves 8780739 word corpus (95% of original 9227204, drops 446465)\n",
      "2021-02-12 14:03:48,561 : INFO : deleting the raw counts dictionary of 290418 items\n",
      "2021-02-12 14:03:48,566 : INFO : sample=0.001 downsamples 45 most-common words\n",
      "2021-02-12 14:03:48,567 : INFO : downsampling leaves estimated 8222658 word corpus (93.6% of prior 8780739)\n",
      "2021-02-12 14:03:48,632 : INFO : estimated required memory for 30369 words and 300 dimensions: 88070100 bytes\n",
      "2021-02-12 14:03:48,633 : INFO : resetting layer weights\n"
     ]
    }
   ],
   "source": [
    "w2v_model.build_vocab(documents)"
   ]
  },
  {
   "cell_type": "code",
   "execution_count": 21,
   "metadata": {
    "pycharm": {
     "name": "#%%\n"
    }
   },
   "outputs": [
    {
     "name": "stdout",
     "output_type": "stream",
     "text": [
      "Vocab size 30369\n"
     ]
    }
   ],
   "source": [
    "words = w2v_model.wv.vocab.keys()\n",
    "vocab_size = len(words)\n",
    "print(\"Vocab size\", vocab_size)"
   ]
  },
  {
   "cell_type": "code",
   "execution_count": 22,
   "metadata": {
    "pycharm": {
     "name": "#%%\n"
    }
   },
   "outputs": [
    {
     "name": "stderr",
     "output_type": "stream",
     "text": [
      "2021-02-12 14:03:53,585 : INFO : training model with 8 workers on 30369 vocabulary and 300 features, using sg=0 hs=0 sample=0.001 negative=5 window=7\n",
      "2021-02-12 14:03:54,610 : INFO : EPOCH 1 - PROGRESS: at 19.94% examples, 1619913 words/s, in_qsize 14, out_qsize 1\n",
      "2021-02-12 14:03:55,625 : INFO : EPOCH 1 - PROGRESS: at 42.13% examples, 1710987 words/s, in_qsize 13, out_qsize 2\n",
      "2021-02-12 14:03:56,627 : INFO : EPOCH 1 - PROGRESS: at 64.19% examples, 1744510 words/s, in_qsize 14, out_qsize 1\n",
      "2021-02-12 14:03:57,634 : INFO : EPOCH 1 - PROGRESS: at 86.53% examples, 1764230 words/s, in_qsize 13, out_qsize 2\n",
      "2021-02-12 14:03:58,191 : INFO : worker thread finished; awaiting finish of 7 more threads\n",
      "2021-02-12 14:03:58,192 : INFO : worker thread finished; awaiting finish of 6 more threads\n",
      "2021-02-12 14:03:58,193 : INFO : worker thread finished; awaiting finish of 5 more threads\n",
      "2021-02-12 14:03:58,201 : INFO : worker thread finished; awaiting finish of 4 more threads\n",
      "2021-02-12 14:03:58,202 : INFO : worker thread finished; awaiting finish of 3 more threads\n",
      "2021-02-12 14:03:58,203 : INFO : worker thread finished; awaiting finish of 2 more threads\n",
      "2021-02-12 14:03:58,208 : INFO : worker thread finished; awaiting finish of 1 more threads\n",
      "2021-02-12 14:03:58,210 : INFO : worker thread finished; awaiting finish of 0 more threads\n",
      "2021-02-12 14:03:58,210 : INFO : EPOCH - 1 : training on 9227204 raw words (8223304 effective words) took 4.6s, 1783254 effective words/s\n",
      "2021-02-12 14:03:59,230 : INFO : EPOCH 2 - PROGRESS: at 21.35% examples, 1743495 words/s, in_qsize 15, out_qsize 0\n",
      "2021-02-12 14:04:00,231 : INFO : EPOCH 2 - PROGRESS: at 43.75% examples, 1792008 words/s, in_qsize 15, out_qsize 0\n",
      "2021-02-12 14:04:01,241 : INFO : EPOCH 2 - PROGRESS: at 66.15% examples, 1803963 words/s, in_qsize 13, out_qsize 2\n",
      "2021-02-12 14:04:02,249 : INFO : EPOCH 2 - PROGRESS: at 88.81% examples, 1814456 words/s, in_qsize 14, out_qsize 1\n",
      "2021-02-12 14:04:02,706 : INFO : worker thread finished; awaiting finish of 7 more threads\n",
      "2021-02-12 14:04:02,709 : INFO : worker thread finished; awaiting finish of 6 more threads\n",
      "2021-02-12 14:04:02,710 : INFO : worker thread finished; awaiting finish of 5 more threads\n",
      "2021-02-12 14:04:02,711 : INFO : worker thread finished; awaiting finish of 4 more threads\n",
      "2021-02-12 14:04:02,718 : INFO : worker thread finished; awaiting finish of 3 more threads\n",
      "2021-02-12 14:04:02,719 : INFO : worker thread finished; awaiting finish of 2 more threads\n",
      "2021-02-12 14:04:02,722 : INFO : worker thread finished; awaiting finish of 1 more threads\n",
      "2021-02-12 14:04:02,725 : INFO : worker thread finished; awaiting finish of 0 more threads\n",
      "2021-02-12 14:04:02,726 : INFO : EPOCH - 2 : training on 9227204 raw words (8223037 effective words) took 4.5s, 1826281 effective words/s\n",
      "2021-02-12 14:04:03,750 : INFO : EPOCH 3 - PROGRESS: at 21.25% examples, 1726174 words/s, in_qsize 14, out_qsize 1\n",
      "2021-02-12 14:04:04,758 : INFO : EPOCH 3 - PROGRESS: at 43.75% examples, 1782114 words/s, in_qsize 14, out_qsize 1\n",
      "2021-02-12 14:04:05,769 : INFO : EPOCH 3 - PROGRESS: at 66.58% examples, 1807271 words/s, in_qsize 14, out_qsize 1\n",
      "2021-02-12 14:04:06,779 : INFO : EPOCH 3 - PROGRESS: at 87.18% examples, 1774709 words/s, in_qsize 15, out_qsize 0\n",
      "2021-02-12 14:04:07,311 : INFO : worker thread finished; awaiting finish of 7 more threads\n",
      "2021-02-12 14:04:07,318 : INFO : worker thread finished; awaiting finish of 6 more threads\n",
      "2021-02-12 14:04:07,319 : INFO : worker thread finished; awaiting finish of 5 more threads\n",
      "2021-02-12 14:04:07,323 : INFO : worker thread finished; awaiting finish of 4 more threads\n",
      "2021-02-12 14:04:07,325 : INFO : worker thread finished; awaiting finish of 3 more threads\n",
      "2021-02-12 14:04:07,330 : INFO : worker thread finished; awaiting finish of 2 more threads\n",
      "2021-02-12 14:04:07,331 : INFO : worker thread finished; awaiting finish of 1 more threads\n",
      "2021-02-12 14:04:07,335 : INFO : worker thread finished; awaiting finish of 0 more threads\n",
      "2021-02-12 14:04:07,335 : INFO : EPOCH - 3 : training on 9227204 raw words (8222536 effective words) took 4.6s, 1788572 effective words/s\n",
      "2021-02-12 14:04:08,353 : INFO : EPOCH 4 - PROGRESS: at 17.35% examples, 1419030 words/s, in_qsize 14, out_qsize 1\n",
      "2021-02-12 14:04:09,368 : INFO : EPOCH 4 - PROGRESS: at 38.68% examples, 1574484 words/s, in_qsize 15, out_qsize 0\n",
      "2021-02-12 14:04:10,369 : INFO : EPOCH 4 - PROGRESS: at 60.96% examples, 1660548 words/s, in_qsize 13, out_qsize 2\n",
      "2021-02-12 14:04:11,371 : INFO : EPOCH 4 - PROGRESS: at 83.29% examples, 1702911 words/s, in_qsize 15, out_qsize 0\n",
      "2021-02-12 14:04:12,102 : INFO : worker thread finished; awaiting finish of 7 more threads\n",
      "2021-02-12 14:04:12,103 : INFO : worker thread finished; awaiting finish of 6 more threads\n",
      "2021-02-12 14:04:12,104 : INFO : worker thread finished; awaiting finish of 5 more threads\n",
      "2021-02-12 14:04:12,106 : INFO : worker thread finished; awaiting finish of 4 more threads\n",
      "2021-02-12 14:04:12,112 : INFO : worker thread finished; awaiting finish of 3 more threads\n",
      "2021-02-12 14:04:12,114 : INFO : worker thread finished; awaiting finish of 2 more threads\n",
      "2021-02-12 14:04:12,120 : INFO : worker thread finished; awaiting finish of 1 more threads\n",
      "2021-02-12 14:04:12,121 : INFO : worker thread finished; awaiting finish of 0 more threads\n",
      "2021-02-12 14:04:12,121 : INFO : EPOCH - 4 : training on 9227204 raw words (8222057 effective words) took 4.8s, 1722717 effective words/s\n",
      "2021-02-12 14:04:13,135 : INFO : EPOCH 5 - PROGRESS: at 20.59% examples, 1686347 words/s, in_qsize 15, out_qsize 0\n",
      "2021-02-12 14:04:14,142 : INFO : EPOCH 5 - PROGRESS: at 42.89% examples, 1755048 words/s, in_qsize 15, out_qsize 0\n",
      "2021-02-12 14:04:15,149 : INFO : EPOCH 5 - PROGRESS: at 65.27% examples, 1780947 words/s, in_qsize 14, out_qsize 1\n",
      "2021-02-12 14:04:16,149 : INFO : EPOCH 5 - PROGRESS: at 87.61% examples, 1793967 words/s, in_qsize 15, out_qsize 1\n",
      "2021-02-12 14:04:16,656 : INFO : worker thread finished; awaiting finish of 7 more threads\n",
      "2021-02-12 14:04:16,659 : INFO : worker thread finished; awaiting finish of 6 more threads\n",
      "2021-02-12 14:04:16,662 : INFO : worker thread finished; awaiting finish of 5 more threads\n",
      "2021-02-12 14:04:16,663 : INFO : worker thread finished; awaiting finish of 4 more threads\n",
      "2021-02-12 14:04:16,666 : INFO : worker thread finished; awaiting finish of 3 more threads\n",
      "2021-02-12 14:04:16,672 : INFO : worker thread finished; awaiting finish of 2 more threads\n",
      "2021-02-12 14:04:16,673 : INFO : worker thread finished; awaiting finish of 1 more threads\n",
      "2021-02-12 14:04:16,675 : INFO : worker thread finished; awaiting finish of 0 more threads\n",
      "2021-02-12 14:04:16,676 : INFO : EPOCH - 5 : training on 9227204 raw words (8222742 effective words) took 4.5s, 1809523 effective words/s\n",
      "2021-02-12 14:04:17,700 : INFO : EPOCH 6 - PROGRESS: at 20.92% examples, 1700820 words/s, in_qsize 15, out_qsize 0\n",
      "2021-02-12 14:04:18,703 : INFO : EPOCH 6 - PROGRESS: at 43.11% examples, 1760382 words/s, in_qsize 15, out_qsize 0\n",
      "2021-02-12 14:04:19,712 : INFO : EPOCH 6 - PROGRESS: at 65.61% examples, 1786180 words/s, in_qsize 13, out_qsize 2\n",
      "2021-02-12 14:04:20,711 : INFO : EPOCH 6 - PROGRESS: at 88.05% examples, 1800541 words/s, in_qsize 15, out_qsize 0\n",
      "2021-02-12 14:04:21,207 : INFO : worker thread finished; awaiting finish of 7 more threads\n",
      "2021-02-12 14:04:21,211 : INFO : worker thread finished; awaiting finish of 6 more threads\n",
      "2021-02-12 14:04:21,213 : INFO : worker thread finished; awaiting finish of 5 more threads\n",
      "2021-02-12 14:04:21,214 : INFO : worker thread finished; awaiting finish of 4 more threads\n",
      "2021-02-12 14:04:21,218 : INFO : worker thread finished; awaiting finish of 3 more threads\n",
      "2021-02-12 14:04:21,223 : INFO : worker thread finished; awaiting finish of 2 more threads\n",
      "2021-02-12 14:04:21,225 : INFO : worker thread finished; awaiting finish of 1 more threads\n",
      "2021-02-12 14:04:21,227 : INFO : worker thread finished; awaiting finish of 0 more threads\n",
      "2021-02-12 14:04:21,228 : INFO : EPOCH - 6 : training on 9227204 raw words (8223115 effective words) took 4.5s, 1811822 effective words/s\n",
      "2021-02-12 14:04:22,246 : INFO : EPOCH 7 - PROGRESS: at 21.14% examples, 1726271 words/s, in_qsize 14, out_qsize 1\n",
      "2021-02-12 14:04:23,251 : INFO : EPOCH 7 - PROGRESS: at 42.46% examples, 1736520 words/s, in_qsize 14, out_qsize 1\n",
      "2021-02-12 14:04:24,268 : INFO : EPOCH 7 - PROGRESS: at 61.93% examples, 1683167 words/s, in_qsize 15, out_qsize 0\n",
      "2021-02-12 14:04:25,277 : INFO : EPOCH 7 - PROGRESS: at 83.51% examples, 1701238 words/s, in_qsize 13, out_qsize 2\n",
      "2021-02-12 14:04:26,038 : INFO : worker thread finished; awaiting finish of 7 more threads\n",
      "2021-02-12 14:04:26,039 : INFO : worker thread finished; awaiting finish of 6 more threads\n",
      "2021-02-12 14:04:26,040 : INFO : worker thread finished; awaiting finish of 5 more threads\n",
      "2021-02-12 14:04:26,043 : INFO : worker thread finished; awaiting finish of 4 more threads\n",
      "2021-02-12 14:04:26,050 : INFO : worker thread finished; awaiting finish of 3 more threads\n",
      "2021-02-12 14:04:26,051 : INFO : worker thread finished; awaiting finish of 2 more threads\n",
      "2021-02-12 14:04:26,055 : INFO : worker thread finished; awaiting finish of 1 more threads\n",
      "2021-02-12 14:04:26,056 : INFO : worker thread finished; awaiting finish of 0 more threads\n",
      "2021-02-12 14:04:26,057 : INFO : EPOCH - 7 : training on 9227204 raw words (8222698 effective words) took 4.8s, 1706933 effective words/s\n",
      "2021-02-12 14:04:27,086 : INFO : EPOCH 8 - PROGRESS: at 20.48% examples, 1658943 words/s, in_qsize 14, out_qsize 1\n",
      "2021-02-12 14:04:28,092 : INFO : EPOCH 8 - PROGRESS: at 42.24% examples, 1718321 words/s, in_qsize 15, out_qsize 0\n",
      "2021-02-12 14:04:29,098 : INFO : EPOCH 8 - PROGRESS: at 64.40% examples, 1751094 words/s, in_qsize 13, out_qsize 2\n",
      "2021-02-12 14:04:30,103 : INFO : EPOCH 8 - PROGRESS: at 86.75% examples, 1769780 words/s, in_qsize 15, out_qsize 0\n",
      "2021-02-12 14:04:30,657 : INFO : worker thread finished; awaiting finish of 7 more threads\n",
      "2021-02-12 14:04:30,660 : INFO : worker thread finished; awaiting finish of 6 more threads\n",
      "2021-02-12 14:04:30,661 : INFO : worker thread finished; awaiting finish of 5 more threads\n",
      "2021-02-12 14:04:30,668 : INFO : worker thread finished; awaiting finish of 4 more threads\n",
      "2021-02-12 14:04:30,669 : INFO : worker thread finished; awaiting finish of 3 more threads\n",
      "2021-02-12 14:04:30,671 : INFO : worker thread finished; awaiting finish of 2 more threads\n",
      "2021-02-12 14:04:30,675 : INFO : worker thread finished; awaiting finish of 1 more threads\n",
      "2021-02-12 14:04:30,676 : INFO : worker thread finished; awaiting finish of 0 more threads\n",
      "2021-02-12 14:04:30,677 : INFO : EPOCH - 8 : training on 9227204 raw words (8223993 effective words) took 4.6s, 1785325 effective words/s\n",
      "2021-02-12 14:04:31,697 : INFO : EPOCH 9 - PROGRESS: at 19.62% examples, 1600571 words/s, in_qsize 13, out_qsize 2\n",
      "2021-02-12 14:04:32,708 : INFO : EPOCH 9 - PROGRESS: at 42.13% examples, 1717281 words/s, in_qsize 13, out_qsize 2\n",
      "2021-02-12 14:04:33,710 : INFO : EPOCH 9 - PROGRESS: at 64.73% examples, 1764405 words/s, in_qsize 15, out_qsize 0\n",
      "2021-02-12 14:04:34,720 : INFO : EPOCH 9 - PROGRESS: at 86.85% examples, 1772456 words/s, in_qsize 13, out_qsize 2\n",
      "2021-02-12 14:04:35,263 : INFO : worker thread finished; awaiting finish of 7 more threads\n",
      "2021-02-12 14:04:35,265 : INFO : worker thread finished; awaiting finish of 6 more threads\n",
      "2021-02-12 14:04:35,266 : INFO : worker thread finished; awaiting finish of 5 more threads\n",
      "2021-02-12 14:04:35,270 : INFO : worker thread finished; awaiting finish of 4 more threads\n",
      "2021-02-12 14:04:35,271 : INFO : worker thread finished; awaiting finish of 3 more threads\n",
      "2021-02-12 14:04:35,274 : INFO : worker thread finished; awaiting finish of 2 more threads\n",
      "2021-02-12 14:04:35,280 : INFO : worker thread finished; awaiting finish of 1 more threads\n",
      "2021-02-12 14:04:35,281 : INFO : worker thread finished; awaiting finish of 0 more threads\n",
      "2021-02-12 14:04:35,282 : INFO : EPOCH - 9 : training on 9227204 raw words (8222370 effective words) took 4.6s, 1790662 effective words/s\n",
      "2021-02-12 14:04:36,299 : INFO : EPOCH 10 - PROGRESS: at 21.46% examples, 1755659 words/s, in_qsize 14, out_qsize 1\n",
      "2021-02-12 14:04:37,304 : INFO : EPOCH 10 - PROGRESS: at 43.86% examples, 1796057 words/s, in_qsize 14, out_qsize 1\n",
      "2021-02-12 14:04:38,308 : INFO : EPOCH 10 - PROGRESS: at 66.37% examples, 1812099 words/s, in_qsize 13, out_qsize 2\n",
      "2021-02-12 14:04:39,317 : INFO : EPOCH 10 - PROGRESS: at 89.02% examples, 1820248 words/s, in_qsize 13, out_qsize 2\n",
      "2021-02-12 14:04:39,764 : INFO : worker thread finished; awaiting finish of 7 more threads\n",
      "2021-02-12 14:04:39,767 : INFO : worker thread finished; awaiting finish of 6 more threads\n",
      "2021-02-12 14:04:39,769 : INFO : worker thread finished; awaiting finish of 5 more threads\n",
      "2021-02-12 14:04:39,769 : INFO : worker thread finished; awaiting finish of 4 more threads\n",
      "2021-02-12 14:04:39,775 : INFO : worker thread finished; awaiting finish of 3 more threads\n",
      "2021-02-12 14:04:39,780 : INFO : worker thread finished; awaiting finish of 2 more threads\n",
      "2021-02-12 14:04:39,781 : INFO : worker thread finished; awaiting finish of 1 more threads\n",
      "2021-02-12 14:04:39,783 : INFO : worker thread finished; awaiting finish of 0 more threads\n",
      "2021-02-12 14:04:39,784 : INFO : EPOCH - 10 : training on 9227204 raw words (8222737 effective words) took 4.5s, 1831585 effective words/s\n",
      "2021-02-12 14:04:40,797 : INFO : EPOCH 11 - PROGRESS: at 21.25% examples, 1745098 words/s, in_qsize 15, out_qsize 0\n",
      "2021-02-12 14:04:41,800 : INFO : EPOCH 11 - PROGRESS: at 43.54% examples, 1787354 words/s, in_qsize 15, out_qsize 0\n",
      "2021-02-12 14:04:42,803 : INFO : EPOCH 11 - PROGRESS: at 65.38% examples, 1789755 words/s, in_qsize 15, out_qsize 0\n",
      "2021-02-12 14:04:43,806 : INFO : EPOCH 11 - PROGRESS: at 86.85% examples, 1781929 words/s, in_qsize 14, out_qsize 1\n",
      "2021-02-12 14:04:44,356 : INFO : worker thread finished; awaiting finish of 7 more threads\n",
      "2021-02-12 14:04:44,357 : INFO : worker thread finished; awaiting finish of 6 more threads\n",
      "2021-02-12 14:04:44,358 : INFO : worker thread finished; awaiting finish of 5 more threads\n",
      "2021-02-12 14:04:44,362 : INFO : worker thread finished; awaiting finish of 4 more threads\n",
      "2021-02-12 14:04:44,363 : INFO : worker thread finished; awaiting finish of 3 more threads\n",
      "2021-02-12 14:04:44,365 : INFO : worker thread finished; awaiting finish of 2 more threads\n",
      "2021-02-12 14:04:44,375 : INFO : worker thread finished; awaiting finish of 1 more threads\n",
      "2021-02-12 14:04:44,376 : INFO : worker thread finished; awaiting finish of 0 more threads\n",
      "2021-02-12 14:04:44,376 : INFO : EPOCH - 11 : training on 9227204 raw words (8222139 effective words) took 4.6s, 1795478 effective words/s\n",
      "2021-02-12 14:04:45,398 : INFO : EPOCH 12 - PROGRESS: at 20.38% examples, 1659430 words/s, in_qsize 15, out_qsize 0\n",
      "2021-02-12 14:04:46,411 : INFO : EPOCH 12 - PROGRESS: at 42.57% examples, 1731617 words/s, in_qsize 14, out_qsize 1\n",
      "2021-02-12 14:04:47,419 : INFO : EPOCH 12 - PROGRESS: at 65.06% examples, 1767510 words/s, in_qsize 15, out_qsize 0\n",
      "2021-02-12 14:04:48,429 : INFO : EPOCH 12 - PROGRESS: at 86.86% examples, 1768591 words/s, in_qsize 14, out_qsize 1\n",
      "2021-02-12 14:04:48,995 : INFO : worker thread finished; awaiting finish of 7 more threads\n",
      "2021-02-12 14:04:48,998 : INFO : worker thread finished; awaiting finish of 6 more threads\n",
      "2021-02-12 14:04:48,999 : INFO : worker thread finished; awaiting finish of 5 more threads\n",
      "2021-02-12 14:04:49,003 : INFO : worker thread finished; awaiting finish of 4 more threads\n",
      "2021-02-12 14:04:49,006 : INFO : worker thread finished; awaiting finish of 3 more threads\n",
      "2021-02-12 14:04:49,011 : INFO : worker thread finished; awaiting finish of 2 more threads\n",
      "2021-02-12 14:04:49,012 : INFO : worker thread finished; awaiting finish of 1 more threads\n",
      "2021-02-12 14:04:49,015 : INFO : worker thread finished; awaiting finish of 0 more threads\n",
      "2021-02-12 14:04:49,016 : INFO : EPOCH - 12 : training on 9227204 raw words (8223398 effective words) took 4.6s, 1777448 effective words/s\n",
      "2021-02-12 14:04:50,031 : INFO : EPOCH 13 - PROGRESS: at 20.48% examples, 1681006 words/s, in_qsize 13, out_qsize 2\n",
      "2021-02-12 14:04:51,040 : INFO : EPOCH 13 - PROGRESS: at 42.89% examples, 1753788 words/s, in_qsize 13, out_qsize 2\n",
      "2021-02-12 14:04:52,044 : INFO : EPOCH 13 - PROGRESS: at 64.84% examples, 1769807 words/s, in_qsize 13, out_qsize 2\n",
      "2021-02-12 14:04:53,053 : INFO : EPOCH 13 - PROGRESS: at 87.07% examples, 1779618 words/s, in_qsize 15, out_qsize 0\n",
      "2021-02-12 14:04:53,588 : INFO : worker thread finished; awaiting finish of 7 more threads\n",
      "2021-02-12 14:04:53,589 : INFO : worker thread finished; awaiting finish of 6 more threads\n",
      "2021-02-12 14:04:53,590 : INFO : worker thread finished; awaiting finish of 5 more threads\n",
      "2021-02-12 14:04:53,594 : INFO : worker thread finished; awaiting finish of 4 more threads\n",
      "2021-02-12 14:04:53,598 : INFO : worker thread finished; awaiting finish of 3 more threads\n",
      "2021-02-12 14:04:53,599 : INFO : worker thread finished; awaiting finish of 2 more threads\n",
      "2021-02-12 14:04:53,606 : INFO : worker thread finished; awaiting finish of 1 more threads\n",
      "2021-02-12 14:04:53,607 : INFO : worker thread finished; awaiting finish of 0 more threads\n",
      "2021-02-12 14:04:53,607 : INFO : EPOCH - 13 : training on 9227204 raw words (8221113 effective words) took 4.6s, 1795632 effective words/s\n",
      "2021-02-12 14:04:54,623 : INFO : EPOCH 14 - PROGRESS: at 20.70% examples, 1696647 words/s, in_qsize 15, out_qsize 0\n",
      "2021-02-12 14:04:55,632 : INFO : EPOCH 14 - PROGRESS: at 42.68% examples, 1744985 words/s, in_qsize 15, out_qsize 0\n",
      "2021-02-12 14:04:56,641 : INFO : EPOCH 14 - PROGRESS: at 65.27% examples, 1778207 words/s, in_qsize 15, out_qsize 0\n",
      "2021-02-12 14:04:57,641 : INFO : EPOCH 14 - PROGRESS: at 87.62% examples, 1792152 words/s, in_qsize 15, out_qsize 0\n",
      "2021-02-12 14:04:58,173 : INFO : worker thread finished; awaiting finish of 7 more threads\n",
      "2021-02-12 14:04:58,174 : INFO : worker thread finished; awaiting finish of 6 more threads\n",
      "2021-02-12 14:04:58,177 : INFO : worker thread finished; awaiting finish of 5 more threads\n",
      "2021-02-12 14:04:58,182 : INFO : worker thread finished; awaiting finish of 4 more threads\n",
      "2021-02-12 14:04:58,183 : INFO : worker thread finished; awaiting finish of 3 more threads\n",
      "2021-02-12 14:04:58,188 : INFO : worker thread finished; awaiting finish of 2 more threads\n",
      "2021-02-12 14:04:58,189 : INFO : worker thread finished; awaiting finish of 1 more threads\n",
      "2021-02-12 14:04:58,193 : INFO : worker thread finished; awaiting finish of 0 more threads\n",
      "2021-02-12 14:04:58,193 : INFO : EPOCH - 14 : training on 9227204 raw words (8222875 effective words) took 4.6s, 1798009 effective words/s\n",
      "2021-02-12 14:04:59,207 : INFO : EPOCH 15 - PROGRESS: at 21.14% examples, 1736219 words/s, in_qsize 15, out_qsize 0\n",
      "2021-02-12 14:05:00,211 : INFO : EPOCH 15 - PROGRESS: at 42.78% examples, 1755292 words/s, in_qsize 14, out_qsize 1\n",
      "2021-02-12 14:05:01,213 : INFO : EPOCH 15 - PROGRESS: at 64.08% examples, 1753495 words/s, in_qsize 15, out_qsize 0\n",
      "2021-02-12 14:05:02,224 : INFO : EPOCH 15 - PROGRESS: at 85.99% examples, 1760457 words/s, in_qsize 13, out_qsize 2\n",
      "2021-02-12 14:05:02,831 : INFO : worker thread finished; awaiting finish of 7 more threads\n",
      "2021-02-12 14:05:02,836 : INFO : worker thread finished; awaiting finish of 6 more threads\n",
      "2021-02-12 14:05:02,838 : INFO : worker thread finished; awaiting finish of 5 more threads\n",
      "2021-02-12 14:05:02,840 : INFO : worker thread finished; awaiting finish of 4 more threads\n",
      "2021-02-12 14:05:02,842 : INFO : worker thread finished; awaiting finish of 3 more threads\n",
      "2021-02-12 14:05:02,845 : INFO : worker thread finished; awaiting finish of 2 more threads\n",
      "2021-02-12 14:05:02,849 : INFO : worker thread finished; awaiting finish of 1 more threads\n",
      "2021-02-12 14:05:02,852 : INFO : worker thread finished; awaiting finish of 0 more threads\n",
      "2021-02-12 14:05:02,853 : INFO : EPOCH - 15 : training on 9227204 raw words (8221875 effective words) took 4.6s, 1769526 effective words/s\n",
      "2021-02-12 14:05:03,869 : INFO : EPOCH 16 - PROGRESS: at 19.73% examples, 1616384 words/s, in_qsize 15, out_qsize 0\n",
      "2021-02-12 14:05:04,870 : INFO : EPOCH 16 - PROGRESS: at 42.02% examples, 1724367 words/s, in_qsize 13, out_qsize 2\n",
      "2021-02-12 14:05:05,878 : INFO : EPOCH 16 - PROGRESS: at 64.30% examples, 1756865 words/s, in_qsize 14, out_qsize 1\n",
      "2021-02-12 14:05:06,878 : INFO : EPOCH 16 - PROGRESS: at 86.75% examples, 1778294 words/s, in_qsize 14, out_qsize 1\n",
      "2021-02-12 14:05:07,430 : INFO : worker thread finished; awaiting finish of 7 more threads\n",
      "2021-02-12 14:05:07,431 : INFO : worker thread finished; awaiting finish of 6 more threads\n",
      "2021-02-12 14:05:07,432 : INFO : worker thread finished; awaiting finish of 5 more threads\n",
      "2021-02-12 14:05:07,443 : INFO : worker thread finished; awaiting finish of 4 more threads\n",
      "2021-02-12 14:05:07,444 : INFO : worker thread finished; awaiting finish of 3 more threads\n",
      "2021-02-12 14:05:07,446 : INFO : worker thread finished; awaiting finish of 2 more threads\n",
      "2021-02-12 14:05:07,448 : INFO : worker thread finished; awaiting finish of 1 more threads\n",
      "2021-02-12 14:05:07,449 : INFO : worker thread finished; awaiting finish of 0 more threads\n",
      "2021-02-12 14:05:07,449 : INFO : EPOCH - 16 : training on 9227204 raw words (8222068 effective words) took 4.6s, 1793799 effective words/s\n",
      "2021-02-12 14:05:08,473 : INFO : EPOCH 17 - PROGRESS: at 20.27% examples, 1648589 words/s, in_qsize 13, out_qsize 2\n",
      "2021-02-12 14:05:09,478 : INFO : EPOCH 17 - PROGRESS: at 42.78% examples, 1746315 words/s, in_qsize 15, out_qsize 0\n",
      "2021-02-12 14:05:10,482 : INFO : EPOCH 17 - PROGRESS: at 65.17% examples, 1776734 words/s, in_qsize 13, out_qsize 2\n",
      "2021-02-12 14:05:11,482 : INFO : EPOCH 17 - PROGRESS: at 87.51% examples, 1790758 words/s, in_qsize 14, out_qsize 1\n",
      "2021-02-12 14:05:11,992 : INFO : worker thread finished; awaiting finish of 7 more threads\n",
      "2021-02-12 14:05:11,995 : INFO : worker thread finished; awaiting finish of 6 more threads\n",
      "2021-02-12 14:05:11,996 : INFO : worker thread finished; awaiting finish of 5 more threads\n",
      "2021-02-12 14:05:11,997 : INFO : worker thread finished; awaiting finish of 4 more threads\n",
      "2021-02-12 14:05:12,001 : INFO : worker thread finished; awaiting finish of 3 more threads\n",
      "2021-02-12 14:05:12,007 : INFO : worker thread finished; awaiting finish of 2 more threads\n",
      "2021-02-12 14:05:12,007 : INFO : worker thread finished; awaiting finish of 1 more threads\n",
      "2021-02-12 14:05:12,011 : INFO : worker thread finished; awaiting finish of 0 more threads\n",
      "2021-02-12 14:05:12,011 : INFO : EPOCH - 17 : training on 9227204 raw words (8222954 effective words) took 4.5s, 1807488 effective words/s\n",
      "2021-02-12 14:05:13,035 : INFO : EPOCH 18 - PROGRESS: at 20.38% examples, 1657585 words/s, in_qsize 14, out_qsize 1\n",
      "2021-02-12 14:05:14,044 : INFO : EPOCH 18 - PROGRESS: at 42.89% examples, 1747269 words/s, in_qsize 14, out_qsize 1\n",
      "2021-02-12 14:05:15,050 : INFO : EPOCH 18 - PROGRESS: at 65.39% examples, 1779415 words/s, in_qsize 14, out_qsize 1\n",
      "2021-02-12 14:05:16,049 : INFO : EPOCH 18 - PROGRESS: at 86.96% examples, 1777715 words/s, in_qsize 13, out_qsize 2\n",
      "2021-02-12 14:05:16,604 : INFO : worker thread finished; awaiting finish of 7 more threads\n",
      "2021-02-12 14:05:16,605 : INFO : worker thread finished; awaiting finish of 6 more threads\n",
      "2021-02-12 14:05:16,606 : INFO : worker thread finished; awaiting finish of 5 more threads\n",
      "2021-02-12 14:05:16,607 : INFO : worker thread finished; awaiting finish of 4 more threads\n",
      "2021-02-12 14:05:16,612 : INFO : worker thread finished; awaiting finish of 3 more threads\n",
      "2021-02-12 14:05:16,613 : INFO : worker thread finished; awaiting finish of 2 more threads\n",
      "2021-02-12 14:05:16,617 : INFO : worker thread finished; awaiting finish of 1 more threads\n",
      "2021-02-12 14:05:16,621 : INFO : worker thread finished; awaiting finish of 0 more threads\n",
      "2021-02-12 14:05:16,621 : INFO : EPOCH - 18 : training on 9227204 raw words (8223638 effective words) took 4.6s, 1789109 effective words/s\n",
      "2021-02-12 14:05:17,646 : INFO : EPOCH 19 - PROGRESS: at 21.14% examples, 1717790 words/s, in_qsize 15, out_qsize 0\n",
      "2021-02-12 14:05:18,648 : INFO : EPOCH 19 - PROGRESS: at 43.00% examples, 1757081 words/s, in_qsize 14, out_qsize 1\n",
      "2021-02-12 14:05:19,649 : INFO : EPOCH 19 - PROGRESS: at 65.27% examples, 1782118 words/s, in_qsize 15, out_qsize 0\n",
      "2021-02-12 14:05:20,656 : INFO : EPOCH 19 - PROGRESS: at 87.72% examples, 1794059 words/s, in_qsize 13, out_qsize 2\n",
      "2021-02-12 14:05:21,160 : INFO : worker thread finished; awaiting finish of 7 more threads\n",
      "2021-02-12 14:05:21,165 : INFO : worker thread finished; awaiting finish of 6 more threads\n",
      "2021-02-12 14:05:21,166 : INFO : worker thread finished; awaiting finish of 5 more threads\n",
      "2021-02-12 14:05:21,167 : INFO : worker thread finished; awaiting finish of 4 more threads\n",
      "2021-02-12 14:05:21,174 : INFO : worker thread finished; awaiting finish of 3 more threads\n",
      "2021-02-12 14:05:21,175 : INFO : worker thread finished; awaiting finish of 2 more threads\n",
      "2021-02-12 14:05:21,181 : INFO : worker thread finished; awaiting finish of 1 more threads\n",
      "2021-02-12 14:05:21,182 : INFO : worker thread finished; awaiting finish of 0 more threads\n",
      "2021-02-12 14:05:21,182 : INFO : EPOCH - 19 : training on 9227204 raw words (8222735 effective words) took 4.5s, 1808061 effective words/s\n",
      "2021-02-12 14:05:22,205 : INFO : EPOCH 20 - PROGRESS: at 21.14% examples, 1718926 words/s, in_qsize 14, out_qsize 1\n",
      "2021-02-12 14:05:23,211 : INFO : EPOCH 20 - PROGRESS: at 43.54% examples, 1776397 words/s, in_qsize 14, out_qsize 1\n",
      "2021-02-12 14:05:24,216 : INFO : EPOCH 20 - PROGRESS: at 65.83% examples, 1792429 words/s, in_qsize 13, out_qsize 2\n",
      "2021-02-12 14:05:25,222 : INFO : EPOCH 20 - PROGRESS: at 88.37% examples, 1804770 words/s, in_qsize 14, out_qsize 1\n",
      "2021-02-12 14:05:25,695 : INFO : worker thread finished; awaiting finish of 7 more threads\n",
      "2021-02-12 14:05:25,698 : INFO : worker thread finished; awaiting finish of 6 more threads\n",
      "2021-02-12 14:05:25,699 : INFO : worker thread finished; awaiting finish of 5 more threads\n",
      "2021-02-12 14:05:25,703 : INFO : worker thread finished; awaiting finish of 4 more threads\n",
      "2021-02-12 14:05:25,705 : INFO : worker thread finished; awaiting finish of 3 more threads\n",
      "2021-02-12 14:05:25,711 : INFO : worker thread finished; awaiting finish of 2 more threads\n",
      "2021-02-12 14:05:25,712 : INFO : worker thread finished; awaiting finish of 1 more threads\n",
      "2021-02-12 14:05:25,715 : INFO : worker thread finished; awaiting finish of 0 more threads\n",
      "2021-02-12 14:05:25,715 : INFO : EPOCH - 20 : training on 9227204 raw words (8222232 effective words) took 4.5s, 1818724 effective words/s\n",
      "2021-02-12 14:05:26,729 : INFO : EPOCH 21 - PROGRESS: at 20.16% examples, 1655795 words/s, in_qsize 15, out_qsize 0\n",
      "2021-02-12 14:05:27,741 : INFO : EPOCH 21 - PROGRESS: at 41.59% examples, 1699754 words/s, in_qsize 14, out_qsize 1\n",
      "2021-02-12 14:05:28,747 : INFO : EPOCH 21 - PROGRESS: at 64.08% examples, 1747637 words/s, in_qsize 15, out_qsize 0\n",
      "2021-02-12 14:05:29,751 : INFO : EPOCH 21 - PROGRESS: at 85.99% examples, 1758302 words/s, in_qsize 15, out_qsize 0\n",
      "2021-02-12 14:05:30,341 : INFO : worker thread finished; awaiting finish of 7 more threads\n",
      "2021-02-12 14:05:30,345 : INFO : worker thread finished; awaiting finish of 6 more threads\n",
      "2021-02-12 14:05:30,347 : INFO : worker thread finished; awaiting finish of 5 more threads\n",
      "2021-02-12 14:05:30,354 : INFO : worker thread finished; awaiting finish of 4 more threads\n",
      "2021-02-12 14:05:30,355 : INFO : worker thread finished; awaiting finish of 3 more threads\n",
      "2021-02-12 14:05:30,357 : INFO : worker thread finished; awaiting finish of 2 more threads\n",
      "2021-02-12 14:05:30,358 : INFO : worker thread finished; awaiting finish of 1 more threads\n",
      "2021-02-12 14:05:30,363 : INFO : worker thread finished; awaiting finish of 0 more threads\n",
      "2021-02-12 14:05:30,363 : INFO : EPOCH - 21 : training on 9227204 raw words (8222127 effective words) took 4.6s, 1773852 effective words/s\n",
      "2021-02-12 14:05:31,382 : INFO : EPOCH 22 - PROGRESS: at 20.48% examples, 1673583 words/s, in_qsize 15, out_qsize 0\n",
      "2021-02-12 14:05:32,391 : INFO : EPOCH 22 - PROGRESS: at 41.92% examples, 1711151 words/s, in_qsize 14, out_qsize 1\n",
      "2021-02-12 14:05:33,392 : INFO : EPOCH 22 - PROGRESS: at 63.75% examples, 1739916 words/s, in_qsize 14, out_qsize 1\n",
      "2021-02-12 14:05:34,396 : INFO : EPOCH 22 - PROGRESS: at 85.34% examples, 1745999 words/s, in_qsize 13, out_qsize 2\n",
      "2021-02-12 14:05:35,014 : INFO : worker thread finished; awaiting finish of 7 more threads\n",
      "2021-02-12 14:05:35,018 : INFO : worker thread finished; awaiting finish of 6 more threads\n",
      "2021-02-12 14:05:35,023 : INFO : worker thread finished; awaiting finish of 5 more threads\n",
      "2021-02-12 14:05:35,024 : INFO : worker thread finished; awaiting finish of 4 more threads\n",
      "2021-02-12 14:05:35,025 : INFO : worker thread finished; awaiting finish of 3 more threads\n",
      "2021-02-12 14:05:35,028 : INFO : worker thread finished; awaiting finish of 2 more threads\n",
      "2021-02-12 14:05:35,035 : INFO : worker thread finished; awaiting finish of 1 more threads\n",
      "2021-02-12 14:05:35,036 : INFO : worker thread finished; awaiting finish of 0 more threads\n",
      "2021-02-12 14:05:35,037 : INFO : EPOCH - 22 : training on 9227204 raw words (8222316 effective words) took 4.7s, 1764262 effective words/s\n",
      "2021-02-12 14:05:36,052 : INFO : EPOCH 23 - PROGRESS: at 20.70% examples, 1697640 words/s, in_qsize 15, out_qsize 0\n",
      "2021-02-12 14:05:37,052 : INFO : EPOCH 23 - PROGRESS: at 42.68% examples, 1752915 words/s, in_qsize 15, out_qsize 0\n",
      "2021-02-12 14:05:38,053 : INFO : EPOCH 23 - PROGRESS: at 64.30% examples, 1761864 words/s, in_qsize 14, out_qsize 1\n",
      "2021-02-12 14:05:39,059 : INFO : EPOCH 23 - PROGRESS: at 86.53% examples, 1775166 words/s, in_qsize 14, out_qsize 1\n",
      "2021-02-12 14:05:39,633 : INFO : worker thread finished; awaiting finish of 7 more threads\n",
      "2021-02-12 14:05:39,634 : INFO : worker thread finished; awaiting finish of 6 more threads\n",
      "2021-02-12 14:05:39,636 : INFO : worker thread finished; awaiting finish of 5 more threads\n",
      "2021-02-12 14:05:39,639 : INFO : worker thread finished; awaiting finish of 4 more threads\n",
      "2021-02-12 14:05:39,642 : INFO : worker thread finished; awaiting finish of 3 more threads\n",
      "2021-02-12 14:05:39,645 : INFO : worker thread finished; awaiting finish of 2 more threads\n",
      "2021-02-12 14:05:39,649 : INFO : worker thread finished; awaiting finish of 1 more threads\n",
      "2021-02-12 14:05:39,651 : INFO : worker thread finished; awaiting finish of 0 more threads\n",
      "2021-02-12 14:05:39,651 : INFO : EPOCH - 23 : training on 9227204 raw words (8221593 effective words) took 4.6s, 1786678 effective words/s\n",
      "2021-02-12 14:05:40,667 : INFO : EPOCH 24 - PROGRESS: at 20.48% examples, 1679684 words/s, in_qsize 15, out_qsize 0\n",
      "2021-02-12 14:05:41,677 : INFO : EPOCH 24 - PROGRESS: at 42.78% examples, 1749548 words/s, in_qsize 15, out_qsize 0\n",
      "2021-02-12 14:05:42,678 : INFO : EPOCH 24 - PROGRESS: at 65.06% examples, 1776731 words/s, in_qsize 15, out_qsize 0\n",
      "2021-02-12 14:05:43,682 : INFO : EPOCH 24 - PROGRESS: at 86.96% examples, 1780351 words/s, in_qsize 15, out_qsize 0\n",
      "2021-02-12 14:05:44,237 : INFO : worker thread finished; awaiting finish of 7 more threads\n",
      "2021-02-12 14:05:44,242 : INFO : worker thread finished; awaiting finish of 6 more threads\n",
      "2021-02-12 14:05:44,243 : INFO : worker thread finished; awaiting finish of 5 more threads\n",
      "2021-02-12 14:05:44,244 : INFO : worker thread finished; awaiting finish of 4 more threads\n",
      "2021-02-12 14:05:44,250 : INFO : worker thread finished; awaiting finish of 3 more threads\n",
      "2021-02-12 14:05:44,254 : INFO : worker thread finished; awaiting finish of 2 more threads\n",
      "2021-02-12 14:05:44,255 : INFO : worker thread finished; awaiting finish of 1 more threads\n",
      "2021-02-12 14:05:44,259 : INFO : worker thread finished; awaiting finish of 0 more threads\n",
      "2021-02-12 14:05:44,260 : INFO : EPOCH - 24 : training on 9227204 raw words (8222456 effective words) took 4.6s, 1789470 effective words/s\n",
      "2021-02-12 14:05:45,276 : INFO : EPOCH 25 - PROGRESS: at 20.48% examples, 1677635 words/s, in_qsize 15, out_qsize 0\n",
      "2021-02-12 14:05:46,280 : INFO : EPOCH 25 - PROGRESS: at 42.24% examples, 1730287 words/s, in_qsize 14, out_qsize 1\n",
      "2021-02-12 14:05:47,281 : INFO : EPOCH 25 - PROGRESS: at 64.19% examples, 1755746 words/s, in_qsize 15, out_qsize 0\n",
      "2021-02-12 14:05:48,283 : INFO : EPOCH 25 - PROGRESS: at 85.13% examples, 1745674 words/s, in_qsize 15, out_qsize 0\n",
      "2021-02-12 14:05:48,909 : INFO : worker thread finished; awaiting finish of 7 more threads\n",
      "2021-02-12 14:05:48,910 : INFO : worker thread finished; awaiting finish of 6 more threads\n",
      "2021-02-12 14:05:48,912 : INFO : worker thread finished; awaiting finish of 5 more threads\n",
      "2021-02-12 14:05:48,913 : INFO : worker thread finished; awaiting finish of 4 more threads\n",
      "2021-02-12 14:05:48,920 : INFO : worker thread finished; awaiting finish of 3 more threads\n",
      "2021-02-12 14:05:48,921 : INFO : worker thread finished; awaiting finish of 2 more threads\n",
      "2021-02-12 14:05:48,922 : INFO : worker thread finished; awaiting finish of 1 more threads\n",
      "2021-02-12 14:05:48,926 : INFO : worker thread finished; awaiting finish of 0 more threads\n",
      "2021-02-12 14:05:48,927 : INFO : EPOCH - 25 : training on 9227204 raw words (8222144 effective words) took 4.7s, 1766364 effective words/s\n",
      "2021-02-12 14:05:49,939 : INFO : EPOCH 26 - PROGRESS: at 20.48% examples, 1683397 words/s, in_qsize 15, out_qsize 0\n",
      "2021-02-12 14:05:50,944 : INFO : EPOCH 26 - PROGRESS: at 42.35% examples, 1737447 words/s, in_qsize 15, out_qsize 0\n",
      "2021-02-12 14:05:51,960 : INFO : EPOCH 26 - PROGRESS: at 63.75% examples, 1736839 words/s, in_qsize 15, out_qsize 0\n",
      "2021-02-12 14:05:52,969 : INFO : EPOCH 26 - PROGRESS: at 85.34% examples, 1742138 words/s, in_qsize 15, out_qsize 0\n",
      "2021-02-12 14:05:53,619 : INFO : worker thread finished; awaiting finish of 7 more threads\n",
      "2021-02-12 14:05:53,620 : INFO : worker thread finished; awaiting finish of 6 more threads\n",
      "2021-02-12 14:05:53,621 : INFO : worker thread finished; awaiting finish of 5 more threads\n",
      "2021-02-12 14:05:53,624 : INFO : worker thread finished; awaiting finish of 4 more threads\n",
      "2021-02-12 14:05:53,629 : INFO : worker thread finished; awaiting finish of 3 more threads\n",
      "2021-02-12 14:05:53,635 : INFO : worker thread finished; awaiting finish of 2 more threads\n",
      "2021-02-12 14:05:53,636 : INFO : worker thread finished; awaiting finish of 1 more threads\n",
      "2021-02-12 14:05:53,637 : INFO : worker thread finished; awaiting finish of 0 more threads\n",
      "2021-02-12 14:05:53,637 : INFO : EPOCH - 26 : training on 9227204 raw words (8223073 effective words) took 4.7s, 1750627 effective words/s\n",
      "2021-02-12 14:05:54,655 : INFO : EPOCH 27 - PROGRESS: at 19.94% examples, 1629856 words/s, in_qsize 15, out_qsize 0\n",
      "2021-02-12 14:05:55,657 : INFO : EPOCH 27 - PROGRESS: at 42.02% examples, 1722271 words/s, in_qsize 15, out_qsize 0\n",
      "2021-02-12 14:05:56,665 : INFO : EPOCH 27 - PROGRESS: at 63.11% examples, 1722428 words/s, in_qsize 14, out_qsize 1\n",
      "2021-02-12 14:05:57,666 : INFO : EPOCH 27 - PROGRESS: at 85.13% examples, 1743438 words/s, in_qsize 14, out_qsize 1\n",
      "2021-02-12 14:05:58,321 : INFO : worker thread finished; awaiting finish of 7 more threads\n",
      "2021-02-12 14:05:58,323 : INFO : worker thread finished; awaiting finish of 6 more threads\n",
      "2021-02-12 14:05:58,324 : INFO : worker thread finished; awaiting finish of 5 more threads\n",
      "2021-02-12 14:05:58,326 : INFO : worker thread finished; awaiting finish of 4 more threads\n",
      "2021-02-12 14:05:58,328 : INFO : worker thread finished; awaiting finish of 3 more threads\n",
      "2021-02-12 14:05:58,332 : INFO : worker thread finished; awaiting finish of 2 more threads\n",
      "2021-02-12 14:05:58,337 : INFO : worker thread finished; awaiting finish of 1 more threads\n",
      "2021-02-12 14:05:58,338 : INFO : worker thread finished; awaiting finish of 0 more threads\n",
      "2021-02-12 14:05:58,339 : INFO : EPOCH - 27 : training on 9227204 raw words (8224014 effective words) took 4.7s, 1753940 effective words/s\n",
      "2021-02-12 14:05:59,361 : INFO : EPOCH 28 - PROGRESS: at 20.38% examples, 1660711 words/s, in_qsize 15, out_qsize 0\n",
      "2021-02-12 14:06:00,366 : INFO : EPOCH 28 - PROGRESS: at 42.46% examples, 1733259 words/s, in_qsize 14, out_qsize 1\n",
      "2021-02-12 14:06:01,371 : INFO : EPOCH 28 - PROGRESS: at 64.30% examples, 1752779 words/s, in_qsize 16, out_qsize 0\n",
      "2021-02-12 14:06:02,379 : INFO : EPOCH 28 - PROGRESS: at 86.42% examples, 1765328 words/s, in_qsize 14, out_qsize 1\n",
      "2021-02-12 14:06:02,940 : INFO : worker thread finished; awaiting finish of 7 more threads\n",
      "2021-02-12 14:06:02,944 : INFO : worker thread finished; awaiting finish of 6 more threads\n",
      "2021-02-12 14:06:02,945 : INFO : worker thread finished; awaiting finish of 5 more threads\n",
      "2021-02-12 14:06:02,949 : INFO : worker thread finished; awaiting finish of 4 more threads\n",
      "2021-02-12 14:06:02,953 : INFO : worker thread finished; awaiting finish of 3 more threads\n",
      "2021-02-12 14:06:02,958 : INFO : worker thread finished; awaiting finish of 2 more threads\n",
      "2021-02-12 14:06:02,959 : INFO : worker thread finished; awaiting finish of 1 more threads\n",
      "2021-02-12 14:06:02,962 : INFO : worker thread finished; awaiting finish of 0 more threads\n",
      "2021-02-12 14:06:02,962 : INFO : EPOCH - 28 : training on 9227204 raw words (8223168 effective words) took 4.6s, 1783698 effective words/s\n",
      "2021-02-12 14:06:03,975 : INFO : EPOCH 29 - PROGRESS: at 20.38% examples, 1673507 words/s, in_qsize 15, out_qsize 0\n",
      "2021-02-12 14:06:04,982 : INFO : EPOCH 29 - PROGRESS: at 40.73% examples, 1668007 words/s, in_qsize 14, out_qsize 1\n",
      "2021-02-12 14:06:05,982 : INFO : EPOCH 29 - PROGRESS: at 62.14% examples, 1699982 words/s, in_qsize 13, out_qsize 2\n",
      "2021-02-12 14:06:06,989 : INFO : EPOCH 29 - PROGRESS: at 83.29% examples, 1706171 words/s, in_qsize 15, out_qsize 0\n",
      "2021-02-12 14:06:07,720 : INFO : worker thread finished; awaiting finish of 7 more threads\n",
      "2021-02-12 14:06:07,723 : INFO : worker thread finished; awaiting finish of 6 more threads\n",
      "2021-02-12 14:06:07,724 : INFO : worker thread finished; awaiting finish of 5 more threads\n",
      "2021-02-12 14:06:07,732 : INFO : worker thread finished; awaiting finish of 4 more threads\n",
      "2021-02-12 14:06:07,734 : INFO : worker thread finished; awaiting finish of 3 more threads\n",
      "2021-02-12 14:06:07,737 : INFO : worker thread finished; awaiting finish of 2 more threads\n",
      "2021-02-12 14:06:07,738 : INFO : worker thread finished; awaiting finish of 1 more threads\n",
      "2021-02-12 14:06:07,739 : INFO : worker thread finished; awaiting finish of 0 more threads\n",
      "2021-02-12 14:06:07,740 : INFO : EPOCH - 29 : training on 9227204 raw words (8222034 effective words) took 4.8s, 1725626 effective words/s\n",
      "2021-02-12 14:06:08,754 : INFO : EPOCH 30 - PROGRESS: at 20.59% examples, 1690035 words/s, in_qsize 15, out_qsize 0\n",
      "2021-02-12 14:06:09,756 : INFO : EPOCH 30 - PROGRESS: at 42.24% examples, 1734179 words/s, in_qsize 15, out_qsize 0\n",
      "2021-02-12 14:06:10,758 : INFO : EPOCH 30 - PROGRESS: at 64.30% examples, 1760842 words/s, in_qsize 14, out_qsize 1\n",
      "2021-02-12 14:06:11,759 : INFO : EPOCH 30 - PROGRESS: at 86.21% examples, 1769660 words/s, in_qsize 15, out_qsize 0\n",
      "2021-02-12 14:06:12,395 : INFO : worker thread finished; awaiting finish of 7 more threads\n",
      "2021-02-12 14:06:12,398 : INFO : worker thread finished; awaiting finish of 6 more threads\n",
      "2021-02-12 14:06:12,399 : INFO : worker thread finished; awaiting finish of 5 more threads\n",
      "2021-02-12 14:06:12,401 : INFO : worker thread finished; awaiting finish of 4 more threads\n",
      "2021-02-12 14:06:12,404 : INFO : worker thread finished; awaiting finish of 3 more threads\n",
      "2021-02-12 14:06:12,410 : INFO : worker thread finished; awaiting finish of 2 more threads\n",
      "2021-02-12 14:06:12,411 : INFO : worker thread finished; awaiting finish of 1 more threads\n",
      "2021-02-12 14:06:12,415 : INFO : worker thread finished; awaiting finish of 0 more threads\n",
      "2021-02-12 14:06:12,416 : INFO : EPOCH - 30 : training on 9227204 raw words (8223135 effective words) took 4.7s, 1763587 effective words/s\n",
      "2021-02-12 14:06:13,432 : INFO : EPOCH 31 - PROGRESS: at 20.27% examples, 1659136 words/s, in_qsize 15, out_qsize 0\n",
      "2021-02-12 14:06:14,453 : INFO : EPOCH 31 - PROGRESS: at 42.35% examples, 1719507 words/s, in_qsize 15, out_qsize 0\n",
      "2021-02-12 14:06:15,456 : INFO : EPOCH 31 - PROGRESS: at 63.65% examples, 1729789 words/s, in_qsize 14, out_qsize 1\n",
      "2021-02-12 14:06:16,464 : INFO : EPOCH 31 - PROGRESS: at 85.66% examples, 1745670 words/s, in_qsize 15, out_qsize 0\n",
      "2021-02-12 14:06:17,066 : INFO : worker thread finished; awaiting finish of 7 more threads\n",
      "2021-02-12 14:06:17,070 : INFO : worker thread finished; awaiting finish of 6 more threads\n",
      "2021-02-12 14:06:17,071 : INFO : worker thread finished; awaiting finish of 5 more threads\n",
      "2021-02-12 14:06:17,074 : INFO : worker thread finished; awaiting finish of 4 more threads\n",
      "2021-02-12 14:06:17,083 : INFO : worker thread finished; awaiting finish of 3 more threads\n",
      "2021-02-12 14:06:17,084 : INFO : worker thread finished; awaiting finish of 2 more threads\n",
      "2021-02-12 14:06:17,084 : INFO : worker thread finished; awaiting finish of 1 more threads\n",
      "2021-02-12 14:06:17,088 : INFO : worker thread finished; awaiting finish of 0 more threads\n",
      "2021-02-12 14:06:17,089 : INFO : EPOCH - 31 : training on 9227204 raw words (8222551 effective words) took 4.7s, 1764051 effective words/s\n",
      "2021-02-12 14:06:18,105 : INFO : EPOCH 32 - PROGRESS: at 20.16% examples, 1650506 words/s, in_qsize 16, out_qsize 0\n",
      "2021-02-12 14:06:19,106 : INFO : EPOCH 32 - PROGRESS: at 41.48% examples, 1701809 words/s, in_qsize 15, out_qsize 0\n",
      "2021-02-12 14:06:20,111 : INFO : EPOCH 32 - PROGRESS: at 62.89% examples, 1720366 words/s, in_qsize 16, out_qsize 0\n",
      "2021-02-12 14:06:21,116 : INFO : EPOCH 32 - PROGRESS: at 84.59% examples, 1732839 words/s, in_qsize 13, out_qsize 2\n",
      "2021-02-12 14:06:21,775 : INFO : worker thread finished; awaiting finish of 7 more threads\n",
      "2021-02-12 14:06:21,779 : INFO : worker thread finished; awaiting finish of 6 more threads\n",
      "2021-02-12 14:06:21,781 : INFO : worker thread finished; awaiting finish of 5 more threads\n",
      "2021-02-12 14:06:21,782 : INFO : worker thread finished; awaiting finish of 4 more threads\n",
      "2021-02-12 14:06:21,792 : INFO : worker thread finished; awaiting finish of 3 more threads\n",
      "2021-02-12 14:06:21,794 : INFO : worker thread finished; awaiting finish of 2 more threads\n",
      "2021-02-12 14:06:21,795 : INFO : worker thread finished; awaiting finish of 1 more threads\n",
      "2021-02-12 14:06:21,796 : INFO : worker thread finished; awaiting finish of 0 more threads\n",
      "2021-02-12 14:06:21,796 : INFO : EPOCH - 32 : training on 9227204 raw words (8222823 effective words) took 4.7s, 1751538 effective words/s\n",
      "2021-02-12 14:06:21,796 : INFO : training on a 295270528 raw words (263125050 effective words) took 148.2s, 1775347 effective words/s\n"
     ]
    },
    {
     "name": "stdout",
     "output_type": "stream",
     "text": [
      "Wall time: 2min 28s\n"
     ]
    },
    {
     "data": {
      "text/plain": "(263125050, 295270528)"
     },
     "execution_count": 22,
     "metadata": {},
     "output_type": "execute_result"
    }
   ],
   "source": [
    "%%time\n",
    "w2v_model.train(documents, total_examples=len(documents), epochs=W2V_EPOCH)"
   ]
  },
  {
   "cell_type": "code",
   "execution_count": 23,
   "metadata": {
    "pycharm": {
     "name": "#%%\n"
    }
   },
   "outputs": [
    {
     "name": "stderr",
     "output_type": "stream",
     "text": [
      "<ipython-input-23-4b765a3fedaa>:1: DeprecationWarning: Call to deprecated `most_similar` (Method will be removed in 4.0.0, use self.wv.most_similar() instead).\n",
      "  w2v_model.most_similar(\"love\")\n",
      "2021-02-12 14:06:21,801 : INFO : precomputing L2-norms of word weight vectors\n"
     ]
    },
    {
     "data": {
      "text/plain": "[('luv', 0.5687861442565918),\n ('loves', 0.5539885759353638),\n ('loved', 0.5353773832321167),\n ('adore', 0.5154370069503784),\n ('amazing', 0.49629300832748413),\n ('loveee', 0.4762691259384155),\n ('awesome', 0.47168806195259094),\n ('looove', 0.4578624367713928),\n ('lovee', 0.4440663158893585),\n ('loooove', 0.4399901032447815)]"
     },
     "execution_count": 23,
     "metadata": {},
     "output_type": "execute_result"
    }
   ],
   "source": [
    "w2v_model.most_similar(\"love\")"
   ]
  },
  {
   "cell_type": "code",
   "execution_count": 24,
   "metadata": {
    "pycharm": {
     "name": "#%%\n"
    }
   },
   "outputs": [
    {
     "name": "stdout",
     "output_type": "stream",
     "text": [
      "Total words 290419\n",
      "Wall time: 14.4 s\n"
     ]
    }
   ],
   "source": [
    "%%time\n",
    "tokenizer = Tokenizer()\n",
    "tokenizer.fit_on_texts(df_train.text)\n",
    "\n",
    "vocab_size = len(tokenizer.word_index) + 1\n",
    "print(\"Total words\", vocab_size)"
   ]
  },
  {
   "cell_type": "code",
   "execution_count": 25,
   "metadata": {
    "pycharm": {
     "name": "#%%\n"
    }
   },
   "outputs": [
    {
     "name": "stdout",
     "output_type": "stream",
     "text": [
      "Wall time: 21.8 s\n"
     ]
    }
   ],
   "source": [
    "%%time\n",
    "x_train = pad_sequences(tokenizer.texts_to_sequences(df_train.text), maxlen=SEQUENCE_LENGTH)\n",
    "x_test = pad_sequences(tokenizer.texts_to_sequences(df_test.text), maxlen=SEQUENCE_LENGTH)"
   ]
  },
  {
   "cell_type": "code",
   "execution_count": 26,
   "metadata": {
    "pycharm": {
     "name": "#%%\n"
    }
   },
   "outputs": [
    {
     "data": {
      "text/plain": "['POSITIVE', 'NEGATIVE', 'NEUTRAL']"
     },
     "execution_count": 26,
     "metadata": {},
     "output_type": "execute_result"
    }
   ],
   "source": [
    "labels = df_train.target.unique().tolist()\n",
    "labels.append(NEUTRAL)\n",
    "labels"
   ]
  },
  {
   "cell_type": "code",
   "execution_count": 27,
   "metadata": {
    "pycharm": {
     "name": "#%%\n"
    }
   },
   "outputs": [
    {
     "name": "stdout",
     "output_type": "stream",
     "text": [
      "y_train (1280000, 1)\n",
      "y_test (320000, 1)\n"
     ]
    }
   ],
   "source": [
    "encoder = LabelEncoder()\n",
    "encoder.fit(df_train.target.tolist())\n",
    "\n",
    "y_train = encoder.transform(df_train.target.tolist())\n",
    "y_test = encoder.transform(df_test.target.tolist())\n",
    "\n",
    "y_train = y_train.reshape(-1,1)\n",
    "y_test = y_test.reshape(-1,1)\n",
    "\n",
    "print(\"y_train\",y_train.shape)\n",
    "print(\"y_test\",y_test.shape)"
   ]
  },
  {
   "cell_type": "code",
   "execution_count": 28,
   "metadata": {
    "pycharm": {
     "name": "#%%\n"
    }
   },
   "outputs": [
    {
     "name": "stdout",
     "output_type": "stream",
     "text": [
      "x_train (1280000, 300)\n",
      "y_train (1280000, 1)\n",
      "\n",
      "x_test (320000, 300)\n",
      "y_test (320000, 1)\n"
     ]
    }
   ],
   "source": [
    "print(\"x_train\", x_train.shape)\n",
    "print(\"y_train\", y_train.shape)\n",
    "print()\n",
    "print(\"x_test\", x_test.shape)\n",
    "print(\"y_test\", y_test.shape)"
   ]
  },
  {
   "cell_type": "code",
   "execution_count": 29,
   "metadata": {
    "pycharm": {
     "name": "#%%\n"
    }
   },
   "outputs": [
    {
     "data": {
      "text/plain": "array([[1],\n       [1],\n       [1],\n       [0],\n       [1],\n       [1],\n       [1],\n       [1],\n       [1],\n       [1]], dtype=int64)"
     },
     "execution_count": 29,
     "metadata": {},
     "output_type": "execute_result"
    }
   ],
   "source": [
    "y_train[:10]"
   ]
  },
  {
   "cell_type": "code",
   "execution_count": 30,
   "metadata": {
    "pycharm": {
     "name": "#%%\n"
    }
   },
   "outputs": [
    {
     "name": "stdout",
     "output_type": "stream",
     "text": [
      "(290419, 300)\n"
     ]
    }
   ],
   "source": [
    "embedding_matrix = np.zeros((vocab_size, W2V_SIZE))\n",
    "for word, i in tokenizer.word_index.items():\n",
    "  if word in w2v_model.wv:\n",
    "    embedding_matrix[i] = w2v_model.wv[word]\n",
    "print(embedding_matrix.shape)"
   ]
  },
  {
   "cell_type": "code",
   "execution_count": 31,
   "metadata": {
    "pycharm": {
     "name": "#%%\n"
    }
   },
   "outputs": [],
   "source": [
    "embedding_layer = Embedding(vocab_size, W2V_SIZE, weights=[embedding_matrix], input_length=SEQUENCE_LENGTH, trainable=False)"
   ]
  },
  {
   "cell_type": "code",
   "execution_count": 32,
   "metadata": {
    "pycharm": {
     "name": "#%%\n"
    }
   },
   "outputs": [
    {
     "name": "stdout",
     "output_type": "stream",
     "text": [
      "Model: \"sequential\"\n",
      "_________________________________________________________________\n",
      "Layer (type)                 Output Shape              Param #   \n",
      "=================================================================\n",
      "embedding (Embedding)        (None, 300, 300)          87125700  \n",
      "_________________________________________________________________\n",
      "dropout (Dropout)            (None, 300, 300)          0         \n",
      "_________________________________________________________________\n",
      "lstm (LSTM)                  (None, 100)               160400    \n",
      "_________________________________________________________________\n",
      "dense (Dense)                (None, 1)                 101       \n",
      "=================================================================\n",
      "Total params: 87,286,201\n",
      "Trainable params: 160,501\n",
      "Non-trainable params: 87,125,700\n",
      "_________________________________________________________________\n"
     ]
    }
   ],
   "source": [
    "model = Sequential()\n",
    "model.add(embedding_layer)\n",
    "model.add(Dropout(0.5))\n",
    "model.add(LSTM(100, dropout=0.2, recurrent_dropout=0.2))\n",
    "model.add(Dense(1, activation='sigmoid'))\n",
    "\n",
    "model.summary()"
   ]
  },
  {
   "cell_type": "code",
   "execution_count": 33,
   "metadata": {
    "pycharm": {
     "name": "#%%\n"
    }
   },
   "outputs": [],
   "source": [
    "model.compile(loss='binary_crossentropy',\n",
    "              optimizer=\"adam\",\n",
    "              metrics=['accuracy'])"
   ]
  },
  {
   "cell_type": "code",
   "execution_count": 34,
   "metadata": {
    "pycharm": {
     "name": "#%%\n"
    }
   },
   "outputs": [],
   "source": [
    "callbacks = [ ReduceLROnPlateau(monitor='val_loss', patience=5, cooldown=0),\n",
    "              EarlyStopping(monitor='val_acc', min_delta=1e-4, patience=5)]"
   ]
  },
  {
   "cell_type": "code",
   "execution_count": 35,
   "metadata": {
    "pycharm": {
     "name": "#%%\n"
    }
   },
   "outputs": [
    {
     "name": "stdout",
     "output_type": "stream",
     "text": [
      "Epoch 1/8\n",
      "  20/1125 [..............................] - ETA: 1:13:36 - loss: 0.6718 - accuracy: 0.5690\b\b\b\b\b\b\b\b\b\b\b\b\b\b\b\b\b\b\b\b\b\b\b\b\b\b\b\b\b\b\b\b\b\b\b\b\b\b\b\b\b\b\b\b\b\b\b\b\b\b\b\b\b\b\b\b\b\b\b\b\b\b\b\b\b\b\b\b\b\b\b\b\b\b\b\b\b\b\b\b\b\b\b\b\b\b\b\b\b\b\b\b\b\b\b\b\b\b\b\b\b\b\b\b\b\b\b\b\b\b\b\b\b\b\b\b\b\b\b\b\b\b\b\b\b\b\b\b\b\b\b\b\b\b\b\b\b\b\b\b\b\b\b\b\b\b\b\b\b\b\b\b\b\b\b\b\b\b\b\b\b\b\b\b\b\b\b\b\b\b\b\b\b\b\b\b\b\b\b\b\b\b\b\b\b\b\b\b\b\b\b\b\b\b\b\b\b\b\b\b\b\b\b\b\b\b\b\b\b\b\b\b\b\b\b\b\b\b\b\b\b\b\b\b\b\b\b\b\b\b\b\b\b\b\b\b\b\b\b\b\b\b\b\b\b\b\b\b\b\b\b\b\b\b\b\b\b\b\b\b\b\b\b\b\b\b\b\b\b\b\b\b\b\b\b\b\b\b\b\b\b\b\b\b\b\b\b\b\b\b\b\b\b\b\b\b\b\b\b\b\b\b\b\b\b\b\b\b\b\b\b\b\b\b\b\b\b\b\b\b\b\b\b\b\b\b\b\b\b\b\b\b\b\b\b\b\b\b\b\b\b\b\b\b\b\b\b\b\b\b\b\b\b\b\b\b\b\b\b\b\b\b\b\b\b\b\b\b\b\b\b\b\b\b\b\b\b\b\b\b\b\b\b\b\b\b\b\b\b\b\b\b\b\b\b\b\b\b\b\b\b\b\b\b\b\b\b\b\b\b\b\b\b\b\b\b\b\b\b\b\b\b\b\b\b\b\b\b\b\b\b\b\b\b\b\b\b\b\b\b\b\b\b\b\b\b\b\b\b\b\b\b\b\b\b\b\b\b\b\b\b\b\b\b\b\b\b\b\b\b\b\b\b\b\b\b\b\b\b\b\b\b\b\b\b\b\b\b\b\b\b\b\b\b\b\b\b\b\b\b\b\b\b\b\b\b\b\b\b\b\b\b\b\b\b\b\b\b\b\b\b\b\b\b\b\b\b\b\b\b\b\b\b\b\b\b\b\b\b\b\b\b\b\b\b\b\b\b\b\b\b\b\b\b\b\b\b\b\b\b\b\b\b\b\b\b\b\b\b\b\b\b\b\b\b\b\b\b\b\b\b\b\b\b\b\b\b\b\b\b\b\b\b\b\b\b\b\b\b\b\b\b\b\b\b\b\b\b\b\b\b\b\b\b\b\b\b\b\b\b\b\b\b\b\b\b\b\b\b\b\b\b\b\b\b\b\b\b\b\b\b\b\b\b\b\b\b\b\b\b\b\b\b\b\b\b\b\b\b\b\b\b\b\b\b\b\b\b\b\b\b\b\b\b\b\b\b\b\b\b\b\b\b\b\b\b\b\b\b\b\b\b\b\b\b\b\b\b\b\b\b\b\b\b\b\b\b\b\b\b\b\b\b\b\b\b\b\b\b\b\b\b\b\b\b\b\b\b\b\b\b\b\b\b\b\b\b\b\b\b\b\b\b\b\b\b\b\b\b\b\b\b\b\b\b\b\b\b\b\b\b\b\b\b\b\b\b\b\b\b\b\b\b\b\b\b\b\b\b\b\b\b\b\b\b\b\b\b\b\b\b\b\b\b\b\b\b\b\b\b\b\b\b\b\b\b\b\b\b\b\b\b\b\b\b\b\b\b\b\b\b\b\b\b\b\b\b\b\b\b\b\b\b\b\b\b\b\b\b\b\b\b\b\b\b\b\b\b\b\b\b\b\b\b\b\b\b\b\b\b\b\b\b\b\b\b\b\b\b\b\b\b\b\b\b\b\b\b\b\b\b\b\b\b\b\b\b\b\b\b\b\b\b\b\b\b\b\b\b\b\b\b\b\b\b\b\b\b\b\b\b\b\b\b\b\b\b\b\b\b\b\b\b\b\b\b\b\b\b\b\b\b\b\b\b\b\b\b\b\b\b\b\b\b\b\b\b\b\b\b\b\b\b\b\b\b\b\b\b\b\b\b\b\b\b\b\b\b\b\b\b\b\b\b\b\b\b\b\b\b\b\b\b\b\b\b\b\b\b\b\b\b\b\b\b\b\b\b\b\b\b\b\b\b\b\b\b\b\b\b\b\b\b\b\b\b\b\b\b\b\b\b\b\b\b\b\b\b\b\b\b\b\b\b\b\b\b\b\b\b\b\b\b\b\b\b\b\b\b\b\b\b\b\b\b\b\b\b\b\b\b\b\b\b\b\b\b\b\b\b\b\b\b\b\b\b\b\b\b\b\b\b\b\b\b\b\b\b\b\b\b\b\b\b\b\b\b\b\b\b\b\b\b\b\b\b\b\b\b\b\b\b\b\b\b\b\b\b\b\b\b\b\b\b\b\b\b\b\b\b\b\b\b\b\b\b\b\b\b\b\b\b\b\b\b\b\b\b\b\b\b\b\b\b\b\b\b\b\b\b\b\b\b\b\b\b\b\b\b\b\b\b\b\b\b\b\b\b\b\b\b\b\b\b\b\b\b\b\b\b\b\b\b\b\b\b\b\b\b\b\b\b\b\b\b\b\b\b\b\b\b\b\b\b\b\b\b\b\b\b\b\b\b\b\b\b\b\b\b\b\b\b\b\b\b\b\b\b\b\b\b\b\b\b\b\b\b\b\b\b\b\b\b\b\b\b\b\b\b\b\b\b\b\b\b\b\b\b\b\b\b\b\b\b\b\b\b\b\b\b\b\b\b\b\b\b\b\b\b\b\b\b\b\b\b\b\b\b\b\b\b\b\b\b\b\b\b\b\b\b\b\b\b\b\b\b\b\b\b\b\b\b\b\b\b\b\b\b\b\b\b\b\b\b\b\b\b\b\b\b\b\b\b\b\b\b\b\b\b\b\b\b\b\b\b\b\b\b\b\b\b\b\b\b\b\b\b\b\b\b\b\b\b\b\b\b\b\b\b\b\b\b\b\b\b\b\b\b\b\b\b\b\b\b\b\b\b\b\b\b\b\b\b\b\b\b\b\b\b\b\b\b\b\b\b\b\b\b\b\b\b\b\b\b\b\b\b\b\b\b\b\b\b\b\b\b\b\b\b\b\b\b\b\b\b\b\b\b\b\b\b\b\b\b\b\b\b\b\b\b\b\b\b\b\b\b\b\b\b\b\b\b\b\b\b\b\b\b\b\b\b\b\b\b\b\b\b\b\b\b\b\b\b\b\b\b\b\b\b\b\b\b\b\b\b\b\b\b\b\b\b\b\b\b\b\b\b\b\b\b\b\b\b\b\b\b\b\b\b\b\b\b\b\b\b\b\b\b\b\b\b\b\b\b\b\b\b\b\b\b\b\b\b\b\b\b\b\b\b\b\b\b\b\b\b\b\b\b\b\b\b\b\b\b\b\b\b\b\b\b\b\b\b\b\b\b\b\b\b\b\b\b\b\b\b\b\b\b\b\b\b\b\b\b\b\b\b\b\b\b\b\b\b\b\b\b\b\b\b\b\b\b\b\b\b\b\b\b\b\b\b\b\b\b\b\b\b\b\b\b\b\b\b\b\b\b\b\b\b\b\b\b\b\b\b\b\b\b\b\b\b\b\b\b\b\b\b\b\b\b\b\b\b\b\b\b\b\b\b\b\b\b\b\b\b\b\b\b\b\b\b\b\b\b\b\b\b\b\b\b\b\b\b\b\b\b\b\b\b\b\b\b\b\b\b\b\b\b\b\b\b\b\b\b\b\b\b\b\b"
     ]
    },
    {
     "ename": "KeyboardInterrupt",
     "evalue": "",
     "output_type": "error",
     "traceback": [
      "\u001B[1;31m---------------------------------------------------------------------------\u001B[0m",
      "\u001B[1;31mKeyboardInterrupt\u001B[0m                         Traceback (most recent call last)",
      "\u001B[1;32m<timed exec>\u001B[0m in \u001B[0;36m<module>\u001B[1;34m\u001B[0m\n",
      "\u001B[1;32m~\\anaconda3\\lib\\site-packages\\tensorflow\\python\\keras\\engine\\training.py\u001B[0m in \u001B[0;36mfit\u001B[1;34m(self, x, y, batch_size, epochs, verbose, callbacks, validation_split, validation_data, shuffle, class_weight, sample_weight, initial_epoch, steps_per_epoch, validation_steps, validation_batch_size, validation_freq, max_queue_size, workers, use_multiprocessing)\u001B[0m\n\u001B[0;32m   1098\u001B[0m                 _r=1):\n\u001B[0;32m   1099\u001B[0m               \u001B[0mcallbacks\u001B[0m\u001B[1;33m.\u001B[0m\u001B[0mon_train_batch_begin\u001B[0m\u001B[1;33m(\u001B[0m\u001B[0mstep\u001B[0m\u001B[1;33m)\u001B[0m\u001B[1;33m\u001B[0m\u001B[1;33m\u001B[0m\u001B[0m\n\u001B[1;32m-> 1100\u001B[1;33m               \u001B[0mtmp_logs\u001B[0m \u001B[1;33m=\u001B[0m \u001B[0mself\u001B[0m\u001B[1;33m.\u001B[0m\u001B[0mtrain_function\u001B[0m\u001B[1;33m(\u001B[0m\u001B[0miterator\u001B[0m\u001B[1;33m)\u001B[0m\u001B[1;33m\u001B[0m\u001B[1;33m\u001B[0m\u001B[0m\n\u001B[0m\u001B[0;32m   1101\u001B[0m               \u001B[1;32mif\u001B[0m \u001B[0mdata_handler\u001B[0m\u001B[1;33m.\u001B[0m\u001B[0mshould_sync\u001B[0m\u001B[1;33m:\u001B[0m\u001B[1;33m\u001B[0m\u001B[1;33m\u001B[0m\u001B[0m\n\u001B[0;32m   1102\u001B[0m                 \u001B[0mcontext\u001B[0m\u001B[1;33m.\u001B[0m\u001B[0masync_wait\u001B[0m\u001B[1;33m(\u001B[0m\u001B[1;33m)\u001B[0m\u001B[1;33m\u001B[0m\u001B[1;33m\u001B[0m\u001B[0m\n",
      "\u001B[1;32m~\\anaconda3\\lib\\site-packages\\tensorflow\\python\\eager\\def_function.py\u001B[0m in \u001B[0;36m__call__\u001B[1;34m(self, *args, **kwds)\u001B[0m\n\u001B[0;32m    826\u001B[0m     \u001B[0mtracing_count\u001B[0m \u001B[1;33m=\u001B[0m \u001B[0mself\u001B[0m\u001B[1;33m.\u001B[0m\u001B[0mexperimental_get_tracing_count\u001B[0m\u001B[1;33m(\u001B[0m\u001B[1;33m)\u001B[0m\u001B[1;33m\u001B[0m\u001B[1;33m\u001B[0m\u001B[0m\n\u001B[0;32m    827\u001B[0m     \u001B[1;32mwith\u001B[0m \u001B[0mtrace\u001B[0m\u001B[1;33m.\u001B[0m\u001B[0mTrace\u001B[0m\u001B[1;33m(\u001B[0m\u001B[0mself\u001B[0m\u001B[1;33m.\u001B[0m\u001B[0m_name\u001B[0m\u001B[1;33m)\u001B[0m \u001B[1;32mas\u001B[0m \u001B[0mtm\u001B[0m\u001B[1;33m:\u001B[0m\u001B[1;33m\u001B[0m\u001B[1;33m\u001B[0m\u001B[0m\n\u001B[1;32m--> 828\u001B[1;33m       \u001B[0mresult\u001B[0m \u001B[1;33m=\u001B[0m \u001B[0mself\u001B[0m\u001B[1;33m.\u001B[0m\u001B[0m_call\u001B[0m\u001B[1;33m(\u001B[0m\u001B[1;33m*\u001B[0m\u001B[0margs\u001B[0m\u001B[1;33m,\u001B[0m \u001B[1;33m**\u001B[0m\u001B[0mkwds\u001B[0m\u001B[1;33m)\u001B[0m\u001B[1;33m\u001B[0m\u001B[1;33m\u001B[0m\u001B[0m\n\u001B[0m\u001B[0;32m    829\u001B[0m       \u001B[0mcompiler\u001B[0m \u001B[1;33m=\u001B[0m \u001B[1;34m\"xla\"\u001B[0m \u001B[1;32mif\u001B[0m \u001B[0mself\u001B[0m\u001B[1;33m.\u001B[0m\u001B[0m_experimental_compile\u001B[0m \u001B[1;32melse\u001B[0m \u001B[1;34m\"nonXla\"\u001B[0m\u001B[1;33m\u001B[0m\u001B[1;33m\u001B[0m\u001B[0m\n\u001B[0;32m    830\u001B[0m       \u001B[0mnew_tracing_count\u001B[0m \u001B[1;33m=\u001B[0m \u001B[0mself\u001B[0m\u001B[1;33m.\u001B[0m\u001B[0mexperimental_get_tracing_count\u001B[0m\u001B[1;33m(\u001B[0m\u001B[1;33m)\u001B[0m\u001B[1;33m\u001B[0m\u001B[1;33m\u001B[0m\u001B[0m\n",
      "\u001B[1;32m~\\anaconda3\\lib\\site-packages\\tensorflow\\python\\eager\\def_function.py\u001B[0m in \u001B[0;36m_call\u001B[1;34m(self, *args, **kwds)\u001B[0m\n\u001B[0;32m    853\u001B[0m       \u001B[1;31m# In this case we have created variables on the first call, so we run the\u001B[0m\u001B[1;33m\u001B[0m\u001B[1;33m\u001B[0m\u001B[1;33m\u001B[0m\u001B[0m\n\u001B[0;32m    854\u001B[0m       \u001B[1;31m# defunned version which is guaranteed to never create variables.\u001B[0m\u001B[1;33m\u001B[0m\u001B[1;33m\u001B[0m\u001B[1;33m\u001B[0m\u001B[0m\n\u001B[1;32m--> 855\u001B[1;33m       \u001B[1;32mreturn\u001B[0m \u001B[0mself\u001B[0m\u001B[1;33m.\u001B[0m\u001B[0m_stateless_fn\u001B[0m\u001B[1;33m(\u001B[0m\u001B[1;33m*\u001B[0m\u001B[0margs\u001B[0m\u001B[1;33m,\u001B[0m \u001B[1;33m**\u001B[0m\u001B[0mkwds\u001B[0m\u001B[1;33m)\u001B[0m  \u001B[1;31m# pylint: disable=not-callable\u001B[0m\u001B[1;33m\u001B[0m\u001B[1;33m\u001B[0m\u001B[0m\n\u001B[0m\u001B[0;32m    856\u001B[0m     \u001B[1;32melif\u001B[0m \u001B[0mself\u001B[0m\u001B[1;33m.\u001B[0m\u001B[0m_stateful_fn\u001B[0m \u001B[1;32mis\u001B[0m \u001B[1;32mnot\u001B[0m \u001B[1;32mNone\u001B[0m\u001B[1;33m:\u001B[0m\u001B[1;33m\u001B[0m\u001B[1;33m\u001B[0m\u001B[0m\n\u001B[0;32m    857\u001B[0m       \u001B[1;31m# Release the lock early so that multiple threads can perform the call\u001B[0m\u001B[1;33m\u001B[0m\u001B[1;33m\u001B[0m\u001B[1;33m\u001B[0m\u001B[0m\n",
      "\u001B[1;32m~\\anaconda3\\lib\\site-packages\\tensorflow\\python\\eager\\function.py\u001B[0m in \u001B[0;36m__call__\u001B[1;34m(self, *args, **kwargs)\u001B[0m\n\u001B[0;32m   2940\u001B[0m       (graph_function,\n\u001B[0;32m   2941\u001B[0m        filtered_flat_args) = self._maybe_define_function(args, kwargs)\n\u001B[1;32m-> 2942\u001B[1;33m     return graph_function._call_flat(\n\u001B[0m\u001B[0;32m   2943\u001B[0m         filtered_flat_args, captured_inputs=graph_function.captured_inputs)  # pylint: disable=protected-access\n\u001B[0;32m   2944\u001B[0m \u001B[1;33m\u001B[0m\u001B[0m\n",
      "\u001B[1;32m~\\anaconda3\\lib\\site-packages\\tensorflow\\python\\eager\\function.py\u001B[0m in \u001B[0;36m_call_flat\u001B[1;34m(self, args, captured_inputs, cancellation_manager)\u001B[0m\n\u001B[0;32m   1916\u001B[0m         and executing_eagerly):\n\u001B[0;32m   1917\u001B[0m       \u001B[1;31m# No tape is watching; skip to running the function.\u001B[0m\u001B[1;33m\u001B[0m\u001B[1;33m\u001B[0m\u001B[1;33m\u001B[0m\u001B[0m\n\u001B[1;32m-> 1918\u001B[1;33m       return self._build_call_outputs(self._inference_function.call(\n\u001B[0m\u001B[0;32m   1919\u001B[0m           ctx, args, cancellation_manager=cancellation_manager))\n\u001B[0;32m   1920\u001B[0m     forward_backward = self._select_forward_and_backward_functions(\n",
      "\u001B[1;32m~\\anaconda3\\lib\\site-packages\\tensorflow\\python\\eager\\function.py\u001B[0m in \u001B[0;36mcall\u001B[1;34m(self, ctx, args, cancellation_manager)\u001B[0m\n\u001B[0;32m    553\u001B[0m       \u001B[1;32mwith\u001B[0m \u001B[0m_InterpolateFunctionError\u001B[0m\u001B[1;33m(\u001B[0m\u001B[0mself\u001B[0m\u001B[1;33m)\u001B[0m\u001B[1;33m:\u001B[0m\u001B[1;33m\u001B[0m\u001B[1;33m\u001B[0m\u001B[0m\n\u001B[0;32m    554\u001B[0m         \u001B[1;32mif\u001B[0m \u001B[0mcancellation_manager\u001B[0m \u001B[1;32mis\u001B[0m \u001B[1;32mNone\u001B[0m\u001B[1;33m:\u001B[0m\u001B[1;33m\u001B[0m\u001B[1;33m\u001B[0m\u001B[0m\n\u001B[1;32m--> 555\u001B[1;33m           outputs = execute.execute(\n\u001B[0m\u001B[0;32m    556\u001B[0m               \u001B[0mstr\u001B[0m\u001B[1;33m(\u001B[0m\u001B[0mself\u001B[0m\u001B[1;33m.\u001B[0m\u001B[0msignature\u001B[0m\u001B[1;33m.\u001B[0m\u001B[0mname\u001B[0m\u001B[1;33m)\u001B[0m\u001B[1;33m,\u001B[0m\u001B[1;33m\u001B[0m\u001B[1;33m\u001B[0m\u001B[0m\n\u001B[0;32m    557\u001B[0m               \u001B[0mnum_outputs\u001B[0m\u001B[1;33m=\u001B[0m\u001B[0mself\u001B[0m\u001B[1;33m.\u001B[0m\u001B[0m_num_outputs\u001B[0m\u001B[1;33m,\u001B[0m\u001B[1;33m\u001B[0m\u001B[1;33m\u001B[0m\u001B[0m\n",
      "\u001B[1;32m~\\anaconda3\\lib\\site-packages\\tensorflow\\python\\eager\\execute.py\u001B[0m in \u001B[0;36mquick_execute\u001B[1;34m(op_name, num_outputs, inputs, attrs, ctx, name)\u001B[0m\n\u001B[0;32m     57\u001B[0m   \u001B[1;32mtry\u001B[0m\u001B[1;33m:\u001B[0m\u001B[1;33m\u001B[0m\u001B[1;33m\u001B[0m\u001B[0m\n\u001B[0;32m     58\u001B[0m     \u001B[0mctx\u001B[0m\u001B[1;33m.\u001B[0m\u001B[0mensure_initialized\u001B[0m\u001B[1;33m(\u001B[0m\u001B[1;33m)\u001B[0m\u001B[1;33m\u001B[0m\u001B[1;33m\u001B[0m\u001B[0m\n\u001B[1;32m---> 59\u001B[1;33m     tensors = pywrap_tfe.TFE_Py_Execute(ctx._handle, device_name, op_name,\n\u001B[0m\u001B[0;32m     60\u001B[0m                                         inputs, attrs, num_outputs)\n\u001B[0;32m     61\u001B[0m   \u001B[1;32mexcept\u001B[0m \u001B[0mcore\u001B[0m\u001B[1;33m.\u001B[0m\u001B[0m_NotOkStatusException\u001B[0m \u001B[1;32mas\u001B[0m \u001B[0me\u001B[0m\u001B[1;33m:\u001B[0m\u001B[1;33m\u001B[0m\u001B[1;33m\u001B[0m\u001B[0m\n",
      "\u001B[1;31mKeyboardInterrupt\u001B[0m: "
     ]
    }
   ],
   "source": [
    "%%time\n",
    "history = model.fit(x_train, y_train,\n",
    "                    batch_size=BATCH_SIZE,\n",
    "                    epochs=EPOCHS,\n",
    "                    validation_split=0.1,\n",
    "                    verbose=1,\n",
    "                    callbacks=callbacks)"
   ]
  },
  {
   "cell_type": "code",
   "execution_count": null,
   "metadata": {
    "pycharm": {
     "name": "#%%\n",
     "is_executing": true
    }
   },
   "outputs": [
    {
     "name": "stdout",
     "output_type": "stream",
     "text": [
      " 73/313 [=====>........................] - ETA: 2:34 - loss: 0.5475 - accuracy: 0.7217\b\b\b\b\b\b\b\b\b\b\b\b\b\b\b\b\b\b\b\b\b\b\b\b\b\b\b\b\b\b\b\b\b\b\b\b\b\b\b\b\b\b\b\b\b\b\b\b\b\b\b\b\b\b\b\b\b\b\b\b\b\b\b\b\b\b\b\b\b\b\b\b\b\b\b\b\b\b\b\b\b\b\b\b\b\b\b\b\b\b\b\b\b\b\b\b\b\b\b\b\b\b\b\b\b\b\b\b\b\b\b\b\b\b\b\b\b\b\b\b\b\b\b\b\b\b\b\b\b\b\b\b\b\b\b\b\b\b\b\b\b\b\b\b\b\b\b\b\b\b\b\b\b\b\b\b\b\b\b\b\b\b\b\b\b\b\b\b\b\b\b\b\b\b\b\b\b\b\b\b\b\b\b\b\b\b\b\b\b\b\b\b\b\b\b\b\b\b\b\b\b\b\b\b\b\b\b\b\b\b\b\b\b\b\b\b\b\b\b\b\b\b\b\b\b\b\b\b\b\b\b\b\b\b\b\b\b\b\b\b\b\b\b\b\b\b\b\b\b\b\b\b\b\b\b\b\b\b\b\b\b\b\b\b\b\b\b\b\b\b\b\b\b\b\b\b\b\b\b\b\b\b\b\b\b\b\b\b\b\b\b\b\b\b\b\b\b\b\b\b\b\b\b\b\b\b\b\b\b\b\b\b\b\b\b\b\b\b\b\b\b\b\b\b\b\b\b\b\b\b\b\b\b\b\b\b\b\b\b\b\b\b\b\b\b\b\b\b\b\b\b\b\b\b\b\b\b\b\b\b\b\b\b\b\b\b\b\b\b\b\b\b\b\b\b\b\b\b\b\b\b\b\b\b\b\b\b\b\b\b\b\b\b\b\b\b\b\b\b\b\b\b\b\b\b\b\b\b\b\b\b\b\b\b\b\b\b\b\b\b\b\b\b\b\b\b\b\b\b\b\b\b\b\b\b\b\b\b\b\b\b\b\b\b\b\b\b\b\b\b\b\b\b\b\b\b\b\b\b\b\b\b\b\b\b\b\b\b\b\b\b\b\b\b\b\b\b\b\b\b\b\b\b\b\b\b\b\b\b\b\b\b\b\b\b\b\b\b\b\b\b\b\b\b\b\b\b\b\b\b\b\b\b\b\b\b\b\b\b\b\b\b\b\b\b\b\b\b\b\b\b\b\b\b\b\b\b\b\b\b\b\b\b\b\b\b\b\b\b\b\b\b\b\b\b\b\b\b\b\b\b\b\b\b\b\b\b\b\b\b\b\b\b\b\b\b\b\b\b\b\b\b\b\b\b\b\b\b\b\b\b\b\b\b\b\b\b\b\b\b\b\b\b\b\b\b\b\b\b\b\b\b\b\b\b\b\b\b\b\b\b\b\b\b\b\b\b\b\b\b\b\b\b\b\b\b\b\b\b\b\b\b\b\b\b\b\b\b\b\b\b\b\b\b\b\b\b\b\b\b\b\b\b\b\b\b\b\b\b\b\b\b\b\b\b\b\b\b\b\b\b\b\b\b\b\b\b\b\b\b\b\b\b\b\b\b\b\b\b\b\b\b\b\b\b\b\b\b\b\b\b\b\b\b\b\b\b\b\b\b\b\b\b\b\b\b\b\b\b\b\b\b\b\b\b\b\b\b\b\b\b\b\b\b\b\b\b\b\b\b\b\b\b\b\b\b\b\b\b\b\b\b\b\b\b\b\b\b\b\b\b\b\b\b\b\b\b\b\b\b\b\b\b\b\b\b\b\b\b\b\b\b\b\b\b\b\b\b\b\b\b\b\b\b\b\b\b\b\b\b\b\b\b\b\b\b\b\b\b\b\b\b\b\b\b\b\b\b\b\b\b\b\b\b\b\b\b\b\b\b\b\b\b\b\b\b\b\b\b\b\b\b\b\b\b\b\b\b\b\b\b\b\b\b\b\b\b\b\b\b\b\b\b\b\b\b\b\b\b\b\b\b\b\b\b\b\b\b\b\b\b\b\b\b\b\b\b\b\b\b\b\b\b\b\b\b\b\b\b\b\b\b\b\b\b\b\b\b\b\b\b\b\b\b\b\b\b\b\b\b\b\b\b\b\b\b\b\b\b\b\b\b\b\b\b\b\b\b\b\b\b\b\b\b\b\b\b\b\b\b\b\b\b\b\b\b\b\b\b\b\b\b\b\b\b\b\b\b\b\b\b\b\b\b\b\b\b\b\b\b\b\b\b\b\b\b\b\b\b\b\b\b\b\b\b\b\b\b\b\b\b\b\b\b\b\b\b\b\b\b\b\b\b\b\b\b\b\b\b\b\b\b\b\b\b\b\b\b\b\b\b\b\b\b\b\b\b\b\b\b\b\b\b\b\b\b\b\b\b\b\b\b\b\b\b\b\b\b\b\b\b\b\b\b\b\b\b\b\b\b\b\b\b\b\b\b\b\b\b\b\b\b\b\b\b\b\b\b\b\b\b\b\b\b\b\b\b\b\b\b\b\b\b\b\b\b\b\b\b\b\b\b\b\b\b\b\b\b\b\b\b\b\b\b\b\b\b\b\b\b\b\b\b\b\b\b\b\b\b\b\b\b\b\b\b\b\b\b\b\b\b\b\b\b\b\b\b\b\b\b\b\b\b\b\b\b\b\b\b\b\b\b\b\b\b\b\b\b\b\b\b\b\b\b\b\b\b\b\b\b\b\b\b\b\b\b\b\b\b\b\b\b\b\b\b\b\b\b\b\b\b\b\b\b\b\b\b\b\b\b\b\b\b\b\b\b\b\b\b\b\b\b\b\b\b\b\b\b\b\b\b\b\b\b\b\b\b\b\b\b\b\b\b\b\b\b\b\b\b\b\b\b\b\b\b\b\b\b\b\b\b\b\b\b\b\b\b\b\b\b\b\b\b\b\b\b\b\b\b\b\b\b\b\b\b\b\b\b\b\b\b\b\b\b\b\b\b\b\b\b\b\b\b\b\b\b\b\b\b\b\b\b\b\b\b\b\b\b\b\b\b\b\b\b\b\b\b\b\b\b\b\b\b\b\b\b\b\b\b\b\b\b\b\b\b\b\b\b\b\b\b\b\b\b\b\b\b\b\b\b\b\b\b\b\b\b\b\b\b\b\b\b\b\b\b\b\b\b\b\b\b\b\b\b\b\b\b\b\b\b\b\b\b\b\b\b\b\b\b\b\b\b\b\b\b\b\b\b\b\b\b\b\b\b\b\b\b\b\b\b\b\b\b\b\b\b\b\b\b\b\b\b\b\b\b\b\b\b\b\b\b\b\b\b\b\b\b\b\b\b\b\b\b\b\b\b\b\b\b\b\b\b\b\b\b\b\b\b\b\b\b\b\b\b\b\b\b\b\b\b\b\b\b\b\b\b\b\b\b\b\b\b\b\b\b\b\b\b\b\b\b\b\b\b\b\b\b\b\b\b\b\b\b\b\b\b\b\b\b\b\b\b\b\b\b\b\b\b\b\b\b\b\b\b\b\b\b\b\b\b\b\b\b\b\b\b\b\b\b\b\b\b\b\b\b\b\b\b\b\b\b\b\b\b\b\b\b\b\b\b\b\b\b\b\b\b\b\b\b\b\b\b\b\b\b\b\b\b\b\b\b\b\b\b\b\b\b\b\b\b\b\b\b\b\b\b\b\b\b\b\b\b\b\b\b\b\b\b\b\b\b\b\b\b\b\b\b\b\b\b\b\b\b\b\b\b\b\b\b\b\b\b\b\b\b\b\b\b\b\b\b\b\b\b\b\b\b\b\b\b\b\b\b\b\b\b\b\b\b\b\b\b\b\b\b\b\b\b\b\b\b\b\b\b\b\b\b\b\b\b\b\b\b\b\b\b\b\b\b\b\b\b\b\b\b\b\b\b\b\b\b\b\b\b\b\b\b\b\b\b\b\b\b\b\b\b\b\b\b\b\b\b\b\b\b\b\b\b\b\b\b\b\b\b\b\b\b\b\b\b\b\b\b\b\b\b\b\b\b\b\b\b\b\b\b\b\b\b\b\b\b\b\b\b\b\b\b\b\b\b\b\b\b\b\b\b\b\b\b\b\b\b\b\b\b\b\b\b\b\b\b\b\b\b\b\b\b\b\b\b\b\b\b\b\b\b\b\b\b\b\b\b\b\b\b\b\b\b\b\b\b\b\b\b\b\b\b\b\b\b\b\b\b\b\b\b\b\b\b\b\b\b\b\b\b\b\b\b\b\b\b\b\b\b\b\b\b\b\b\b\b\b\b\b\b\b\b\b\b\b\b\b\b\b\b\b\b\b\b\b\b\b\b\b\b\b\b\b\b\b\b\b\b\b\b\b\b\b\b\b\b\b\b\b\b\b\b\b\b\b\b\b\b\b\b\b\b\b\b\b\b\b\b\b\b\b\b\b\b\b\b\b\b\b\b\b\b\b\b\b\b\b\b\b\b\b\b\b\b\b\b\b\b\b\b\b\b\b\b\b\b\b\b\b\b\b\b\b\b\b\b\b\b\b\b\b\b\b\b\b\b\b\b\b\b\b\b\b\b\b\b\b\b\b\b\b\b\b\b\b\b\b\b\b\b\b\b\b\b\b\b\b\b\b\b\b\b\b\b\b\b\b\b\b\b\b\b\b\b\b\b\b\b\b\b\b\b\b\b\b\b\b\b\b\b\b\b\b\b\b\b\b\b\b\b\b\b\b\b\b\b\b\b\b\b\b\b\b\b\b\b\b\b\b\b\b\b\b\b\b\b\b\b\b\b\b\b\b\b\b\b\b\b\b\b\b\b\b\b\b\b\b\b\b\b\b\b\b\b\b\b\b\b\b\b\b\b\b\b\b\b\b\b\b\b\b\b\b\b\b\b\b\b\b\b\b\b\b\b\b\b\b\b\b\b\b\b\b\b\b\b\b\b\b\b\b\b\b\b\b\b\b\b\b\b\b\b\b\b\b\b\b\b\b\b\b\b\b\b\b\b\b\b\b\b\b\b\b\b\b\b\b\b\b\b\b\b\b\b\b\b\b\b\b\b\b\b\b\b\b\b\b\b\b\b\b\b\b\b\b\b\b\b\b\b\b\b\b\b\b\b\b\b\b\b\b\b\b\b\b\b\b\b\b\b\b\b\b\b\b\b\b\b\b\b\b\b\b\b\b\b\b\b\b\b\b\b\b\b\b\b\b\b\b\b\b\b\b\b\b\b\b\b\b\b\b\b\b\b\b\b\b\b\b\b\b\b\b\b\b\b\b\b\b\b\b\b\b\b\b\b\b\b\b\b\b\b\b\b\b\b\b\b\b\b\b\b\b\b\b\b\b\b\b\b\b\b\b\b\b\b\b\b\b\b\b\b\b\b\b\b\b\b\b\b\b\b\b\b\b\b\b\b\b\b\b\b\b\b\b\b\b\b\b\b\b\b\b\b\b\b\b\b\b\b\b\b\b\b\b\b\b\b\b\b\b\b\b\b\b\b\b\b\b\b\b\b\b\b\b\b\b\b\b\b\b\b\b\b\b\b\b\b\b\b\b\b\b\b\b\b\b\b\b\b\b\b\b\b\b\b\b\b\b\b\b\b\b\b\b\b\b\b\b\b\b\b\b\b\b\b\b\b\b\b\b\b\b\b\b\b\b\b\b\b\b\b\b\b\b\b\b\b\b\b\b\b\b\b\b\b\b\b\b\b\b\b\b\b\b\b\b\b\b\b\b\b\b\b\b\b\b\b\b\b\b\b\b\b\b\b\b\b\b\b\b\b\b\b\b\b\b\b\b\b\b\b\b\b\b\b\b\b\b\b\b\b\b\b\b\b\b\b\b\b\b\b\b\b\b\b\b\b\b\b\b\b\b\b\b\b\b\b\b\b\b\b\b\b\b\b\b\b\b\b\b\b\b\b\b\b\b\b\b\b\b\b\b\b\b\b\b\b\b\b\b\b\b\b\b\b\b\b\b\b\b\b\b\b\b\b\b\b\b\b\b\b\b\b\b\b\b\b\b\b\b\b\b\b\b\b\b\b\b\b\b\b\b\b\b\b\b\b\b\b\b\b\b\b\b\b\b\b\b\b\b\b\b\b\b\b\b\b\b\b\b\b\b\b\b\b\b\b\b\b\b\b\b\b\b\b\b\b\b\b\b\b\b\b\b\b\b\b\b\b\b\b\b\b\b\b\b\b\b\b\b\b\b\b\b\b\b\b\b\b\b\b\b\b\b\b\b\b\b\b\b\b\b\b\b\b\b\b\b\b\b\b\b\b\b\b\b\b\b\b\b\b\b\b\b\b\b\b\b\b\b\b\b\b\b\b\b\b\b\b\b\b\b\b\b\b\b\b\b\b\b\b\b\b\b\b\b\b\b\b\b\b\b\b\b\b\b\b\b\b\b\b\b\b\b\b\b\b\b\b\b\b\b\b\b\b\b\b\b\b\b\b\b\b\b\b\b\b\b\b\b\b\b\b\b\b\b\b\b\b\b\b\b\b\b\b\b\b\b\b\b\b\b\b\b\b\b\b\b\b\b\b\b\b\b\b\b\b\b\b\b\b\b\b\b\b\b\b\b\b\b\b\b\b\b\b\b\b\b\b\b\b\b\b\b\b\b\b\b\b\b\b\b\b\b\b\b\b\b\b\b\b\b\b\b\b\b\b\b\b\b\b\b\b\b\b\b\b\b\b\b\b\b\b\b\b\b\b\b\b\b\b\b\b\b\b\b\b\b\b\b\b\b\b\b\b\b\b\b\b\b\b\b\b\b\b\b\b\b\b\b\b\b\b\b\b\b\b\b\b\b\b\b\b\b\b\b\b\b\b\b\b\b\b\b\b\b\b\b\b\b\b\b\b\b\b\b\b\b\b\b\b\b\b\b\b\b\b\b\b\b\b\b\b\b\b\b\b\b\b\b\b\b\b\b\b\b\b\b\b\b\b\b\b\b\b\b\b\b\b\b\b\b\b\b\b\b\b\b\b\b\b\b\b\b\b\b\b\b\b\b\b\b\b\b\b\b\b\b\b\b\b\b\b\b\b\b\b\b\b\b\b\b\b\b\b\b\b\b\b\b\b\b\b\b\b\b\b\b\b\b\b\b\b\b\b\b\b\b\b\b\b\b\b\b\b\b\b\b\b\b\b\b\b\b\b\b\b\b\b\b\b\b\b\b\b\b\b\b\b\b\b\b\b\b\b\b\b\b\b\b\b\b\b\b\b\b\b\b\b\b\b\b\b\b\b\b\b\b\b\b\b\b\b\b\b\b\b\b\b\b\b\b\b\b\b\b\b\b\b\b\b\b\b\b\b\b\b\b\b\b\b\b\b\b\b\b\b\b\b\b\b\b\b\b\b\b\b\b\b\b\b\b\b\b\b\b\b\b\b\b\b\b\b\b\b\b\b\b\b\b\b\b\b\b\b\b\b\b\b\b\b\b\b\b\b\b\b\b\b\b\b\b\b\b\b\b\b\b\b\b\b\b\b\b\b\b\b\b\b\b\b\b\b\b\b\b\b\b\b\b\b\b\b\b\b\b\b\b\b\b\b\b\b\b\b\b\b\b\b\b\b\b\b\b\b\b\b\b\b\b\b\b\b\b\b\b\b\b\b\b\b\b\b\b\b\b\b\b\b\b\b\b\b\b\b\b\b\b\b\b\b\b\b\b\b\b\b\b\b\b\b\b\b\b\b\b\b\b\b\b\b\b\b\b\b\b\b\b\b\b\b\b\b\b\b\b\b\b\b\b\b\b\b\b\b\b\b\b\b\b\b\b\b\b\b\b\b\b\b\b\b\b\b\b\b\b\b\b\b\b\b\b\b\b\b\b\b\b\b\b\b\b\b\b\b\b\b\b\b\b\b\b\b\b\b\b\b\b\b\b\b\b\b\b\b\b\b\b\b\b\b\b\b\b\b\b\b\b\b\b\b\b\b\b\b\b\b\b\b\b\b\b\b\b\b\b\b\b\b\b\b\b\b\b\b\b\b\b\b\b\b\b\b\b\b\b\b\b\b\b\b\b\b\b\b\b\b\b\b\b\b\b\b\b\b\b\b\b\b\b\b\b\b\b\b\b\b\b\b\b\b\b\b\b\b\b\b\b\b\b\b\b\b\b\b\b\b\b\b\b\b\b\b\b\b\b\b\b\b\b\b\b\b\b\b\b\b\b\b\b\b\b\b\b\b\b\b\b\b\b\b\b\b\b\b\b\b\b\b\b\b\b\b\b\b\b\b\b\b\b\b\b\b\b\b\b\b\b\b\b\b\b\b\b\b\b\b\b\b\b\b\b\b\b\b\b\b\b\b\b\b\b\b\b\b\b\b\b\b\b\b\b\b\b\b\b\b\b\b\b\b\b\b\b\b\b\b\b\b\b\b\b\b\b\b\b\b\b\b\b\b\b\b\b\b\b\b\b\b\b\b\b\b\b\b\b\b\b\b\b\b\b\b\b\b\b\b\b\b\b\b\b\b\b\b\b\b\b\b\b\b\b\b\b\b\b\b\b\b\b\b\b\b\b\b\b\b\b\b\b\b\b\b\b\b\b\b\b\b\b\b\b\b\b\b\b\b\b\b\b\b\b\b\b\b\b\b\b\b\b\b\b\b\b\b\b\b\b\b\b\b\b\b\b\b\b\b\b\b\b\b\b\b\b\b\b\b\b\b\b\b\b\b\b\b\b\b\b\b\b\b\b\b\b\b\b\b\b\b\b\b\b\b\b\b\b\b\b\b\b\b\b\b\b\b\b\b\b\b\b\b\b\b\b\b\b\b\b\b\b\b\b\b\b\b\b\b\b\b\b\b\b\b\b\b\b\b\b\b\b\b\b\b\b\b\b\b\b\b\b\b\b\b\b\b\b\b\b\b\b\b\b\b\b\b\b\b\b\b\b\b\b\b\b\b\b\b\b\b\b\b\b\b\b\b\b\b\b\b\b\b\b\b\b\b\b\b\b\b\b\b\b\b\b\b\b\b\b\b\b\b\b\b\b\b\b\b\b\b\b\b\b\b\b\b\b\b\b\b\b\b\b\b\b\b\b\b\b\b\b\b\b\b\b\b\b\b\b\b\b\b\b\b\b\b\b\b\b\b\b\b\b\b\b\b\b\b\b\b\b\b\b\b\b\b\b\b\b\b\b\b\b\b\b\b\b\b\b\b\b\b\b\b\b\b\b\b\b\b\b\b\b\b\b\b\b\b\b\b\b\b\b\b\b\b\b\b\b\b\b\b\b\b\b\b\b\b\b\b\b\b\b\b\b\b\b\b\b\b\b\b\b\b\b\b\b\b\b\b\b\b\b\b\b\b\b\b\b\b\b\b\b\b\b\b\b\b\b\b\b\b\b\b\b\b\b\b\b\b\b\b\b\b\b\b\b\b\b\b\b\b\b\b\b\b\b\b\b\b\b\b\b\b\b\b\b\b\b\b\b\b\b\b\b\b\b\b\b\b\b\b\b\b\b\b\b\b\b\b\b\b\b\b\b\b\b\b\b\b\b\b\b\b\b\b\b\b\b\b\b\b\b\b\b\b\b\b\b\b\b\b\b\b\b\b\b\b\b\b\b\b\b\b\b\b\b\b\b\b\b\b\b\b\b\b\b\b\b\b\b\b\b\b\b\b\b\b\b\b\b\b\b\b\b\b\b\b\b\b\b\b\b\b\b\b\b\b\b\b\b\b\b\b\b\b\b\b\b\b\b\b\b\b\b\b\b\b\b\b\b\b\b\b\b\b\b\b\b\b\b\b\b\b\b\b\b\b\b\b\b\b\b\b\b\b\b\b\b\b\b\b\b\b\b\b\b\b\b\b\b\b\b\b\b\b\b\b\b\b\b\b\b\b\b\b\b\b\b\b\b\b\b\b\b\b\b\b\b\b\b\b\b\b\b\b\b\b\b\b\b\b\b\b\b\b\b\b\b\b\b\b\b\b\b\b\b\b\b\b\b\b\b\b\b\b\b\b\b\b\b\b\b\b\b\b\b\b\b\b\b\b\b\b\b\b\b\b\b\b\b\b\b\b\b\b\b\b\b\b\b\b\b\b\b\b\b\b\b\b\b\b\b\b\b\b\b\b\b\b\b\b\b\b\b\b\b\b\b\b\b\b\b\b\b\b\b\b\b\b\b\b\b\b\b\b\b\b\b\b\b\b\b\b\b\b\b\b\b\b\b\b\b\b\b\b\b\b\b\b\b\b\b\b\b\b\b\b\b\b\b\b\b\b\b\b\b\b\b\b\b\b\b\b\b\b\b\b\b\b\b\b\b\b\b\b\b\b\b\b\b\b\b\b\b\b\b\b\b\b\b\b\b\b\b\b\b\b\b\b\b\b\b\b\b\b\b\b\b\b\b\b\b\b\b\b\b\b\b\b\b\b\b\b\b\b\b\b\b\b\b\b\b\b\b\b\b\b\b\b\b\b\b\b\b\b\b\b\b\b\b\b\b\b\b\b\b\b\b\b\b\b\b\b\b\b\b\b\b\b\b\b\b\b\b\b\b\b\b\b\b\b\b\b\b\b\b\b\b\b\b\b\b\b\b\b\b\b\b\b\b\b\b\b\b\b\b\b\b\b\b\b\b\b\b\b\b\b\b\b\b\b\b\b\b\b\b\b\b\b\b\b\b\b\b\b\b\b\b\b\b\b\b\b\b\b\b\b\b\b\b\b\b\b\b\b\b\b\b\b\b\b\b\b\b\b\b\b\b\b\b\b\b\b\b\b\b\b\b\b\b\b\b\b\b\b\b\b\b\b\b\b\b\b\b\b\b\b\b\b\b\b\b\b\b\b\b\b\b\b\b\b\b\b\b\b\b\b\b\b\b\b\b\b\b\b\b\b\b\b\b\b\b\b\b\b\b\b\b\b\b\b\b\b\b\b\b\b\b\b\b\b\b\b\b\b\b\b\b\b\b\b\b\b\b\b\b\b\b\b\b\b\b\b\b\b\b\b\b\b\b\b\b\b\b\b\b\b\b\b\b\b\b\b\b\b\b\b\b\b\b\b\b\b\b\b\b\b\b\b\b\b\b\b\b\b\b\b\b\b\b\b\b\b\b\b\b\b\b\b\b\b\b\b\b\b\b\b\b\b\b\b\b\b\b\b\b\b\b\b\b\b\b\b\b\b\b\b\b\b\b\b\b\b\b\b\b\b\b\b\b\b\b\b\b\b\b\b\b\b\b\b\b\b\b\b\b\b\b\b\b\b\b\b\b\b\b\b\b\b\b\b\b\b\b\b\b\b\b\b\b\b\b\b\b\b\b\b\b\b\b\b\b\b\b\b\b\b\b\b\b\b\b\b\b\b\b\b\b\b\b\b\b\b\b\b\b\b\b\b\b\b\b\b\b\b\b\b\b\b\b\b\b\b\b\b\b\b\b\b\b\b\b\b\b\b\b\b\b\b\b\b\b\b\b\b\b\b\b\b\b\b\b\b\b\b\b\b\b\b\b\b\b\b\b\b\b\b\b\b\b\b\b\b\b\b\b\b\b\b\b\b\b\b\b\b\b\b\b\b\b\b\b\b\b\b\b\b\b\b\b\b\b\b\b\b\b\b\b\b\b\b\b\b\b\b\b\b\b\b\b\b\b\b\b\b\b\b\b\b\b\b\b\b\b\b\b\b\b\b\b\b\b\b\b\b\b\b\b\b\b\b\b\b\b\b\b\b\b\b\b\b\b\b\b\b\b\b\b\b\b\b\b\b\b\b\b\b\b\b\b\b\b\b\b\b\b\b\b\b\b\b\b\b\b\b\b\b\b\b\b\b\b\b\b\b\b\b\b\b\b\b\b\b\b\b\b\b\b\b\b\b\b\b\b\b\b\b\b\b\b\b\b\b\b\b\b\b\b\b\b\b\b\b\b\b\b\b\b\b\b\b\b\b\b\b\b\b\b\b\b\b\b\b\b\b\b\b\b\b\b\b\b\b\b\b\b\b\b\b\b\b\b\b\b\b\b\b\b\b\b\b\b\b\b\b\b\b\b\b\b\b\b\b\b\b\b\b\b\b\b\b\b\b\b\b\b\b\b\b\b\b\b\b\b\b\b\b\b\b\b\b\b\b\b\b\b\b\b\b\b\b\b\b\b\b\b\b\b\b\b\b\b\b\b\b\b\b\b\b\b\b\b\b\b\b\b\b\b\b\b\b\b\b\b\b\b\b\b\b\b\b\b\b\b\b\b\b\b\b\b\b\b\b\b\b\b\b\b\b\b\b\b\b\b\b\b\b\b\b\b\b\b\b\b\b\b\b\b\b\b\b\b\b\b\b\b\b\b\b\b\b\b\b\b\b\b\b\b\b\b\b\b\b\b\b\b\b\b\b\b\b\b\b\b\b\b\b\b\b\b\b\b\b\b\b\b\b\b\b\b\b\b\b\b\b\b\b\b\b\b\b\b\b\b\b\b\b\b\b\b\b\b\b\b\b\b\b\b\b\b\b\b\b\b\b\b\b\b\b\b\b\b\b\b\b\b\b\b\b\b\b\b\b\b\b\b\b\b\b\b\b\b\b\b\b\b\b\b\b\b\b\b\b\b\b\b\b\b\b\b\b\b\b\b\b\b\b\b\b\b\b\b\b\b\b\b\b\b\b\b\b\b\b\b\b\b\b\b\b\b\b\b\b\b\b\b\b\b\b\b\b\b\b\b\b\b\b\b\b\b\b\b\b\b\b\b\b\b\b\b\b\b\b\b\b\b\b\b\b\b\b\b\b\b\b\b\b\b\b\b\b\b\b\b\b\b\b\b\b\b\b\b\b\b\b\b\b\b\b\b\b\b\b\b\b\b\b\b\b\b\b\b\b\b\b\b\b\b\b\b\b\b\b\b\b\b\b\b\b\b\b\b\b\b\b\b\b\b\b\b\b\b\b\b\b\b\b\b\b\b\b\b\b\b\b\b\b\b\b\b\b\b\b\b\b\b\b\b\b\b\b\b\b\b\b\b\b\b\b\b\b\b\b\b\b\b\b\b\b\b\b\b\b\b\b\b\b\b\b\b\b\b\b\b\b\b\b\b\b\b\b\b\b\b\b\b\b\b\b\b\b\b\b\b\b\b\b\b\b\b\b\b\b\b\b\b\b\b\b\b\b\b\b\b\b\b\b\b\b\b\b\b\b\b\b\b\b\b\b\b\b\b\b\b\b\b\b\b\b\b\b\b\b\b\b\b\b\b\b\b\b\b\b\b\b\b\b\b\b\b\b\b\b\b\b\b\b\b\b\b\b\b\b\b\b\b\b\b\b\b\b\b\b\b\b\b\b\b\b\b\b\b\b\b\b\b\b\b\b\b\b\b\b\b\b\b\b\b\b\b\b\b\b\b\b\b\b\b\b\b\b\b\b\b\b\b\b\b\b\b\b\b\b\b\b\b\b\b\b\b\b\b\b\b\b\b\b\b\b\b\b\b\b\b\b\b\b\b\b\b\b\b\b\b\b\b\b\b\b\b\b\b\b\b\b\b\b\b\b\b\b\b\b\b\b\b\b\b\b\b\b\b\b\b\b\b\b\b\b\b\b\b\b\b\b\b\b\b\b\b\b\b\b\b\b\b\b\b\b\b\b\b\b\b\b\b\b\b\b\b\b\b\b\b\b\b\b\b\b\b\b\b\b\b\b\b\b\b\b\b\b\b\b\b\b\b\b\b\b\b\b\b\b\b\b\b\b\b\b\b\b\b\b\b\b\b\b\b\b\b\b\b\b\b\b\b\b\b\b\b\b\b\b\b\b\b\b\b\b\b\b\b\b\b\b\b\b\b\b\b\b\b\b\b\b\b\b\b\b\b\b\b\b\b\b\b\b\b\b\b\b\b\b\b\b\b\b\b\b\b\b\b\b\b\b\b\b\b\b\b\b\b\b\b\b\b\b\b\b\b\b\b\b\b\b\b\b\b\b\b\b\b\b\b\b\b\b\b\b\b\b\b\b\b\b\b"
     ]
    }
   ],
   "source": [
    "%%time\n",
    "score = model.evaluate(x_test, y_test, batch_size=BATCH_SIZE)\n",
    "print()\n",
    "print(\"ACCURACY:\",score[1])\n",
    "print(\"LOSS:\",score[0])"
   ]
  },
  {
   "cell_type": "code",
   "execution_count": null,
   "metadata": {
    "pycharm": {
     "name": "#%%\n",
     "is_executing": true
    }
   },
   "outputs": [],
   "source": [
    "acc = history.history['acc']\n",
    "val_acc = history.history['val_acc']\n",
    "loss = history.history['loss']\n",
    "val_loss = history.history['val_loss']\n",
    "\n",
    "epochs = range(len(acc))\n",
    "\n",
    "plt.plot(epochs, acc, 'b', label='Training acc')\n",
    "plt.plot(epochs, val_acc, 'r', label='Validation acc')\n",
    "plt.title('Training and validation accuracy')\n",
    "plt.legend()\n",
    "\n",
    "plt.figure()\n",
    "\n",
    "plt.plot(epochs, loss, 'b', label='Training loss')\n",
    "plt.plot(epochs, val_loss, 'r', label='Validation loss')\n",
    "plt.title('Training and validation loss')\n",
    "plt.legend()\n",
    "\n",
    "plt.show()"
   ]
  },
  {
   "cell_type": "code",
   "execution_count": null,
   "metadata": {
    "pycharm": {
     "name": "#%%\n",
     "is_executing": true
    }
   },
   "outputs": [],
   "source": [
    "def decode_sentiment(score, include_neutral=True):\n",
    "    if include_neutral:\n",
    "        label = NEUTRAL\n",
    "        if score <= SENTIMENT_THRESHOLDS[0]:\n",
    "            label = NEGATIVE\n",
    "        elif score >= SENTIMENT_THRESHOLDS[1]:\n",
    "            label = POSITIVE\n",
    "\n",
    "        return label\n",
    "    else:\n",
    "        return NEGATIVE if score < 0.5 else POSITIVE"
   ]
  },
  {
   "cell_type": "code",
   "execution_count": null,
   "metadata": {
    "pycharm": {
     "name": "#%%\n",
     "is_executing": true
    }
   },
   "outputs": [],
   "source": [
    "def predict(text, include_neutral=True):\n",
    "    start_at = time.time()\n",
    "    # Tokenize text\n",
    "    x_test = pad_sequences(tokenizer.texts_to_sequences([text]), maxlen=SEQUENCE_LENGTH)\n",
    "    # Predict\n",
    "    score = model.predict([x_test])[0]\n",
    "    # Decode sentiment\n",
    "    label = decode_sentiment(score, include_neutral=include_neutral)\n",
    "\n",
    "    return {\"label\": label, \"score\": float(score),\n",
    "       \"elapsed_time\": time.time()-start_at}"
   ]
  },
  {
   "cell_type": "code",
   "execution_count": null,
   "metadata": {
    "pycharm": {
     "name": "#%%\n",
     "is_executing": true
    }
   },
   "outputs": [],
   "source": [
    "predict(\"I love the music\")"
   ]
  },
  {
   "cell_type": "code",
   "execution_count": null,
   "metadata": {
    "pycharm": {
     "name": "#%%\n",
     "is_executing": true
    }
   },
   "outputs": [],
   "source": [
    "predict(\"I hate the rain\")"
   ]
  },
  {
   "cell_type": "code",
   "execution_count": null,
   "metadata": {
    "pycharm": {
     "name": "#%%\n",
     "is_executing": true
    }
   },
   "outputs": [],
   "source": [
    "predict(\"i don't know what i'm doing\")"
   ]
  },
  {
   "cell_type": "code",
   "execution_count": null,
   "metadata": {
    "pycharm": {
     "name": "#%%\n",
     "is_executing": true
    }
   },
   "outputs": [],
   "source": [
    "%%time\n",
    "y_pred_1d = []\n",
    "y_test_1d = list(df_test.target)\n",
    "scores = model.predict(x_test, verbose=1, batch_size=8000)\n",
    "y_pred_1d = [decode_sentiment(score, include_neutral=False) for score in scores]"
   ]
  },
  {
   "cell_type": "code",
   "execution_count": null,
   "metadata": {
    "pycharm": {
     "name": "#%%\n",
     "is_executing": true
    }
   },
   "outputs": [],
   "source": [
    "def plot_confusion_matrix(cm, classes,\n",
    "                          title='Confusion matrix',\n",
    "                          cmap=plt.cm.Blues):\n",
    "    \"\"\"\n",
    "    This function prints and plots the confusion matrix.\n",
    "    Normalization can be applied by setting `normalize=True`.\n",
    "    \"\"\"\n",
    "\n",
    "    cm = cm.astype('float') / cm.sum(axis=1)[:, np.newaxis]\n",
    "\n",
    "    plt.imshow(cm, interpolation='nearest', cmap=cmap)\n",
    "    plt.title(title, fontsize=30)\n",
    "    plt.colorbar()\n",
    "    tick_marks = np.arange(len(classes))\n",
    "    plt.xticks(tick_marks, classes, rotation=90, fontsize=22)\n",
    "    plt.yticks(tick_marks, classes, fontsize=22)\n",
    "\n",
    "    fmt = '.2f'\n",
    "    thresh = cm.max() / 2.\n",
    "    for i, j in itertools.product(range(cm.shape[0]), range(cm.shape[1])):\n",
    "        plt.text(j, i, format(cm[i, j], fmt),\n",
    "                 horizontalalignment=\"center\",\n",
    "                 color=\"white\" if cm[i, j] > thresh else \"black\")\n",
    "\n",
    "    plt.ylabel('True label', fontsize=25)\n",
    "    plt.xlabel('Predicted label', fontsize=25)"
   ]
  },
  {
   "cell_type": "code",
   "execution_count": null,
   "metadata": {
    "pycharm": {
     "name": "#%%\n",
     "is_executing": true
    }
   },
   "outputs": [],
   "source": [
    "%%time\n",
    "\n",
    "cnf_matrix = confusion_matrix(y_test_1d, y_pred_1d)\n",
    "plt.figure(figsize=(12,12))\n",
    "plot_confusion_matrix(cnf_matrix, classes=df_train.target.unique(), title=\"Confusion matrix\")\n",
    "plt.show()"
   ]
  },
  {
   "cell_type": "code",
   "execution_count": null,
   "metadata": {
    "pycharm": {
     "name": "#%%\n",
     "is_executing": true
    }
   },
   "outputs": [],
   "source": [
    "print(classification_report(y_test_1d, y_pred_1d))"
   ]
  },
  {
   "cell_type": "code",
   "execution_count": null,
   "metadata": {
    "pycharm": {
     "name": "#%%\n",
     "is_executing": true
    }
   },
   "outputs": [],
   "source": [
    "accuracy_score(y_test_1d, y_pred_1d)"
   ]
  },
  {
   "cell_type": "code",
   "execution_count": null,
   "metadata": {
    "pycharm": {
     "name": "#%%\n",
     "is_executing": true
    }
   },
   "outputs": [],
   "source": [
    "model.save(KERAS_MODEL)\n",
    "w2v_model.save(WORD2VEC_MODEL)\n",
    "pickle.dump(tokenizer, open(TOKENIZER_MODEL, \"wb\"), protocol=0)\n",
    "pickle.dump(encoder, open(ENCODER_MODEL, \"wb\"), protocol=0)"
   ]
  }
 ],
 "metadata": {
  "kernelspec": {
   "name": "python3",
   "language": "python",
   "display_name": "Python 3"
  },
  "language_info": {
   "codemirror_mode": {
    "name": "ipython",
    "version": 3
   },
   "file_extension": ".py",
   "mimetype": "text/x-python",
   "name": "python",
   "nbconvert_exporter": "python",
   "pygments_lexer": "ipython3",
   "version": "3.8.5"
  }
 },
 "nbformat": 4,
 "nbformat_minor": 1
}