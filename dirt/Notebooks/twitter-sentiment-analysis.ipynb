{
 "cells": [
  {
   "metadata": {
    "_uuid": "92b885dd147dac19bd0a33db3cd0da100bd5bc23"
   },
   "cell_type": "markdown",
   "source": [
    "# Twitter Sentiment Analysis"
   ]
  },
  {
   "metadata": {
    "trusted": true,
    "_uuid": "70282bce8b42a51e4d44f2c7d85c4ca9567b0fd4"
   },
   "cell_type": "code",
   "source": [
    "!pip install gensim --upgrade\n",
    "!pip install keras --upgrade\n",
    "!pip install pandas --upgrade"
   ],
   "execution_count": 7,
   "outputs": [
    {
     "name": "stdout",
     "output_type": "stream",
     "text": [
      "^C\n",
      "Requirement already satisfied: gensim in c:\\programdata\\anaconda3\\envs\\mlnlp\\lib\\site-packages (3.8.3)\n",
      "Requirement already satisfied: six>=1.5.0 in c:\\programdata\\anaconda3\\envs\\mlnlp\\lib\\site-packages (from gensim) (1.15.0)\n",
      "Requirement already satisfied: numpy>=1.11.3 in c:\\programdata\\anaconda3\\envs\\mlnlp\\lib\\site-packages (from gensim) (1.19.5)\n",
      "Requirement already satisfied: scipy>=0.18.1 in c:\\programdata\\anaconda3\\envs\\mlnlp\\lib\\site-packages (from gensim) (1.6.0)\n",
      "Requirement already satisfied: Cython==0.29.14 in c:\\programdata\\anaconda3\\envs\\mlnlp\\lib\\site-packages (from gensim) (0.29.14)\n",
      "Requirement already satisfied: smart-open>=1.8.1 in c:\\programdata\\anaconda3\\envs\\mlnlp\\lib\\site-packages (from gensim) (4.1.2)\n",
      "Requirement already satisfied: keras in c:\\programdata\\anaconda3\\envs\\mlnlp\\lib\\site-packages (2.4.3)\n",
      "Requirement already satisfied: scipy>=0.14 in c:\\programdata\\anaconda3\\envs\\mlnlp\\lib\\site-packages (from keras) (1.6.0)\n",
      "Requirement already satisfied: numpy>=1.9.1 in c:\\programdata\\anaconda3\\envs\\mlnlp\\lib\\site-packages (from keras) (1.19.5)\n",
      "Requirement already satisfied: pyyaml in c:\\programdata\\anaconda3\\envs\\mlnlp\\lib\\site-packages (from keras) (5.4.1)\n",
      "Requirement already satisfied: h5py in c:\\programdata\\anaconda3\\envs\\mlnlp\\lib\\site-packages (from keras) (2.10.0)\n",
      "Requirement already satisfied: six in c:\\programdata\\anaconda3\\envs\\mlnlp\\lib\\site-packages (from h5py->keras) (1.15.0)\n",
      "^C\n"
     ]
    }
   ]
  },
  {
   "metadata": {
    "trusted": true,
    "_uuid": "303e72966af732ddef0bd8108a321095314e44af"
   },
   "cell_type": "code",
   "source": [
    "# DataFrame\n",
    "import pandas as pd\n",
    "\n",
    "# Matplot\n",
    "import matplotlib.pyplot as plt\n",
    "%matplotlib inline\n",
    "\n",
    "# Scikit-learn\n",
    "from sklearn.model_selection import train_test_split\n",
    "from sklearn.preprocessing import LabelEncoder\n",
    "from sklearn.metrics import confusion_matrix, classification_report, accuracy_score\n",
    "from sklearn.manifold import TSNE\n",
    "from sklearn.feature_extraction.text import TfidfVectorizer\n",
    "\n",
    "# Keras\n",
    "from keras.preprocessing.text import Tokenizer\n",
    "from keras.preprocessing.sequence import pad_sequences\n",
    "from keras.models import Sequential\n",
    "from keras.layers import Activation, Dense, Dropout, Embedding, Flatten, Conv1D, MaxPooling1D, LSTM\n",
    "from keras import utils\n",
    "from keras.callbacks import ReduceLROnPlateau, EarlyStopping\n",
    "\n",
    "# nltk\n",
    "import nltk\n",
    "from nltk.corpus import stopwords\n",
    "from  nltk.stem import SnowballStemmer\n",
    "\n",
    "# Word2vec\n",
    "import gensim\n",
    "\n",
    "# Utility\n",
    "import re\n",
    "import numpy as np\n",
    "import os\n",
    "from collections import Counter\n",
    "import logging\n",
    "import time\n",
    "import pickle\n",
    "import itertools\n",
    "\n",
    "# Set log\n",
    "logging.basicConfig(format='%(asctime)s : %(levelname)s : %(message)s', level=logging.INFO)"
   ],
   "execution_count": 8,
   "outputs": []
  },
  {
   "metadata": {
    "trusted": true,
    "_uuid": "35e1a89dead5fd160e4c9a024a21d2e569fc89ff"
   },
   "cell_type": "code",
   "source": [
    "nltk.download('stopwords')"
   ],
   "execution_count": 9,
   "outputs": [
    {
     "name": "stderr",
     "output_type": "stream",
     "text": [
      "[nltk_data] Downloading package stopwords to\n",
      "[nltk_data]     C:\\Users\\Jonas\\AppData\\Roaming\\nltk_data...\n",
      "[nltk_data]   Package stopwords is already up-to-date!\n"
     ]
    },
    {
     "data": {
      "text/plain": "True"
     },
     "execution_count": 9,
     "metadata": {},
     "output_type": "execute_result"
    }
   ]
  },
  {
   "metadata": {
    "_uuid": "e8b01a07df001e4abcc745900336c4db06e455f3"
   },
   "cell_type": "markdown",
   "source": [
    "### Settings"
   ]
  },
  {
   "metadata": {
    "trusted": true,
    "_uuid": "180f0dd2a95419e4602b5c0229822b0111c826f6"
   },
   "cell_type": "code",
   "source": [
    "# DATASET\n",
    "DATASET_COLUMNS = [\"target\", \"ids\", \"date\", \"flag\", \"user\", \"text\"]\n",
    "DATASET_ENCODING = \"ISO-8859-1\"\n",
    "TRAIN_SIZE = 0.8\n",
    "\n",
    "# TEXT CLENAING\n",
    "TEXT_CLEANING_RE = \"@\\S+|https?:\\S+|http?:\\S|[^A-Za-z0-9]+\"\n",
    "\n",
    "# WORD2VEC \n",
    "W2V_SIZE = 300\n",
    "W2V_WINDOW = 7\n",
    "W2V_EPOCH = 32\n",
    "W2V_MIN_COUNT = 10\n",
    "\n",
    "# KERAS\n",
    "SEQUENCE_LENGTH = 300\n",
    "EPOCHS = 8\n",
    "BATCH_SIZE = 1024\n",
    "\n",
    "# SENTIMENT\n",
    "POSITIVE = \"POSITIVE\"\n",
    "NEGATIVE = \"NEGATIVE\"\n",
    "NEUTRAL = \"NEUTRAL\"\n",
    "SENTIMENT_THRESHOLDS = (0.4, 0.7)\n",
    "\n",
    "# EXPORT\n",
    "KERAS_MODEL = \"model.h5\"\n",
    "WORD2VEC_MODEL = \"model.w2v\"\n",
    "TOKENIZER_MODEL = \"tokenizer.pkl\"\n",
    "ENCODER_MODEL = \"encoder.pkl\""
   ],
   "execution_count": 10,
   "outputs": []
  },
  {
   "metadata": {
    "_uuid": "1c3beecc618be68480b3d4f0de08d9d863da1dc1"
   },
   "cell_type": "markdown",
   "source": [
    "### Read Dataset"
   ]
  },
  {
   "metadata": {
    "_uuid": "563b3c44f1092dba0b853747b098e00509098cca"
   },
   "cell_type": "markdown",
   "source": [
    "### Dataset details\n",
    "* **target**: the polarity of the tweet (0 = negative, 2 = neutral, 4 = positive)\n",
    "* **ids**: The id of the tweet ( 2087)\n",
    "* **date**: the date of the tweet (Sat May 16 23:58:44 UTC 2009)\n",
    "* **flag**: The query (lyx). If there is no query, then this value is NO_QUERY.\n",
    "* **user**: the user that tweeted (robotickilldozr)\n",
    "* **text**: the text of the tweet (Lyx is cool)"
   ]
  },
  {
   "metadata": {
    "trusted": true,
    "_uuid": "bba8f91cd70de4f5ea0fb0870ae2029b6e3dcc24"
   },
   "cell_type": "code",
   "source": [
    "dataset_filename = os.listdir(\"../gold_notebook/input\")[0]\n",
    "dataset_path = os.path.join(\"..\",\"gold_notebook/input\",dataset_filename)\n",
    "print(\"Open file:\", dataset_path)\n",
    "df = pd.read_csv(dataset_path, encoding =DATASET_ENCODING , names=DATASET_COLUMNS)"
   ],
   "execution_count": 11,
   "outputs": [
    {
     "name": "stdout",
     "output_type": "stream",
     "text": [
      "Open file: ..\\gold_notebook/input\\training.1600000.processed.noemoticon.csv\n",
      "Requirement already satisfied: pandas in c:\\programdata\\anaconda3\\envs\\mlnlp\\lib\\site-packages (1.2.2)\n",
      "Requirement already satisfied: pytz>=2017.3 in c:\\programdata\\anaconda3\\envs\\mlnlp\\lib\\site-packages (from pandas) (2021.1)\n",
      "Requirement already satisfied: python-dateutil>=2.7.3 in c:\\programdata\\anaconda3\\envs\\mlnlp\\lib\\site-packages (from pandas) (2.8.1)\n",
      "Requirement already satisfied: numpy>=1.16.5 in c:\\programdata\\anaconda3\\envs\\mlnlp\\lib\\site-packages (from pandas) (1.19.5)\n",
      "Requirement already satisfied: six>=1.5 in c:\\programdata\\anaconda3\\envs\\mlnlp\\lib\\site-packages (from python-dateutil>=2.7.3->pandas) (1.15.0)\n"
     ]
    }
   ]
  },
  {
   "metadata": {
    "trusted": true,
    "_uuid": "936d499c00c4f1648bc16ca9d283c3b39be7fb10"
   },
   "cell_type": "code",
   "source": "print(\"Dataset size:\", len(df))",
   "execution_count": 12,
   "outputs": [
    {
     "name": "stdout",
     "output_type": "stream",
     "text": [
      "Dataset size: 1600000\n"
     ]
    }
   ]
  },
  {
   "metadata": {
    "trusted": true,
    "_uuid": "7486ed895b813c5246f97b31b6162b0f65ff763b"
   },
   "cell_type": "code",
   "source": "df.head(5)",
   "execution_count": 13,
   "outputs": [
    {
     "data": {
      "text/plain": "   target         ids                          date      flag  \\\n0       0  1467810369  Mon Apr 06 22:19:45 PDT 2009  NO_QUERY   \n1       0  1467810672  Mon Apr 06 22:19:49 PDT 2009  NO_QUERY   \n2       0  1467810917  Mon Apr 06 22:19:53 PDT 2009  NO_QUERY   \n3       0  1467811184  Mon Apr 06 22:19:57 PDT 2009  NO_QUERY   \n4       0  1467811193  Mon Apr 06 22:19:57 PDT 2009  NO_QUERY   \n\n              user                                               text  \n0  _TheSpecialOne_  @switchfoot http://twitpic.com/2y1zl - Awww, t...  \n1    scotthamilton  is upset that he can't update his Facebook by ...  \n2         mattycus  @Kenichan I dived many times for the ball. Man...  \n3          ElleCTF    my whole body feels itchy and like its on fire   \n4           Karoli  @nationwideclass no, it's not behaving at all....  ",
      "text/html": "<div>\n<style scoped>\n    .dataframe tbody tr th:only-of-type {\n        vertical-align: middle;\n    }\n\n    .dataframe tbody tr th {\n        vertical-align: top;\n    }\n\n    .dataframe thead th {\n        text-align: right;\n    }\n</style>\n<table border=\"1\" class=\"dataframe\">\n  <thead>\n    <tr style=\"text-align: right;\">\n      <th></th>\n      <th>target</th>\n      <th>ids</th>\n      <th>date</th>\n      <th>flag</th>\n      <th>user</th>\n      <th>text</th>\n    </tr>\n  </thead>\n  <tbody>\n    <tr>\n      <th>0</th>\n      <td>0</td>\n      <td>1467810369</td>\n      <td>Mon Apr 06 22:19:45 PDT 2009</td>\n      <td>NO_QUERY</td>\n      <td>_TheSpecialOne_</td>\n      <td>@switchfoot http://twitpic.com/2y1zl - Awww, t...</td>\n    </tr>\n    <tr>\n      <th>1</th>\n      <td>0</td>\n      <td>1467810672</td>\n      <td>Mon Apr 06 22:19:49 PDT 2009</td>\n      <td>NO_QUERY</td>\n      <td>scotthamilton</td>\n      <td>is upset that he can't update his Facebook by ...</td>\n    </tr>\n    <tr>\n      <th>2</th>\n      <td>0</td>\n      <td>1467810917</td>\n      <td>Mon Apr 06 22:19:53 PDT 2009</td>\n      <td>NO_QUERY</td>\n      <td>mattycus</td>\n      <td>@Kenichan I dived many times for the ball. Man...</td>\n    </tr>\n    <tr>\n      <th>3</th>\n      <td>0</td>\n      <td>1467811184</td>\n      <td>Mon Apr 06 22:19:57 PDT 2009</td>\n      <td>NO_QUERY</td>\n      <td>ElleCTF</td>\n      <td>my whole body feels itchy and like its on fire</td>\n    </tr>\n    <tr>\n      <th>4</th>\n      <td>0</td>\n      <td>1467811193</td>\n      <td>Mon Apr 06 22:19:57 PDT 2009</td>\n      <td>NO_QUERY</td>\n      <td>Karoli</td>\n      <td>@nationwideclass no, it's not behaving at all....</td>\n    </tr>\n  </tbody>\n</table>\n</div>"
     },
     "execution_count": 13,
     "metadata": {},
     "output_type": "execute_result"
    }
   ]
  },
  {
   "metadata": {
    "_uuid": "3f9a7bb129e184967b13261fb5d253af451c75c5"
   },
   "cell_type": "markdown",
   "source": "### Map target label to String\n* **0** -> **NEGATIVE**\n* **2** -> **NEUTRAL**\n* **4** -> **POSITIVE**"
  },
  {
   "metadata": {
    "trusted": true,
    "_uuid": "14074b59106cb9550440839e48b832223fc9502f"
   },
   "cell_type": "code",
   "source": "decode_map = {0: \"NEGATIVE\", 2: \"NEUTRAL\", 4: \"POSITIVE\"}\ndef decode_sentiment(label):\n    return decode_map[int(label)]",
   "execution_count": 14,
   "outputs": []
  },
  {
   "metadata": {
    "trusted": true,
    "_uuid": "4449d473187f647a195a6ac6986b009da32a7f4b"
   },
   "cell_type": "code",
   "source": "%%time\ndf.target = df.target.apply(lambda x: decode_sentiment(x))",
   "execution_count": 15,
   "outputs": [
    {
     "name": "stdout",
     "output_type": "stream",
     "text": [
      "Wall time: 573 ms\n"
     ]
    }
   ]
  },
  {
   "metadata": {
    "trusted": true,
    "_uuid": "19eb327803192f31cce3512aacb232f4d6b38715"
   },
   "cell_type": "code",
   "source": "target_cnt = Counter(df.target)\n\nplt.figure(figsize=(16,8))\nplt.bar(target_cnt.keys(), target_cnt.values())\nplt.title(\"Dataset labels distribuition\")",
   "execution_count": 16,
   "outputs": [
    {
     "data": {
      "text/plain": "Text(0.5, 1.0, 'Dataset labels distribuition')"
     },
     "execution_count": 16,
     "metadata": {},
     "output_type": "execute_result"
    },
    {
     "data": {
      "text/plain": "<Figure size 1152x576 with 1 Axes>",
      "image/png": "[encoded data removed]"
     },
     "metadata": {
      "needs_background": "light"
     },
     "output_type": "display_data"
    }
   ]
  },
  {
   "metadata": {
    "_uuid": "4329b1573518b03e497213efa7676220734ebb4b"
   },
   "cell_type": "markdown",
   "source": "### Pre-Process dataset"
  },
  {
   "metadata": {
    "trusted": true,
    "_uuid": "8aeee8b7b9ea11b749c7f91cd4787a7b50ed1a91"
   },
   "cell_type": "code",
   "source": "stop_words = stopwords.words(\"english\")\nstemmer = SnowballStemmer(\"english\")",
   "execution_count": 17,
   "outputs": []
  },
  {
   "metadata": {
    "trusted": true,
    "_uuid": "649ebcb97969b9ac4301138783704bb3d7846a49"
   },
   "cell_type": "code",
   "source": "def preprocess(text, stem=False):\n    # Remove link,user and special characters\n    text = re.sub(TEXT_CLEANING_RE, ' ', str(text).lower()).strip()\n    tokens = []\n    for token in text.split():\n        if token not in stop_words:\n            if stem:\n                tokens.append(stemmer.stem(token))\n            else:\n                tokens.append(token)\n    return \" \".join(tokens)",
   "execution_count": 18,
   "outputs": []
  },
  {
   "metadata": {
    "trusted": true,
    "_uuid": "f7f3e77ab9291d14687c49e71ba9b2b1e3323432"
   },
   "cell_type": "code",
   "source": "%%time\ndf.text = df.text.apply(lambda x: preprocess(x))",
   "execution_count": 19,
   "outputs": [
    {
     "ename": "KeyboardInterrupt",
     "evalue": "",
     "output_type": "error",
     "traceback": [
      "\u001B[1;31m---------------------------------------------------------------------------\u001B[0m",
      "\u001B[1;31mKeyboardInterrupt\u001B[0m                         Traceback (most recent call last)",
      "\u001B[1;32m<timed exec>\u001B[0m in \u001B[0;36m<module>\u001B[1;34m\u001B[0m\n",
      "\u001B[1;32mC:\\ProgramData\\Anaconda3\\envs\\MLNLP\\lib\\site-packages\\pandas\\core\\series.py\u001B[0m in \u001B[0;36mapply\u001B[1;34m(self, func, convert_dtype, args, **kwds)\u001B[0m\n\u001B[0;32m   4133\u001B[0m             \u001B[1;32melse\u001B[0m\u001B[1;33m:\u001B[0m\u001B[1;33m\u001B[0m\u001B[1;33m\u001B[0m\u001B[0m\n\u001B[0;32m   4134\u001B[0m                 \u001B[0mvalues\u001B[0m \u001B[1;33m=\u001B[0m \u001B[0mself\u001B[0m\u001B[1;33m.\u001B[0m\u001B[0mastype\u001B[0m\u001B[1;33m(\u001B[0m\u001B[0mobject\u001B[0m\u001B[1;33m)\u001B[0m\u001B[1;33m.\u001B[0m\u001B[0m_values\u001B[0m\u001B[1;33m\u001B[0m\u001B[1;33m\u001B[0m\u001B[0m\n\u001B[1;32m-> 4135\u001B[1;33m                 \u001B[0mmapped\u001B[0m \u001B[1;33m=\u001B[0m \u001B[0mlib\u001B[0m\u001B[1;33m.\u001B[0m\u001B[0mmap_infer\u001B[0m\u001B[1;33m(\u001B[0m\u001B[0mvalues\u001B[0m\u001B[1;33m,\u001B[0m \u001B[0mf\u001B[0m\u001B[1;33m,\u001B[0m \u001B[0mconvert\u001B[0m\u001B[1;33m=\u001B[0m\u001B[0mconvert_dtype\u001B[0m\u001B[1;33m)\u001B[0m\u001B[1;33m\u001B[0m\u001B[1;33m\u001B[0m\u001B[0m\n\u001B[0m\u001B[0;32m   4136\u001B[0m \u001B[1;33m\u001B[0m\u001B[0m\n\u001B[0;32m   4137\u001B[0m         \u001B[1;32mif\u001B[0m \u001B[0mlen\u001B[0m\u001B[1;33m(\u001B[0m\u001B[0mmapped\u001B[0m\u001B[1;33m)\u001B[0m \u001B[1;32mand\u001B[0m \u001B[0misinstance\u001B[0m\u001B[1;33m(\u001B[0m\u001B[0mmapped\u001B[0m\u001B[1;33m[\u001B[0m\u001B[1;36m0\u001B[0m\u001B[1;33m]\u001B[0m\u001B[1;33m,\u001B[0m \u001B[0mSeries\u001B[0m\u001B[1;33m)\u001B[0m\u001B[1;33m:\u001B[0m\u001B[1;33m\u001B[0m\u001B[1;33m\u001B[0m\u001B[0m\n",
      "\u001B[1;32mpandas\\_libs\\lib.pyx\u001B[0m in \u001B[0;36mpandas._libs.lib.map_infer\u001B[1;34m()\u001B[0m\n",
      "\u001B[1;32m<timed exec>\u001B[0m in \u001B[0;36m<lambda>\u001B[1;34m(x)\u001B[0m\n",
      "\u001B[1;32m<ipython-input-18-7d17f18cb2af>\u001B[0m in \u001B[0;36mpreprocess\u001B[1;34m(text, stem)\u001B[0m\n\u001B[0;32m      8\u001B[0m                 \u001B[0mtokens\u001B[0m\u001B[1;33m.\u001B[0m\u001B[0mappend\u001B[0m\u001B[1;33m(\u001B[0m\u001B[0mstemmer\u001B[0m\u001B[1;33m.\u001B[0m\u001B[0mstem\u001B[0m\u001B[1;33m(\u001B[0m\u001B[0mtoken\u001B[0m\u001B[1;33m)\u001B[0m\u001B[1;33m)\u001B[0m\u001B[1;33m\u001B[0m\u001B[1;33m\u001B[0m\u001B[0m\n\u001B[0;32m      9\u001B[0m             \u001B[1;32melse\u001B[0m\u001B[1;33m:\u001B[0m\u001B[1;33m\u001B[0m\u001B[1;33m\u001B[0m\u001B[0m\n\u001B[1;32m---> 10\u001B[1;33m                 \u001B[0mtokens\u001B[0m\u001B[1;33m.\u001B[0m\u001B[0mappend\u001B[0m\u001B[1;33m(\u001B[0m\u001B[0mtoken\u001B[0m\u001B[1;33m)\u001B[0m\u001B[1;33m\u001B[0m\u001B[1;33m\u001B[0m\u001B[0m\n\u001B[0m\u001B[0;32m     11\u001B[0m     \u001B[1;32mreturn\u001B[0m \u001B[1;34m\" \"\u001B[0m\u001B[1;33m.\u001B[0m\u001B[0mjoin\u001B[0m\u001B[1;33m(\u001B[0m\u001B[0mtokens\u001B[0m\u001B[1;33m)\u001B[0m\u001B[1;33m\u001B[0m\u001B[1;33m\u001B[0m\u001B[0m\n\u001B[0;32m     12\u001B[0m \u001B[1;33m\u001B[0m\u001B[0m\n",
      "\u001B[1;31mKeyboardInterrupt\u001B[0m: "
     ]
    }
   ]
  },
  {
   "metadata": {
    "trusted": true,
    "_uuid": "f5f9714a8507409bbe780eebf2855a33e8e6ba37"
   },
   "cell_type": "markdown",
   "source": "### Split train and test"
  },
  {
   "metadata": {
    "trusted": true,
    "_uuid": "d2b1179c968e3f3910c790ecf0c5b2cbb34b0e68"
   },
   "cell_type": "code",
   "source": "df_train, df_test = train_test_split(df, test_size=1-TRAIN_SIZE, random_state=42)\nprint(\"TRAIN size:\", len(df_train))\nprint(\"TEST size:\", len(df_test))",
   "execution_count": 20,
   "outputs": [
    {
     "name": "stdout",
     "output_type": "stream",
     "text": [
      "TRAIN size: 1280000\n",
      "TEST size: 320000\n"
     ]
    }
   ]
  },
  {
   "metadata": {
    "_uuid": "f08a28aab2c3d16d8b9681a7d5d07587153a1cd6"
   },
   "cell_type": "markdown",
   "source": "### Word2Vec "
  },
  {
   "metadata": {
    "trusted": true,
    "_uuid": "2461bf564de1b4414841933d0c1d1bee5f5cc5a6"
   },
   "cell_type": "code",
   "source": "%%time\ndocuments = [_text.split() for _text in df_train.text] ",
   "execution_count": 21,
   "outputs": [
    {
     "name": "stdout",
     "output_type": "stream",
     "text": [
      "Wall time: 5.32 s\n"
     ]
    }
   ]
  },
  {
   "metadata": {
    "trusted": true,
    "_uuid": "8e19b9f25801ba86420decc266d2b3e6fb44f1ea"
   },
   "cell_type": "code",
   "source": "w2v_model = gensim.models.word2vec.Word2Vec(size=W2V_SIZE, \n                                            window=W2V_WINDOW, \n                                            min_count=W2V_MIN_COUNT, \n                                            workers=8)",
   "execution_count": 22,
   "outputs": []
  },
  {
   "metadata": {
    "trusted": true,
    "_uuid": "58d655af07653c594bec6bebcfb302a973b0ad9c"
   },
   "cell_type": "code",
   "source": "w2v_model.build_vocab(documents)",
   "execution_count": 23,
   "outputs": [
    {
     "name": "stderr",
     "output_type": "stream",
     "text": [
      "2021-02-12 15:13:31,959 : INFO : collecting all words and their counts\n",
      "2021-02-12 15:13:31,960 : INFO : PROGRESS: at sentence #0, processed 0 words, keeping 0 word types\n",
      "2021-02-12 15:13:32,001 : INFO : PROGRESS: at sentence #10000, processed 132112 words, keeping 29901 word types\n",
      "2021-02-12 15:13:32,058 : INFO : PROGRESS: at sentence #20000, processed 263673 words, keeping 51026 word types\n",
      "2021-02-12 15:13:32,101 : INFO : PROGRESS: at sentence #30000, processed 393870 words, keeping 69231 word types\n",
      "2021-02-12 15:13:32,153 : INFO : PROGRESS: at sentence #40000, processed 526649 words, keeping 86122 word types\n",
      "2021-02-12 15:13:32,201 : INFO : PROGRESS: at sentence #50000, processed 657596 words, keeping 102097 word types\n",
      "2021-02-12 15:13:32,248 : INFO : PROGRESS: at sentence #60000, processed 788578 words, keeping 117455 word types\n",
      "2021-02-12 15:13:32,290 : INFO : PROGRESS: at sentence #70000, processed 919604 words, keeping 131952 word types\n",
      "2021-02-12 15:13:32,348 : INFO : PROGRESS: at sentence #80000, processed 1052441 words, keeping 146076 word types\n",
      "2021-02-12 15:13:32,397 : INFO : PROGRESS: at sentence #90000, processed 1183131 words, keeping 159472 word types\n",
      "2021-02-12 15:13:32,442 : INFO : PROGRESS: at sentence #100000, processed 1314331 words, keeping 172821 word types\n",
      "2021-02-12 15:13:32,497 : INFO : PROGRESS: at sentence #110000, processed 1446370 words, keeping 185592 word types\n",
      "2021-02-12 15:13:32,542 : INFO : PROGRESS: at sentence #120000, processed 1578606 words, keeping 198255 word types\n",
      "2021-02-12 15:13:32,586 : INFO : PROGRESS: at sentence #130000, processed 1709858 words, keeping 210744 word types\n",
      "2021-02-12 15:13:32,632 : INFO : PROGRESS: at sentence #140000, processed 1841169 words, keeping 223024 word types\n",
      "2021-02-12 15:13:32,682 : INFO : PROGRESS: at sentence #150000, processed 1972482 words, keeping 234975 word types\n",
      "2021-02-12 15:13:32,740 : INFO : PROGRESS: at sentence #160000, processed 2103031 words, keeping 246687 word types\n",
      "2021-02-12 15:13:32,781 : INFO : PROGRESS: at sentence #170000, processed 2234925 words, keeping 258414 word types\n",
      "2021-02-12 15:13:32,830 : INFO : PROGRESS: at sentence #180000, processed 2367283 words, keeping 270002 word types\n",
      "2021-02-12 15:13:32,880 : INFO : PROGRESS: at sentence #190000, processed 2500479 words, keeping 281222 word types\n",
      "2021-02-12 15:13:32,922 : INFO : PROGRESS: at sentence #200000, processed 2631829 words, keeping 292152 word types\n",
      "2021-02-12 15:13:32,967 : INFO : PROGRESS: at sentence #210000, processed 2764003 words, keeping 302876 word types\n",
      "2021-02-12 15:13:33,015 : INFO : PROGRESS: at sentence #220000, processed 2896342 words, keeping 313767 word types\n",
      "2021-02-12 15:13:33,061 : INFO : PROGRESS: at sentence #230000, processed 3027698 words, keeping 324625 word types\n",
      "2021-02-12 15:13:33,114 : INFO : PROGRESS: at sentence #240000, processed 3159606 words, keeping 335133 word types\n",
      "2021-02-12 15:13:33,159 : INFO : PROGRESS: at sentence #250000, processed 3291844 words, keeping 345554 word types\n",
      "2021-02-12 15:13:33,218 : INFO : PROGRESS: at sentence #260000, processed 3423575 words, keeping 355777 word types\n",
      "2021-02-12 15:13:33,263 : INFO : PROGRESS: at sentence #270000, processed 3555391 words, keeping 365775 word types\n",
      "2021-02-12 15:13:33,309 : INFO : PROGRESS: at sentence #280000, processed 3687145 words, keeping 375852 word types\n",
      "2021-02-12 15:13:33,359 : INFO : PROGRESS: at sentence #290000, processed 3819167 words, keeping 385823 word types\n",
      "2021-02-12 15:13:33,409 : INFO : PROGRESS: at sentence #300000, processed 3950470 words, keeping 395779 word types\n",
      "2021-02-12 15:13:33,457 : INFO : PROGRESS: at sentence #310000, processed 4082219 words, keeping 405465 word types\n",
      "2021-02-12 15:13:33,502 : INFO : PROGRESS: at sentence #320000, processed 4214570 words, keeping 415238 word types\n",
      "2021-02-12 15:13:33,554 : INFO : PROGRESS: at sentence #330000, processed 4346260 words, keeping 424936 word types\n",
      "2021-02-12 15:13:33,600 : INFO : PROGRESS: at sentence #340000, processed 4478336 words, keeping 434483 word types\n",
      "2021-02-12 15:13:33,648 : INFO : PROGRESS: at sentence #350000, processed 4610279 words, keeping 444003 word types\n",
      "2021-02-12 15:13:33,703 : INFO : PROGRESS: at sentence #360000, processed 4742174 words, keeping 453263 word types\n",
      "2021-02-12 15:13:33,750 : INFO : PROGRESS: at sentence #370000, processed 4874277 words, keeping 462411 word types\n",
      "2021-02-12 15:13:33,801 : INFO : PROGRESS: at sentence #380000, processed 5006193 words, keeping 471619 word types\n",
      "2021-02-12 15:13:33,857 : INFO : PROGRESS: at sentence #390000, processed 5137916 words, keeping 480860 word types\n",
      "2021-02-12 15:13:33,903 : INFO : PROGRESS: at sentence #400000, processed 5270143 words, keeping 490039 word types\n",
      "2021-02-12 15:13:33,953 : INFO : PROGRESS: at sentence #410000, processed 5401423 words, keeping 499030 word types\n",
      "2021-02-12 15:13:34,001 : INFO : PROGRESS: at sentence #420000, processed 5533490 words, keeping 508095 word types\n",
      "2021-02-12 15:13:34,046 : INFO : PROGRESS: at sentence #430000, processed 5665439 words, keeping 517180 word types\n",
      "2021-02-12 15:13:34,094 : INFO : PROGRESS: at sentence #440000, processed 5797147 words, keeping 525979 word types\n",
      "2021-02-12 15:13:34,147 : INFO : PROGRESS: at sentence #450000, processed 5929754 words, keeping 534793 word types\n",
      "2021-02-12 15:13:34,194 : INFO : PROGRESS: at sentence #460000, processed 6061583 words, keeping 543588 word types\n",
      "2021-02-12 15:13:34,239 : INFO : PROGRESS: at sentence #470000, processed 6194998 words, keeping 552409 word types\n",
      "2021-02-12 15:13:34,283 : INFO : PROGRESS: at sentence #480000, processed 6326545 words, keeping 561068 word types\n",
      "2021-02-12 15:13:34,329 : INFO : PROGRESS: at sentence #490000, processed 6457645 words, keeping 569793 word types\n",
      "2021-02-12 15:13:34,378 : INFO : PROGRESS: at sentence #500000, processed 6589376 words, keeping 578338 word types\n",
      "2021-02-12 15:13:34,440 : INFO : PROGRESS: at sentence #510000, processed 6721389 words, keeping 587028 word types\n",
      "2021-02-12 15:13:34,486 : INFO : PROGRESS: at sentence #520000, processed 6853716 words, keeping 595546 word types\n",
      "2021-02-12 15:13:34,529 : INFO : PROGRESS: at sentence #530000, processed 6986012 words, keeping 604020 word types\n",
      "2021-02-12 15:13:34,579 : INFO : PROGRESS: at sentence #540000, processed 7117624 words, keeping 612410 word types\n",
      "2021-02-12 15:13:34,630 : INFO : PROGRESS: at sentence #550000, processed 7248608 words, keeping 620607 word types\n",
      "2021-02-12 15:13:34,683 : INFO : PROGRESS: at sentence #560000, processed 7380993 words, keeping 628903 word types\n",
      "2021-02-12 15:13:34,740 : INFO : PROGRESS: at sentence #570000, processed 7512366 words, keeping 637115 word types\n",
      "2021-02-12 15:13:34,803 : INFO : PROGRESS: at sentence #580000, processed 7644627 words, keeping 645277 word types\n",
      "2021-02-12 15:13:34,865 : INFO : PROGRESS: at sentence #590000, processed 7776602 words, keeping 653425 word types\n",
      "2021-02-12 15:13:34,923 : INFO : PROGRESS: at sentence #600000, processed 7908650 words, keeping 661474 word types\n",
      "2021-02-12 15:13:34,970 : INFO : PROGRESS: at sentence #610000, processed 8040684 words, keeping 669594 word types\n",
      "2021-02-12 15:13:35,021 : INFO : PROGRESS: at sentence #620000, processed 8172915 words, keeping 677643 word types\n",
      "2021-02-12 15:13:35,084 : INFO : PROGRESS: at sentence #630000, processed 8304198 words, keeping 685671 word types\n",
      "2021-02-12 15:13:35,144 : INFO : PROGRESS: at sentence #640000, processed 8436376 words, keeping 693631 word types\n",
      "2021-02-12 15:13:35,229 : INFO : PROGRESS: at sentence #650000, processed 8569167 words, keeping 701810 word types\n",
      "2021-02-12 15:13:35,280 : INFO : PROGRESS: at sentence #660000, processed 8700871 words, keeping 709691 word types\n",
      "2021-02-12 15:13:35,327 : INFO : PROGRESS: at sentence #670000, processed 8833102 words, keeping 717450 word types\n",
      "2021-02-12 15:13:35,374 : INFO : PROGRESS: at sentence #680000, processed 8963806 words, keeping 725395 word types\n",
      "2021-02-12 15:13:35,448 : INFO : PROGRESS: at sentence #690000, processed 9096715 words, keeping 733113 word types\n",
      "2021-02-12 15:13:35,512 : INFO : PROGRESS: at sentence #700000, processed 9229687 words, keeping 740895 word types\n",
      "2021-02-12 15:13:35,566 : INFO : PROGRESS: at sentence #710000, processed 9362031 words, keeping 748596 word types\n",
      "2021-02-12 15:13:35,620 : INFO : PROGRESS: at sentence #720000, processed 9493652 words, keeping 756276 word types\n",
      "2021-02-12 15:13:35,665 : INFO : PROGRESS: at sentence #730000, processed 9625180 words, keeping 763908 word types\n",
      "2021-02-12 15:13:35,723 : INFO : PROGRESS: at sentence #740000, processed 9756522 words, keeping 771468 word types\n",
      "2021-02-12 15:13:35,818 : INFO : PROGRESS: at sentence #750000, processed 9888277 words, keeping 778999 word types\n",
      "2021-02-12 15:13:35,881 : INFO : PROGRESS: at sentence #760000, processed 10019806 words, keeping 786637 word types\n",
      "2021-02-12 15:13:35,937 : INFO : PROGRESS: at sentence #770000, processed 10151991 words, keeping 794339 word types\n",
      "2021-02-12 15:13:35,988 : INFO : PROGRESS: at sentence #780000, processed 10281847 words, keeping 801817 word types\n",
      "2021-02-12 15:13:36,039 : INFO : PROGRESS: at sentence #790000, processed 10414770 words, keeping 809398 word types\n",
      "2021-02-12 15:13:36,090 : INFO : PROGRESS: at sentence #800000, processed 10547202 words, keeping 816913 word types\n",
      "2021-02-12 15:13:36,143 : INFO : PROGRESS: at sentence #810000, processed 10679525 words, keeping 824233 word types\n",
      "2021-02-12 15:13:36,204 : INFO : PROGRESS: at sentence #820000, processed 10811168 words, keeping 831644 word types\n",
      "2021-02-12 15:13:36,264 : INFO : PROGRESS: at sentence #830000, processed 10942199 words, keeping 839091 word types\n",
      "2021-02-12 15:13:36,326 : INFO : PROGRESS: at sentence #840000, processed 11073211 words, keeping 846294 word types\n",
      "2021-02-12 15:13:36,398 : INFO : PROGRESS: at sentence #850000, processed 11205021 words, keeping 853756 word types\n",
      "2021-02-12 15:13:36,447 : INFO : PROGRESS: at sentence #860000, processed 11336392 words, keeping 861009 word types\n",
      "2021-02-12 15:13:36,493 : INFO : PROGRESS: at sentence #870000, processed 11468206 words, keeping 868404 word types\n",
      "2021-02-12 15:13:36,543 : INFO : PROGRESS: at sentence #880000, processed 11600711 words, keeping 875559 word types\n",
      "2021-02-12 15:13:36,596 : INFO : PROGRESS: at sentence #890000, processed 11732260 words, keeping 882778 word types\n",
      "2021-02-12 15:13:36,642 : INFO : PROGRESS: at sentence #900000, processed 11863340 words, keeping 890141 word types\n",
      "2021-02-12 15:13:36,690 : INFO : PROGRESS: at sentence #910000, processed 11995324 words, keeping 897298 word types\n",
      "2021-02-12 15:13:36,740 : INFO : PROGRESS: at sentence #920000, processed 12127550 words, keeping 904400 word types\n",
      "2021-02-12 15:13:36,805 : INFO : PROGRESS: at sentence #930000, processed 12260176 words, keeping 911645 word types\n",
      "2021-02-12 15:13:36,869 : INFO : PROGRESS: at sentence #940000, processed 12390859 words, keeping 918772 word types\n",
      "2021-02-12 15:13:36,937 : INFO : PROGRESS: at sentence #950000, processed 12523163 words, keeping 925878 word types\n",
      "2021-02-12 15:13:36,993 : INFO : PROGRESS: at sentence #960000, processed 12654160 words, keeping 932883 word types\n",
      "2021-02-12 15:13:37,052 : INFO : PROGRESS: at sentence #970000, processed 12785997 words, keeping 939873 word types\n",
      "2021-02-12 15:13:37,101 : INFO : PROGRESS: at sentence #980000, processed 12916094 words, keeping 947099 word types\n",
      "2021-02-12 15:13:37,147 : INFO : PROGRESS: at sentence #990000, processed 13047116 words, keeping 954021 word types\n",
      "2021-02-12 15:13:37,200 : INFO : PROGRESS: at sentence #1000000, processed 13178081 words, keeping 960924 word types\n",
      "2021-02-12 15:13:37,255 : INFO : PROGRESS: at sentence #1010000, processed 13309043 words, keeping 967937 word types\n",
      "2021-02-12 15:13:37,318 : INFO : PROGRESS: at sentence #1020000, processed 13440734 words, keeping 974925 word types\n",
      "2021-02-12 15:13:37,367 : INFO : PROGRESS: at sentence #1030000, processed 13571431 words, keeping 981832 word types\n",
      "2021-02-12 15:13:37,414 : INFO : PROGRESS: at sentence #1040000, processed 13702771 words, keeping 988756 word types\n",
      "2021-02-12 15:13:37,459 : INFO : PROGRESS: at sentence #1050000, processed 13833848 words, keeping 995726 word types\n",
      "2021-02-12 15:13:37,514 : INFO : PROGRESS: at sentence #1060000, processed 13966925 words, keeping 1002699 word types\n",
      "2021-02-12 15:13:37,562 : INFO : PROGRESS: at sentence #1070000, processed 14097492 words, keeping 1009387 word types\n"
     ]
    },
    {
     "ename": "KeyboardInterrupt",
     "evalue": "",
     "output_type": "error",
     "traceback": [
      "\u001B[1;31m---------------------------------------------------------------------------\u001B[0m",
      "\u001B[1;31mKeyboardInterrupt\u001B[0m                         Traceback (most recent call last)",
      "\u001B[1;32m<ipython-input-23-ed1892991add>\u001B[0m in \u001B[0;36m<module>\u001B[1;34m\u001B[0m\n\u001B[1;32m----> 1\u001B[1;33m \u001B[0mw2v_model\u001B[0m\u001B[1;33m.\u001B[0m\u001B[0mbuild_vocab\u001B[0m\u001B[1;33m(\u001B[0m\u001B[0mdocuments\u001B[0m\u001B[1;33m)\u001B[0m\u001B[1;33m\u001B[0m\u001B[1;33m\u001B[0m\u001B[0m\n\u001B[0m\u001B[0;32m      2\u001B[0m \u001B[1;33m\u001B[0m\u001B[0m\n",
      "\u001B[1;32mC:\\ProgramData\\Anaconda3\\envs\\MLNLP\\lib\\site-packages\\gensim\\models\\base_any2vec.py\u001B[0m in \u001B[0;36mbuild_vocab\u001B[1;34m(self, sentences, corpus_file, update, progress_per, keep_raw_vocab, trim_rule, **kwargs)\u001B[0m\n\u001B[0;32m    919\u001B[0m \u001B[1;33m\u001B[0m\u001B[0m\n\u001B[0;32m    920\u001B[0m         \"\"\"\n\u001B[1;32m--> 921\u001B[1;33m         total_words, corpus_count = self.vocabulary.scan_vocab(\n\u001B[0m\u001B[0;32m    922\u001B[0m             sentences=sentences, corpus_file=corpus_file, progress_per=progress_per, trim_rule=trim_rule)\n\u001B[0;32m    923\u001B[0m         \u001B[0mself\u001B[0m\u001B[1;33m.\u001B[0m\u001B[0mcorpus_count\u001B[0m \u001B[1;33m=\u001B[0m \u001B[0mcorpus_count\u001B[0m\u001B[1;33m\u001B[0m\u001B[1;33m\u001B[0m\u001B[0m\n",
      "\u001B[1;32mC:\\ProgramData\\Anaconda3\\envs\\MLNLP\\lib\\site-packages\\gensim\\models\\word2vec.py\u001B[0m in \u001B[0;36mscan_vocab\u001B[1;34m(self, sentences, corpus_file, progress_per, workers, trim_rule)\u001B[0m\n\u001B[0;32m   1401\u001B[0m             \u001B[0msentences\u001B[0m \u001B[1;33m=\u001B[0m \u001B[0mLineSentence\u001B[0m\u001B[1;33m(\u001B[0m\u001B[0mcorpus_file\u001B[0m\u001B[1;33m)\u001B[0m\u001B[1;33m\u001B[0m\u001B[1;33m\u001B[0m\u001B[0m\n\u001B[0;32m   1402\u001B[0m \u001B[1;33m\u001B[0m\u001B[0m\n\u001B[1;32m-> 1403\u001B[1;33m         \u001B[0mtotal_words\u001B[0m\u001B[1;33m,\u001B[0m \u001B[0mcorpus_count\u001B[0m \u001B[1;33m=\u001B[0m \u001B[0mself\u001B[0m\u001B[1;33m.\u001B[0m\u001B[0m_scan_vocab\u001B[0m\u001B[1;33m(\u001B[0m\u001B[0msentences\u001B[0m\u001B[1;33m,\u001B[0m \u001B[0mprogress_per\u001B[0m\u001B[1;33m,\u001B[0m \u001B[0mtrim_rule\u001B[0m\u001B[1;33m)\u001B[0m\u001B[1;33m\u001B[0m\u001B[1;33m\u001B[0m\u001B[0m\n\u001B[0m\u001B[0;32m   1404\u001B[0m \u001B[1;33m\u001B[0m\u001B[0m\n\u001B[0;32m   1405\u001B[0m         logger.info(\n",
      "\u001B[1;32mC:\\ProgramData\\Anaconda3\\envs\\MLNLP\\lib\\site-packages\\gensim\\models\\word2vec.py\u001B[0m in \u001B[0;36m_scan_vocab\u001B[1;34m(self, sentences, progress_per, trim_rule)\u001B[0m\n\u001B[0;32m   1380\u001B[0m                 \u001B[0mchecked_string_types\u001B[0m \u001B[1;33m+=\u001B[0m \u001B[1;36m1\u001B[0m\u001B[1;33m\u001B[0m\u001B[1;33m\u001B[0m\u001B[0m\n\u001B[0;32m   1381\u001B[0m             \u001B[1;32mif\u001B[0m \u001B[0msentence_no\u001B[0m \u001B[1;33m%\u001B[0m \u001B[0mprogress_per\u001B[0m \u001B[1;33m==\u001B[0m \u001B[1;36m0\u001B[0m\u001B[1;33m:\u001B[0m\u001B[1;33m\u001B[0m\u001B[1;33m\u001B[0m\u001B[0m\n\u001B[1;32m-> 1382\u001B[1;33m                 logger.info(\n\u001B[0m\u001B[0;32m   1383\u001B[0m                     \u001B[1;34m\"PROGRESS: at sentence #%i, processed %i words, keeping %i word types\"\u001B[0m\u001B[1;33m,\u001B[0m\u001B[1;33m\u001B[0m\u001B[1;33m\u001B[0m\u001B[0m\n\u001B[0;32m   1384\u001B[0m                     \u001B[0msentence_no\u001B[0m\u001B[1;33m,\u001B[0m \u001B[0mtotal_words\u001B[0m\u001B[1;33m,\u001B[0m \u001B[0mlen\u001B[0m\u001B[1;33m(\u001B[0m\u001B[0mvocab\u001B[0m\u001B[1;33m)\u001B[0m\u001B[1;33m\u001B[0m\u001B[1;33m\u001B[0m\u001B[0m\n",
      "\u001B[1;32mC:\\ProgramData\\Anaconda3\\envs\\MLNLP\\lib\\logging\\__init__.py\u001B[0m in \u001B[0;36minfo\u001B[1;34m(self, msg, *args, **kwargs)\u001B[0m\n\u001B[0;32m   1432\u001B[0m         \"\"\"\n\u001B[0;32m   1433\u001B[0m         \u001B[1;32mif\u001B[0m \u001B[0mself\u001B[0m\u001B[1;33m.\u001B[0m\u001B[0misEnabledFor\u001B[0m\u001B[1;33m(\u001B[0m\u001B[0mINFO\u001B[0m\u001B[1;33m)\u001B[0m\u001B[1;33m:\u001B[0m\u001B[1;33m\u001B[0m\u001B[1;33m\u001B[0m\u001B[0m\n\u001B[1;32m-> 1434\u001B[1;33m             \u001B[0mself\u001B[0m\u001B[1;33m.\u001B[0m\u001B[0m_log\u001B[0m\u001B[1;33m(\u001B[0m\u001B[0mINFO\u001B[0m\u001B[1;33m,\u001B[0m \u001B[0mmsg\u001B[0m\u001B[1;33m,\u001B[0m \u001B[0margs\u001B[0m\u001B[1;33m,\u001B[0m \u001B[1;33m**\u001B[0m\u001B[0mkwargs\u001B[0m\u001B[1;33m)\u001B[0m\u001B[1;33m\u001B[0m\u001B[1;33m\u001B[0m\u001B[0m\n\u001B[0m\u001B[0;32m   1435\u001B[0m \u001B[1;33m\u001B[0m\u001B[0m\n\u001B[0;32m   1436\u001B[0m     \u001B[1;32mdef\u001B[0m \u001B[0mwarning\u001B[0m\u001B[1;33m(\u001B[0m\u001B[0mself\u001B[0m\u001B[1;33m,\u001B[0m \u001B[0mmsg\u001B[0m\u001B[1;33m,\u001B[0m \u001B[1;33m*\u001B[0m\u001B[0margs\u001B[0m\u001B[1;33m,\u001B[0m \u001B[1;33m**\u001B[0m\u001B[0mkwargs\u001B[0m\u001B[1;33m)\u001B[0m\u001B[1;33m:\u001B[0m\u001B[1;33m\u001B[0m\u001B[1;33m\u001B[0m\u001B[0m\n",
      "\u001B[1;32mC:\\ProgramData\\Anaconda3\\envs\\MLNLP\\lib\\logging\\__init__.py\u001B[0m in \u001B[0;36m_log\u001B[1;34m(self, level, msg, args, exc_info, extra, stack_info, stacklevel)\u001B[0m\n\u001B[0;32m   1575\u001B[0m         record = self.makeRecord(self.name, level, fn, lno, msg, args,\n\u001B[0;32m   1576\u001B[0m                                  exc_info, func, extra, sinfo)\n\u001B[1;32m-> 1577\u001B[1;33m         \u001B[0mself\u001B[0m\u001B[1;33m.\u001B[0m\u001B[0mhandle\u001B[0m\u001B[1;33m(\u001B[0m\u001B[0mrecord\u001B[0m\u001B[1;33m)\u001B[0m\u001B[1;33m\u001B[0m\u001B[1;33m\u001B[0m\u001B[0m\n\u001B[0m\u001B[0;32m   1578\u001B[0m \u001B[1;33m\u001B[0m\u001B[0m\n\u001B[0;32m   1579\u001B[0m     \u001B[1;32mdef\u001B[0m \u001B[0mhandle\u001B[0m\u001B[1;33m(\u001B[0m\u001B[0mself\u001B[0m\u001B[1;33m,\u001B[0m \u001B[0mrecord\u001B[0m\u001B[1;33m)\u001B[0m\u001B[1;33m:\u001B[0m\u001B[1;33m\u001B[0m\u001B[1;33m\u001B[0m\u001B[0m\n",
      "\u001B[1;32mC:\\ProgramData\\Anaconda3\\envs\\MLNLP\\lib\\logging\\__init__.py\u001B[0m in \u001B[0;36mhandle\u001B[1;34m(self, record)\u001B[0m\n\u001B[0;32m   1585\u001B[0m         \"\"\"\n\u001B[0;32m   1586\u001B[0m         \u001B[1;32mif\u001B[0m \u001B[1;33m(\u001B[0m\u001B[1;32mnot\u001B[0m \u001B[0mself\u001B[0m\u001B[1;33m.\u001B[0m\u001B[0mdisabled\u001B[0m\u001B[1;33m)\u001B[0m \u001B[1;32mand\u001B[0m \u001B[0mself\u001B[0m\u001B[1;33m.\u001B[0m\u001B[0mfilter\u001B[0m\u001B[1;33m(\u001B[0m\u001B[0mrecord\u001B[0m\u001B[1;33m)\u001B[0m\u001B[1;33m:\u001B[0m\u001B[1;33m\u001B[0m\u001B[1;33m\u001B[0m\u001B[0m\n\u001B[1;32m-> 1587\u001B[1;33m             \u001B[0mself\u001B[0m\u001B[1;33m.\u001B[0m\u001B[0mcallHandlers\u001B[0m\u001B[1;33m(\u001B[0m\u001B[0mrecord\u001B[0m\u001B[1;33m)\u001B[0m\u001B[1;33m\u001B[0m\u001B[1;33m\u001B[0m\u001B[0m\n\u001B[0m\u001B[0;32m   1588\u001B[0m \u001B[1;33m\u001B[0m\u001B[0m\n\u001B[0;32m   1589\u001B[0m     \u001B[1;32mdef\u001B[0m \u001B[0maddHandler\u001B[0m\u001B[1;33m(\u001B[0m\u001B[0mself\u001B[0m\u001B[1;33m,\u001B[0m \u001B[0mhdlr\u001B[0m\u001B[1;33m)\u001B[0m\u001B[1;33m:\u001B[0m\u001B[1;33m\u001B[0m\u001B[1;33m\u001B[0m\u001B[0m\n",
      "\u001B[1;32mC:\\ProgramData\\Anaconda3\\envs\\MLNLP\\lib\\logging\\__init__.py\u001B[0m in \u001B[0;36mcallHandlers\u001B[1;34m(self, record)\u001B[0m\n\u001B[0;32m   1647\u001B[0m                 \u001B[0mfound\u001B[0m \u001B[1;33m=\u001B[0m \u001B[0mfound\u001B[0m \u001B[1;33m+\u001B[0m \u001B[1;36m1\u001B[0m\u001B[1;33m\u001B[0m\u001B[1;33m\u001B[0m\u001B[0m\n\u001B[0;32m   1648\u001B[0m                 \u001B[1;32mif\u001B[0m \u001B[0mrecord\u001B[0m\u001B[1;33m.\u001B[0m\u001B[0mlevelno\u001B[0m \u001B[1;33m>=\u001B[0m \u001B[0mhdlr\u001B[0m\u001B[1;33m.\u001B[0m\u001B[0mlevel\u001B[0m\u001B[1;33m:\u001B[0m\u001B[1;33m\u001B[0m\u001B[1;33m\u001B[0m\u001B[0m\n\u001B[1;32m-> 1649\u001B[1;33m                     \u001B[0mhdlr\u001B[0m\u001B[1;33m.\u001B[0m\u001B[0mhandle\u001B[0m\u001B[1;33m(\u001B[0m\u001B[0mrecord\u001B[0m\u001B[1;33m)\u001B[0m\u001B[1;33m\u001B[0m\u001B[1;33m\u001B[0m\u001B[0m\n\u001B[0m\u001B[0;32m   1650\u001B[0m             \u001B[1;32mif\u001B[0m \u001B[1;32mnot\u001B[0m \u001B[0mc\u001B[0m\u001B[1;33m.\u001B[0m\u001B[0mpropagate\u001B[0m\u001B[1;33m:\u001B[0m\u001B[1;33m\u001B[0m\u001B[1;33m\u001B[0m\u001B[0m\n\u001B[0;32m   1651\u001B[0m                 \u001B[0mc\u001B[0m \u001B[1;33m=\u001B[0m \u001B[1;32mNone\u001B[0m    \u001B[1;31m#break out\u001B[0m\u001B[1;33m\u001B[0m\u001B[1;33m\u001B[0m\u001B[0m\n",
      "\u001B[1;32mC:\\ProgramData\\Anaconda3\\envs\\MLNLP\\lib\\logging\\__init__.py\u001B[0m in \u001B[0;36mhandle\u001B[1;34m(self, record)\u001B[0m\n\u001B[0;32m    948\u001B[0m             \u001B[0mself\u001B[0m\u001B[1;33m.\u001B[0m\u001B[0macquire\u001B[0m\u001B[1;33m(\u001B[0m\u001B[1;33m)\u001B[0m\u001B[1;33m\u001B[0m\u001B[1;33m\u001B[0m\u001B[0m\n\u001B[0;32m    949\u001B[0m             \u001B[1;32mtry\u001B[0m\u001B[1;33m:\u001B[0m\u001B[1;33m\u001B[0m\u001B[1;33m\u001B[0m\u001B[0m\n\u001B[1;32m--> 950\u001B[1;33m                 \u001B[0mself\u001B[0m\u001B[1;33m.\u001B[0m\u001B[0memit\u001B[0m\u001B[1;33m(\u001B[0m\u001B[0mrecord\u001B[0m\u001B[1;33m)\u001B[0m\u001B[1;33m\u001B[0m\u001B[1;33m\u001B[0m\u001B[0m\n\u001B[0m\u001B[0;32m    951\u001B[0m             \u001B[1;32mfinally\u001B[0m\u001B[1;33m:\u001B[0m\u001B[1;33m\u001B[0m\u001B[1;33m\u001B[0m\u001B[0m\n\u001B[0;32m    952\u001B[0m                 \u001B[0mself\u001B[0m\u001B[1;33m.\u001B[0m\u001B[0mrelease\u001B[0m\u001B[1;33m(\u001B[0m\u001B[1;33m)\u001B[0m\u001B[1;33m\u001B[0m\u001B[1;33m\u001B[0m\u001B[0m\n",
      "\u001B[1;32mC:\\ProgramData\\Anaconda3\\envs\\MLNLP\\lib\\logging\\__init__.py\u001B[0m in \u001B[0;36memit\u001B[1;34m(self, record)\u001B[0m\n\u001B[0;32m   1082\u001B[0m             \u001B[0mstream\u001B[0m \u001B[1;33m=\u001B[0m \u001B[0mself\u001B[0m\u001B[1;33m.\u001B[0m\u001B[0mstream\u001B[0m\u001B[1;33m\u001B[0m\u001B[1;33m\u001B[0m\u001B[0m\n\u001B[0;32m   1083\u001B[0m             \u001B[1;31m# issue 35046: merged two stream.writes into one.\u001B[0m\u001B[1;33m\u001B[0m\u001B[1;33m\u001B[0m\u001B[1;33m\u001B[0m\u001B[0m\n\u001B[1;32m-> 1084\u001B[1;33m             \u001B[0mstream\u001B[0m\u001B[1;33m.\u001B[0m\u001B[0mwrite\u001B[0m\u001B[1;33m(\u001B[0m\u001B[0mmsg\u001B[0m \u001B[1;33m+\u001B[0m \u001B[0mself\u001B[0m\u001B[1;33m.\u001B[0m\u001B[0mterminator\u001B[0m\u001B[1;33m)\u001B[0m\u001B[1;33m\u001B[0m\u001B[1;33m\u001B[0m\u001B[0m\n\u001B[0m\u001B[0;32m   1085\u001B[0m             \u001B[0mself\u001B[0m\u001B[1;33m.\u001B[0m\u001B[0mflush\u001B[0m\u001B[1;33m(\u001B[0m\u001B[1;33m)\u001B[0m\u001B[1;33m\u001B[0m\u001B[1;33m\u001B[0m\u001B[0m\n\u001B[0;32m   1086\u001B[0m         \u001B[1;32mexcept\u001B[0m \u001B[0mRecursionError\u001B[0m\u001B[1;33m:\u001B[0m  \u001B[1;31m# See issue 36272\u001B[0m\u001B[1;33m\u001B[0m\u001B[1;33m\u001B[0m\u001B[0m\n",
      "\u001B[1;32mC:\\ProgramData\\Anaconda3\\envs\\MLNLP\\lib\\site-packages\\ipykernel\\iostream.py\u001B[0m in \u001B[0;36mwrite\u001B[1;34m(self, string)\u001B[0m\n\u001B[0;32m    402\u001B[0m             \u001B[0mis_child\u001B[0m \u001B[1;33m=\u001B[0m \u001B[1;33m(\u001B[0m\u001B[1;32mnot\u001B[0m \u001B[0mself\u001B[0m\u001B[1;33m.\u001B[0m\u001B[0m_is_master_process\u001B[0m\u001B[1;33m(\u001B[0m\u001B[1;33m)\u001B[0m\u001B[1;33m)\u001B[0m\u001B[1;33m\u001B[0m\u001B[1;33m\u001B[0m\u001B[0m\n\u001B[0;32m    403\u001B[0m             \u001B[1;31m# only touch the buffer in the IO thread to avoid races\u001B[0m\u001B[1;33m\u001B[0m\u001B[1;33m\u001B[0m\u001B[1;33m\u001B[0m\u001B[0m\n\u001B[1;32m--> 404\u001B[1;33m             \u001B[0mself\u001B[0m\u001B[1;33m.\u001B[0m\u001B[0mpub_thread\u001B[0m\u001B[1;33m.\u001B[0m\u001B[0mschedule\u001B[0m\u001B[1;33m(\u001B[0m\u001B[1;32mlambda\u001B[0m \u001B[1;33m:\u001B[0m \u001B[0mself\u001B[0m\u001B[1;33m.\u001B[0m\u001B[0m_buffer\u001B[0m\u001B[1;33m.\u001B[0m\u001B[0mwrite\u001B[0m\u001B[1;33m(\u001B[0m\u001B[0mstring\u001B[0m\u001B[1;33m)\u001B[0m\u001B[1;33m)\u001B[0m\u001B[1;33m\u001B[0m\u001B[1;33m\u001B[0m\u001B[0m\n\u001B[0m\u001B[0;32m    405\u001B[0m             \u001B[1;32mif\u001B[0m \u001B[0mis_child\u001B[0m\u001B[1;33m:\u001B[0m\u001B[1;33m\u001B[0m\u001B[1;33m\u001B[0m\u001B[0m\n\u001B[0;32m    406\u001B[0m                 \u001B[1;31m# mp.Pool cannot be trusted to flush promptly (or ever),\u001B[0m\u001B[1;33m\u001B[0m\u001B[1;33m\u001B[0m\u001B[1;33m\u001B[0m\u001B[0m\n",
      "\u001B[1;32mC:\\ProgramData\\Anaconda3\\envs\\MLNLP\\lib\\site-packages\\ipykernel\\iostream.py\u001B[0m in \u001B[0;36mschedule\u001B[1;34m(self, f)\u001B[0m\n\u001B[0;32m    203\u001B[0m             \u001B[0mself\u001B[0m\u001B[1;33m.\u001B[0m\u001B[0m_events\u001B[0m\u001B[1;33m.\u001B[0m\u001B[0mappend\u001B[0m\u001B[1;33m(\u001B[0m\u001B[0mf\u001B[0m\u001B[1;33m)\u001B[0m\u001B[1;33m\u001B[0m\u001B[1;33m\u001B[0m\u001B[0m\n\u001B[0;32m    204\u001B[0m             \u001B[1;31m# wake event thread (message content is ignored)\u001B[0m\u001B[1;33m\u001B[0m\u001B[1;33m\u001B[0m\u001B[1;33m\u001B[0m\u001B[0m\n\u001B[1;32m--> 205\u001B[1;33m             \u001B[0mself\u001B[0m\u001B[1;33m.\u001B[0m\u001B[0m_event_pipe\u001B[0m\u001B[1;33m.\u001B[0m\u001B[0msend\u001B[0m\u001B[1;33m(\u001B[0m\u001B[1;34mb''\u001B[0m\u001B[1;33m)\u001B[0m\u001B[1;33m\u001B[0m\u001B[1;33m\u001B[0m\u001B[0m\n\u001B[0m\u001B[0;32m    206\u001B[0m         \u001B[1;32melse\u001B[0m\u001B[1;33m:\u001B[0m\u001B[1;33m\u001B[0m\u001B[1;33m\u001B[0m\u001B[0m\n\u001B[0;32m    207\u001B[0m             \u001B[0mf\u001B[0m\u001B[1;33m(\u001B[0m\u001B[1;33m)\u001B[0m\u001B[1;33m\u001B[0m\u001B[1;33m\u001B[0m\u001B[0m\n",
      "\u001B[1;32mC:\\ProgramData\\Anaconda3\\envs\\MLNLP\\lib\\site-packages\\zmq\\sugar\\socket.py\u001B[0m in \u001B[0;36msend\u001B[1;34m(self, data, flags, copy, track, routing_id, group)\u001B[0m\n\u001B[0;32m    489\u001B[0m                                  copy_threshold=self.copy_threshold)\n\u001B[0;32m    490\u001B[0m             \u001B[0mdata\u001B[0m\u001B[1;33m.\u001B[0m\u001B[0mgroup\u001B[0m \u001B[1;33m=\u001B[0m \u001B[0mgroup\u001B[0m\u001B[1;33m\u001B[0m\u001B[1;33m\u001B[0m\u001B[0m\n\u001B[1;32m--> 491\u001B[1;33m         \u001B[1;32mreturn\u001B[0m \u001B[0msuper\u001B[0m\u001B[1;33m(\u001B[0m\u001B[0mSocket\u001B[0m\u001B[1;33m,\u001B[0m \u001B[0mself\u001B[0m\u001B[1;33m)\u001B[0m\u001B[1;33m.\u001B[0m\u001B[0msend\u001B[0m\u001B[1;33m(\u001B[0m\u001B[0mdata\u001B[0m\u001B[1;33m,\u001B[0m \u001B[0mflags\u001B[0m\u001B[1;33m=\u001B[0m\u001B[0mflags\u001B[0m\u001B[1;33m,\u001B[0m \u001B[0mcopy\u001B[0m\u001B[1;33m=\u001B[0m\u001B[0mcopy\u001B[0m\u001B[1;33m,\u001B[0m \u001B[0mtrack\u001B[0m\u001B[1;33m=\u001B[0m\u001B[0mtrack\u001B[0m\u001B[1;33m)\u001B[0m\u001B[1;33m\u001B[0m\u001B[1;33m\u001B[0m\u001B[0m\n\u001B[0m\u001B[0;32m    492\u001B[0m \u001B[1;33m\u001B[0m\u001B[0m\n\u001B[0;32m    493\u001B[0m     \u001B[1;32mdef\u001B[0m \u001B[0msend_multipart\u001B[0m\u001B[1;33m(\u001B[0m\u001B[0mself\u001B[0m\u001B[1;33m,\u001B[0m \u001B[0mmsg_parts\u001B[0m\u001B[1;33m,\u001B[0m \u001B[0mflags\u001B[0m\u001B[1;33m=\u001B[0m\u001B[1;36m0\u001B[0m\u001B[1;33m,\u001B[0m \u001B[0mcopy\u001B[0m\u001B[1;33m=\u001B[0m\u001B[1;32mTrue\u001B[0m\u001B[1;33m,\u001B[0m \u001B[0mtrack\u001B[0m\u001B[1;33m=\u001B[0m\u001B[1;32mFalse\u001B[0m\u001B[1;33m,\u001B[0m \u001B[1;33m**\u001B[0m\u001B[0mkwargs\u001B[0m\u001B[1;33m)\u001B[0m\u001B[1;33m:\u001B[0m\u001B[1;33m\u001B[0m\u001B[1;33m\u001B[0m\u001B[0m\n",
      "\u001B[1;32mzmq/backend/cython/socket.pyx\u001B[0m in \u001B[0;36mzmq.backend.cython.socket.Socket.send\u001B[1;34m()\u001B[0m\n",
      "\u001B[1;32mzmq/backend/cython/socket.pyx\u001B[0m in \u001B[0;36mzmq.backend.cython.socket.Socket.send\u001B[1;34m()\u001B[0m\n",
      "\u001B[1;32mzmq/backend/cython/socket.pyx\u001B[0m in \u001B[0;36mzmq.backend.cython.socket._send_copy\u001B[1;34m()\u001B[0m\n",
      "\u001B[1;32mC:\\ProgramData\\Anaconda3\\envs\\MLNLP\\lib\\site-packages\\zmq\\backend\\cython\\checkrc.pxd\u001B[0m in \u001B[0;36mzmq.backend.cython.checkrc._check_rc\u001B[1;34m()\u001B[0m\n",
      "\u001B[1;31mKeyboardInterrupt\u001B[0m: "
     ]
    }
   ]
  },
  {
   "metadata": {
    "trusted": true,
    "_uuid": "72a5628ca81fd4b8983c12d93ae0bf950b86b6ae"
   },
   "cell_type": "code",
   "source": "words = w2v_model.wv.vocab.keys()\nvocab_size = len(words)\nprint(\"Vocab size\", vocab_size)",
   "execution_count": null,
   "outputs": []
  },
  {
   "metadata": {
    "trusted": true,
    "_uuid": "68c3e4a5ba07cac3dee67f78ecdd1404c7f83f14"
   },
   "cell_type": "code",
   "source": "%%time\nw2v_model.train(documents, total_examples=len(documents), epochs=W2V_EPOCH)",
   "execution_count": null,
   "outputs": []
  },
  {
   "metadata": {
    "trusted": true,
    "_uuid": "27cc2651c74227115d8bfd8c40e5618048e05edd"
   },
   "cell_type": "code",
   "source": "w2v_model.most_similar(\"love\")",
   "execution_count": null,
   "outputs": []
  },
  {
   "metadata": {
    "_uuid": "e13563644468037258598637b49373ca96b9b879"
   },
   "cell_type": "markdown",
   "source": "### Tokenize Text"
  },
  {
   "metadata": {
    "trusted": true,
    "_uuid": "6852bc709a7cd20173cbeeb218505078f8f37c57"
   },
   "cell_type": "code",
   "source": "%%time\ntokenizer = Tokenizer()\ntokenizer.fit_on_texts(df_train.text)\n\nvocab_size = len(tokenizer.word_index) + 1\nprint(\"Total words\", vocab_size)",
   "execution_count": null,
   "outputs": []
  },
  {
   "metadata": {
    "trusted": true,
    "_uuid": "45de439df3015030c71f84c2d170346936a1d68f"
   },
   "cell_type": "code",
   "source": "%%time\nx_train = pad_sequences(tokenizer.texts_to_sequences(df_train.text), maxlen=SEQUENCE_LENGTH)\nx_test = pad_sequences(tokenizer.texts_to_sequences(df_test.text), maxlen=SEQUENCE_LENGTH)",
   "execution_count": null,
   "outputs": []
  },
  {
   "metadata": {
    "_uuid": "03b35903fc6260e190d6928d240ef7432de117fc"
   },
   "cell_type": "markdown",
   "source": "### Label Encoder "
  },
  {
   "metadata": {
    "trusted": true,
    "_uuid": "33676e0efa39e97d89bd650b8b4eae933a22fbf0"
   },
   "cell_type": "code",
   "source": "labels = df_train.target.unique().tolist()\nlabels.append(NEUTRAL)\nlabels",
   "execution_count": null,
   "outputs": []
  },
  {
   "metadata": {
    "trusted": true,
    "_uuid": "04239a9bef76e7922fd86098a5601dfde8ee4665"
   },
   "cell_type": "code",
   "source": "encoder = LabelEncoder()\nencoder.fit(df_train.target.tolist())\n\ny_train = encoder.transform(df_train.target.tolist())\ny_test = encoder.transform(df_test.target.tolist())\n\ny_train = y_train.reshape(-1,1)\ny_test = y_test.reshape(-1,1)\n\nprint(\"y_train\",y_train.shape)\nprint(\"y_test\",y_test.shape)",
   "execution_count": null,
   "outputs": []
  },
  {
   "metadata": {
    "trusted": true,
    "_uuid": "04299c886911ca135583ab64878f213939a2990c"
   },
   "cell_type": "code",
   "source": "print(\"x_train\", x_train.shape)\nprint(\"y_train\", y_train.shape)\nprint()\nprint(\"x_test\", x_test.shape)\nprint(\"y_test\", y_test.shape)",
   "execution_count": null,
   "outputs": []
  },
  {
   "metadata": {
    "trusted": true,
    "_uuid": "232533fb27b7be99d9b8c2f8fb22c9c6bf121a6f"
   },
   "cell_type": "code",
   "source": "y_train[:10]",
   "execution_count": null,
   "outputs": []
  },
  {
   "metadata": {
    "_uuid": "233c0ea94055a03e2e7df3e2a13d036ec963484f"
   },
   "cell_type": "markdown",
   "source": "### Embedding layer"
  },
  {
   "metadata": {
    "trusted": true,
    "_uuid": "9ab488374b59e3f30f8b1ea92767d853c4846bac"
   },
   "cell_type": "code",
   "source": "embedding_matrix = np.zeros((vocab_size, W2V_SIZE))\nfor word, i in tokenizer.word_index.items():\n  if word in w2v_model.wv:\n    embedding_matrix[i] = w2v_model.wv[word]\nprint(embedding_matrix.shape)",
   "execution_count": null,
   "outputs": []
  },
  {
   "metadata": {
    "trusted": true,
    "_uuid": "833279d91e4286065968237fb5f2a0c2dd4d246c"
   },
   "cell_type": "code",
   "source": "embedding_layer = Embedding(vocab_size, W2V_SIZE, weights=[embedding_matrix], input_length=SEQUENCE_LENGTH, trainable=False)",
   "execution_count": null,
   "outputs": []
  },
  {
   "metadata": {
    "_uuid": "b299ef78f94c2085942c993a2d58753a7476305a"
   },
   "cell_type": "markdown",
   "source": "### Build Model"
  },
  {
   "metadata": {
    "trusted": true,
    "_uuid": "e775ef4f1b74e6412457181383c39f2df554ef3f"
   },
   "cell_type": "code",
   "source": "model = Sequential()\nmodel.add(embedding_layer)\nmodel.add(Dropout(0.5))\nmodel.add(LSTM(100, dropout=0.2, recurrent_dropout=0.2))\nmodel.add(Dense(1, activation='sigmoid'))\n\nmodel.summary()",
   "execution_count": null,
   "outputs": []
  },
  {
   "metadata": {
    "_uuid": "28d22eafd0c7d798dcf3d742bc92fb8577939e6c"
   },
   "cell_type": "markdown",
   "source": "### Compile model"
  },
  {
   "metadata": {
    "trusted": true,
    "_uuid": "1331e08d590bb2aa2033706c8faca217afc0f1c3"
   },
   "cell_type": "code",
   "source": "model.compile(loss='binary_crossentropy',\n              optimizer=\"adam\",\n              metrics=['accuracy'])",
   "execution_count": null,
   "outputs": []
  },
  {
   "metadata": {
    "_uuid": "c7733127cb8b380e0c807268903bf4d03ef92542"
   },
   "cell_type": "markdown",
   "source": "### Callbacks"
  },
  {
   "metadata": {
    "trusted": true,
    "_uuid": "a688df590386f5748da6fe00b01904fe6c71619e"
   },
   "cell_type": "code",
   "source": "callbacks = [ ReduceLROnPlateau(monitor='val_loss', patience=5, cooldown=0),\n              EarlyStopping(monitor='val_acc', min_delta=1e-4, patience=5)]",
   "execution_count": null,
   "outputs": []
  },
  {
   "metadata": {
    "_uuid": "8d0873633dd49179c8cae17377641b97d323ef3b"
   },
   "cell_type": "markdown",
   "source": "### Train"
  },
  {
   "metadata": {
    "trusted": true,
    "_uuid": "2b659d390c6577dc5cdb6b6297934279b4e801d5"
   },
   "cell_type": "code",
   "source": "%%time\nhistory = model.fit(x_train, y_train,\n                    batch_size=BATCH_SIZE,\n                    epochs=EPOCHS,\n                    validation_split=0.1,\n                    verbose=1,\n                    callbacks=callbacks)",
   "execution_count": null,
   "outputs": []
  },
  {
   "metadata": {
    "_uuid": "267258196d96796ac69a7b8c466314bcf5d6ee42"
   },
   "cell_type": "markdown",
   "source": "### Evaluate"
  },
  {
   "metadata": {
    "trusted": true,
    "_uuid": "98ecd8f1b8b74594c3ea775dd68a094e92458022"
   },
   "cell_type": "code",
   "source": "%%time\nscore = model.evaluate(x_test, y_test, batch_size=BATCH_SIZE)\nprint()\nprint(\"ACCURACY:\",score[1])\nprint(\"LOSS:\",score[0])",
   "execution_count": null,
   "outputs": []
  },
  {
   "metadata": {
    "trusted": true,
    "_uuid": "40c72cd1e9d6c4fd799cbba7c813765ac4039dfc"
   },
   "cell_type": "code",
   "source": "acc = history.history['acc']\nval_acc = history.history['val_acc']\nloss = history.history['loss']\nval_loss = history.history['val_loss']\n \nepochs = range(len(acc))\n \nplt.plot(epochs, acc, 'b', label='Training acc')\nplt.plot(epochs, val_acc, 'r', label='Validation acc')\nplt.title('Training and validation accuracy')\nplt.legend()\n \nplt.figure()\n \nplt.plot(epochs, loss, 'b', label='Training loss')\nplt.plot(epochs, val_loss, 'r', label='Validation loss')\nplt.title('Training and validation loss')\nplt.legend()\n \nplt.show()",
   "execution_count": null,
   "outputs": []
  },
  {
   "metadata": {
    "_uuid": "6bdfc0f6a6af5bebc0271d83dd7432c91001409b"
   },
   "cell_type": "markdown",
   "source": "### Predict"
  },
  {
   "metadata": {
    "trusted": true,
    "_uuid": "f0b0fa3d4b1bb14b3f5e3d169a369f3ebef29ae1"
   },
   "cell_type": "code",
   "source": "def decode_sentiment(score, include_neutral=True):\n    if include_neutral:        \n        label = NEUTRAL\n        if score <= SENTIMENT_THRESHOLDS[0]:\n            label = NEGATIVE\n        elif score >= SENTIMENT_THRESHOLDS[1]:\n            label = POSITIVE\n\n        return label\n    else:\n        return NEGATIVE if score < 0.5 else POSITIVE",
   "execution_count": null,
   "outputs": []
  },
  {
   "metadata": {
    "trusted": true,
    "_uuid": "ed4086d651f2f8cbed11d3c909a8873607d29a06"
   },
   "cell_type": "code",
   "source": "def predict(text, include_neutral=True):\n    start_at = time.time()\n    # Tokenize text\n    x_test = pad_sequences(tokenizer.texts_to_sequences([text]), maxlen=SEQUENCE_LENGTH)\n    # Predict\n    score = model.predict([x_test])[0]\n    # Decode sentiment\n    label = decode_sentiment(score, include_neutral=include_neutral)\n\n    return {\"label\": label, \"score\": float(score),\n       \"elapsed_time\": time.time()-start_at}  ",
   "execution_count": null,
   "outputs": []
  },
  {
   "metadata": {
    "trusted": true,
    "_uuid": "ca38b1e6c9b5acfed7467de2cf02a78333108872"
   },
   "cell_type": "code",
   "source": "predict(\"I love the music\")",
   "execution_count": null,
   "outputs": []
  },
  {
   "metadata": {
    "trusted": true,
    "_uuid": "0e5fe647533be0148850de349fea6ef6f71303d1"
   },
   "cell_type": "code",
   "source": "predict(\"I hate the rain\")",
   "execution_count": null,
   "outputs": []
  },
  {
   "metadata": {
    "trusted": true,
    "_uuid": "37064dffcc8920d34ccd54fac7c8b50e583a8269"
   },
   "cell_type": "code",
   "source": "predict(\"i don't know what i'm doing\")",
   "execution_count": null,
   "outputs": []
  },
  {
   "metadata": {
    "_uuid": "3ee72e47f84b6dbc32e02a783de5ec1661f157e1"
   },
   "cell_type": "markdown",
   "source": "### Confusion Matrix"
  },
  {
   "metadata": {
    "trusted": true,
    "_uuid": "0e920173eb05f04aecdd735bc5dff0f5be5f8d15"
   },
   "cell_type": "code",
   "source": "%%time\ny_pred_1d = []\ny_test_1d = list(df_test.target)\nscores = model.predict(x_test, verbose=1, batch_size=8000)\ny_pred_1d = [decode_sentiment(score, include_neutral=False) for score in scores]",
   "execution_count": null,
   "outputs": []
  },
  {
   "metadata": {
    "trusted": true,
    "_uuid": "b3575191bb425ab871f3f41e83812ee84bb7e595"
   },
   "cell_type": "code",
   "source": "def plot_confusion_matrix(cm, classes,\n                          title='Confusion matrix',\n                          cmap=plt.cm.Blues):\n    \"\"\"\n    This function prints and plots the confusion matrix.\n    Normalization can be applied by setting `normalize=True`.\n    \"\"\"\n\n    cm = cm.astype('float') / cm.sum(axis=1)[:, np.newaxis]\n\n    plt.imshow(cm, interpolation='nearest', cmap=cmap)\n    plt.title(title, fontsize=30)\n    plt.colorbar()\n    tick_marks = np.arange(len(classes))\n    plt.xticks(tick_marks, classes, rotation=90, fontsize=22)\n    plt.yticks(tick_marks, classes, fontsize=22)\n\n    fmt = '.2f'\n    thresh = cm.max() / 2.\n    for i, j in itertools.product(range(cm.shape[0]), range(cm.shape[1])):\n        plt.text(j, i, format(cm[i, j], fmt),\n                 horizontalalignment=\"center\",\n                 color=\"white\" if cm[i, j] > thresh else \"black\")\n\n    plt.ylabel('True label', fontsize=25)\n    plt.xlabel('Predicted label', fontsize=25)",
   "execution_count": null,
   "outputs": []
  },
  {
   "metadata": {
    "trusted": true,
    "_uuid": "a57dc6f6211c144491a70f533225edfa95a2dc66"
   },
   "cell_type": "code",
   "source": "%%time\n\ncnf_matrix = confusion_matrix(y_test_1d, y_pred_1d)\nplt.figure(figsize=(12,12))\nplot_confusion_matrix(cnf_matrix, classes=df_train.target.unique(), title=\"Confusion matrix\")\nplt.show()",
   "execution_count": null,
   "outputs": []
  },
  {
   "metadata": {
    "_uuid": "e23b957348dcc084249d3cc7538b972da471c2cd"
   },
   "cell_type": "markdown",
   "source": "### Classification Report"
  },
  {
   "metadata": {
    "trusted": true,
    "_uuid": "a7fe05b7caa1c984ff1deb0be2f7c6bc043df9f5"
   },
   "cell_type": "code",
   "source": "print(classification_report(y_test_1d, y_pred_1d))",
   "execution_count": null,
   "outputs": []
  },
  {
   "metadata": {
    "_uuid": "4eb300f0c6693a618587c7dcf32f77f5416cbfb9"
   },
   "cell_type": "markdown",
   "source": "### Accuracy Score"
  },
  {
   "metadata": {
    "trusted": true,
    "_uuid": "5cf76e6e09f8a60ed25947932b94c772eda44d23"
   },
   "cell_type": "code",
   "source": "accuracy_score(y_test_1d, y_pred_1d)",
   "execution_count": null,
   "outputs": []
  },
  {
   "metadata": {
    "_uuid": "4f014c32f3833db282e1a075c526604f34e3158c"
   },
   "cell_type": "markdown",
   "source": "### Save model"
  },
  {
   "metadata": {
    "trusted": true,
    "_uuid": "3b2b3ad5b592977b404acfa1c9ad303a62837255"
   },
   "cell_type": "code",
   "source": "model.save(KERAS_MODEL)\nw2v_model.save(WORD2VEC_MODEL)\npickle.dump(tokenizer, open(TOKENIZER_MODEL, \"wb\"), protocol=0)\npickle.dump(encoder, open(ENCODER_MODEL, \"wb\"), protocol=0)",
   "execution_count": null,
   "outputs": []
  },
  {
   "metadata": {
    "trusted": true,
    "_uuid": "cc363c54782894757f5ea8820c6a170f2e16ef93"
   },
   "cell_type": "code",
   "source": "",
   "execution_count": null,
   "outputs": []
  }
 ],
 "metadata": {
  "kernelspec": {
   "display_name": "Python 3",
   "language": "python",
   "name": "python3"
  },
  "language_info": {
   "name": "python",
   "version": "3.6.6",
   "mimetype": "text/x-python",
   "codemirror_mode": {
    "name": "ipython",
    "version": 3
   },
   "pygments_lexer": "ipython3",
   "nbconvert_exporter": "python",
   "file_extension": ".py"
  }
 },
 "nbformat": 4,
 "nbformat_minor": 1
}